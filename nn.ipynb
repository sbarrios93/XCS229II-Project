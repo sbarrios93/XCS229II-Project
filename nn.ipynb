{
 "cells": [
  {
   "cell_type": "code",
<<<<<<< HEAD
<<<<<<< HEAD
<<<<<<< HEAD
<<<<<<< HEAD
   "execution_count": 57,
=======
   "execution_count": 62,
>>>>>>> f1c5f298babad4687b3d045ca88352e1eccfc0ed
=======
   "execution_count": 62,
>>>>>>> f1c5f298babad4687b3d045ca88352e1eccfc0ed
=======
   "execution_count": 62,
>>>>>>> f1c5f298babad4687b3d045ca88352e1eccfc0ed
   "id": "7427b23f-5784-4d73-97c7-7234d561b855",
   "metadata": {},
   "outputs": [],
   "source": [
    "# make simple pytorch neural network\n",
    "import torch\n",
<<<<<<< HEAD
    "import torch\n",
    "import torch.nn as nn\n",
    "from sklearn.model_selection import train_test_split\n",
    "from torch.optim import Adam\n",
    "#import resample\n",
    "from sklearn.utils import resample\n",
    "from torch.utils.data import Dataset, DataLoader\n",
    "from sklearn.metrics import confusion_matrix, classification_report\n",
<<<<<<< HEAD
<<<<<<< HEAD
    "from tqdm import tqdm, trange\n",
    "import numpy as np\n",
    "import torchmetrics \n",
    "import enlighten\n",
    "import pickle\n",
    "import hiddenlayer as hl\n"
=======
    "from tqdm import tqdm\n",
    "import numpy as np"
>>>>>>> f1c5f298babad4687b3d045ca88352e1eccfc0ed
=======
    "from tqdm import tqdm\n",
    "import numpy as np"
>>>>>>> f1c5f298babad4687b3d045ca88352e1eccfc0ed
   ]
  },
  {
   "cell_type": "code",
<<<<<<< HEAD
<<<<<<< HEAD
   "execution_count": 58,
=======
   "execution_count": 63,
>>>>>>> f1c5f298babad4687b3d045ca88352e1eccfc0ed
=======
   "execution_count": 63,
>>>>>>> f1c5f298babad4687b3d045ca88352e1eccfc0ed
   "id": "761adeda-12aa-4ac2-9901-3e625c7323da",
   "metadata": {},
   "outputs": [],
   "source": [
    "#load data\n",
    "data = np.load('data/processed/concatenated_features.npy')\n",
    "\n",
    "SEED = 1706\n",
    "LEARNING_RATE = 0.001\n",
<<<<<<< HEAD
<<<<<<< HEAD
    "EPOCHS = 100\n",
    "BATCH_SIZE = 256"
=======
=======
>>>>>>> f1c5f298babad4687b3d045ca88352e1eccfc0ed
    "EPOCHS = 50\n",
    "BATCH_SIZE = 64"
   ]
  },
  {
   "cell_type": "code",
   "execution_count": 64,
   "id": "1c1f47c1-8dcd-44be-8ee6-ff0f74a14dcf",
   "metadata": {},
   "outputs": [
    {
     "data": {
      "text/plain": [
       "5.247169200905856"
      ]
     },
     "execution_count": 64,
     "metadata": {},
     "output_type": "execute_result"
    }
   ],
   "source": [
    "x_majority.shape[0] / x_minority.shape[0]"
<<<<<<< HEAD
>>>>>>> f1c5f298babad4687b3d045ca88352e1eccfc0ed
=======
>>>>>>> f1c5f298babad4687b3d045ca88352e1eccfc0ed
   ]
  },
  {
   "cell_type": "code",
<<<<<<< HEAD
<<<<<<< HEAD
   "execution_count": 59,
=======
   "execution_count": 161,
>>>>>>> f1c5f298babad4687b3d045ca88352e1eccfc0ed
=======
   "execution_count": 161,
>>>>>>> f1c5f298babad4687b3d045ca88352e1eccfc0ed
   "id": "06096dd1-4ae3-4696-8145-8f223326f123",
   "metadata": {},
   "outputs": [],
   "source": [
    "# split into training and test set\n",
    "x_train, x_test, y_train, y_test = train_test_split(data[:, :-1], data[:, -1], test_size=0.2, random_state=SEED, shuffle=True)\n",
    "\n",
    "# upsample minority class\n",
    "x_minority = x_train[y_train == 0]\n",
    "y_minority = y_train[y_train == 0]\n",
    "x_majority = x_train[y_train == 1]\n",
    "y_majority = y_train[y_train == 1]\n",
    "\n",
    "x_majority_subsample, y_majority_subsample = resample(x_majority, y_majority, replace=False, n_samples=x_minority.shape[0], random_state=SEED)\n",
    "\n",
    "x_train_balanced = np.concatenate((x_majority_subsample, x_minority))\n",
    "y_train_balanced = np.concatenate((y_majority_subsample, y_minority))\n"
   ]
  },
  {
   "cell_type": "code",
<<<<<<< HEAD
<<<<<<< HEAD
   "execution_count": 60,
=======
   "execution_count": 162,
>>>>>>> f1c5f298babad4687b3d045ca88352e1eccfc0ed
=======
   "execution_count": 162,
>>>>>>> f1c5f298babad4687b3d045ca88352e1eccfc0ed
   "id": "e27a40a6-8ad5-4684-86f8-ff8b03206bcb",
   "metadata": {},
   "outputs": [
    {
     "name": "stdout",
     "output_type": "stream",
     "text": [
      "1.10.1+cu113\n",
      "Using cuda device\n",
<<<<<<< HEAD
<<<<<<< HEAD
      "Fri Dec 24 09:42:56 2021       \n",
=======
      "Fri Dec 24 00:18:13 2021       \n",
>>>>>>> f1c5f298babad4687b3d045ca88352e1eccfc0ed
=======
      "Fri Dec 24 00:18:13 2021       \n",
>>>>>>> f1c5f298babad4687b3d045ca88352e1eccfc0ed
      "+-----------------------------------------------------------------------------+\n",
      "| NVIDIA-SMI 470.82.01    Driver Version: 470.82.01    CUDA Version: 11.4     |\n",
      "|-------------------------------+----------------------+----------------------+\n",
      "| GPU  Name        Persistence-M| Bus-Id        Disp.A | Volatile Uncorr. ECC |\n",
      "| Fan  Temp  Perf  Pwr:Usage/Cap|         Memory-Usage | GPU-Util  Compute M. |\n",
      "|                               |                      |               MIG M. |\n",
      "|===============================+======================+======================|\n",
      "|   0  NVIDIA A100-SXM...  On   | 00000000:07:00.0 Off |                    0 |\n",
<<<<<<< HEAD
<<<<<<< HEAD
      "| N/A   21C    P0    57W / 400W |   5684MiB / 40536MiB |      0%      Default |\n",
      "|                               |                      |             Disabled |\n",
      "+-------------------------------+----------------------+----------------------+\n",
      "|   1  NVIDIA A100-SXM...  On   | 00000000:0F:00.0 Off |                    0 |\n",
      "| N/A   17C    P0    50W / 400W |      3MiB / 40536MiB |      0%      Default |\n",
      "|                               |                      |             Disabled |\n",
      "+-------------------------------+----------------------+----------------------+\n",
      "|   2  NVIDIA A100-SXM...  On   | 00000000:47:00.0 Off |                    0 |\n",
      "| N/A   19C    P0    53W / 400W |      3MiB / 40536MiB |      0%      Default |\n",
      "|                               |                      |             Disabled |\n",
      "+-------------------------------+----------------------+----------------------+\n",
      "|   3  NVIDIA A100-SXM...  On   | 00000000:4E:00.0 Off |                    0 |\n",
      "| N/A   19C    P0    51W / 400W |      3MiB / 40536MiB |      0%      Default |\n",
      "|                               |                      |             Disabled |\n",
      "+-------------------------------+----------------------+----------------------+\n",
      "|   4  NVIDIA A100-SXM...  On   | 00000000:87:00.0 Off |                    0 |\n",
      "| N/A   24C    P0    50W / 400W |      3MiB / 40536MiB |      0%      Default |\n",
      "|                               |                      |             Disabled |\n",
      "+-------------------------------+----------------------+----------------------+\n",
      "|   5  NVIDIA A100-SXM...  On   | 00000000:90:00.0 Off |                    0 |\n",
      "| N/A   23C    P0    53W / 400W |      3MiB / 40536MiB |      0%      Default |\n",
      "|                               |                      |             Disabled |\n",
      "+-------------------------------+----------------------+----------------------+\n",
      "|   6  NVIDIA A100-SXM...  On   | 00000000:B7:00.0 Off |                    0 |\n",
      "| N/A   23C    P0    52W / 400W |      3MiB / 40536MiB |      0%      Default |\n",
      "|                               |                      |             Disabled |\n",
      "+-------------------------------+----------------------+----------------------+\n",
      "|   7  NVIDIA A100-SXM...  On   | 00000000:BD:00.0 Off |                    0 |\n",
      "| N/A   22C    P0    50W / 400W |      3MiB / 40536MiB |      0%      Default |\n",
=======
=======
>>>>>>> f1c5f298babad4687b3d045ca88352e1eccfc0ed
      "| N/A   21C    P0    55W / 400W |   6368MiB / 40536MiB |      0%      Default |\n",
      "|                               |                      |             Disabled |\n",
      "+-------------------------------+----------------------+----------------------+\n",
      "|   1  NVIDIA A100-SXM...  On   | 00000000:0F:00.0 Off |                    0 |\n",
      "| N/A   20C    P0    50W / 400W |      3MiB / 40536MiB |      0%      Default |\n",
      "|                               |                      |             Disabled |\n",
      "+-------------------------------+----------------------+----------------------+\n",
      "|   2  NVIDIA A100-SXM...  On   | 00000000:47:00.0 Off |                    0 |\n",
      "| N/A   20C    P0    49W / 400W |      3MiB / 40536MiB |      0%      Default |\n",
      "|                               |                      |             Disabled |\n",
      "+-------------------------------+----------------------+----------------------+\n",
      "|   3  NVIDIA A100-SXM...  On   | 00000000:4E:00.0 Off |                    0 |\n",
      "| N/A   21C    P0    51W / 400W |      3MiB / 40536MiB |      0%      Default |\n",
      "|                               |                      |             Disabled |\n",
      "+-------------------------------+----------------------+----------------------+\n",
      "|   4  NVIDIA A100-SXM...  On   | 00000000:87:00.0 Off |                    0 |\n",
      "| N/A   25C    P0    51W / 400W |      3MiB / 40536MiB |      0%      Default |\n",
      "|                               |                      |             Disabled |\n",
      "+-------------------------------+----------------------+----------------------+\n",
      "|   5  NVIDIA A100-SXM...  On   | 00000000:90:00.0 Off |                    0 |\n",
      "| N/A   23C    P0    51W / 400W |      3MiB / 40536MiB |      0%      Default |\n",
      "|                               |                      |             Disabled |\n",
      "+-------------------------------+----------------------+----------------------+\n",
      "|   6  NVIDIA A100-SXM...  On   | 00000000:B7:00.0 Off |                    0 |\n",
      "| N/A   24C    P0    49W / 400W |      3MiB / 40536MiB |      0%      Default |\n",
      "|                               |                      |             Disabled |\n",
      "+-------------------------------+----------------------+----------------------+\n",
      "|   7  NVIDIA A100-SXM...  On   | 00000000:BD:00.0 Off |                    0 |\n",
      "| N/A   24C    P0    49W / 400W |      3MiB / 40536MiB |      0%      Default |\n",
<<<<<<< HEAD
>>>>>>> f1c5f298babad4687b3d045ca88352e1eccfc0ed
=======
>>>>>>> f1c5f298babad4687b3d045ca88352e1eccfc0ed
      "|                               |                      |             Disabled |\n",
      "+-------------------------------+----------------------+----------------------+\n",
      "                                                                               \n",
      "+-----------------------------------------------------------------------------+\n",
      "| Processes:                                                                  |\n",
      "|  GPU   GI   CI        PID   Type   Process name                  GPU Memory |\n",
      "|        ID   ID                                                   Usage      |\n",
      "|=============================================================================|\n",
<<<<<<< HEAD
<<<<<<< HEAD
      "|    0   N/A  N/A    828777      C   ...vs/pedestrians/bin/python     5681MiB |\n",
=======
      "|    0   N/A  N/A    241726      C   ...vs/pedestrians/bin/python     6365MiB |\n",
>>>>>>> f1c5f298babad4687b3d045ca88352e1eccfc0ed
=======
      "|    0   N/A  N/A    241726      C   ...vs/pedestrians/bin/python     6365MiB |\n",
>>>>>>> f1c5f298babad4687b3d045ca88352e1eccfc0ed
      "+-----------------------------------------------------------------------------+\n"
     ]
    }
   ],
   "source": [
    "print(torch.__version__)\n",
    "\n",
    "\n",
    "device = 'cuda' if torch.cuda.is_available() else 'cpu'\n",
    "print(f'Using {device} device')\n",
    "\n",
    "\n",
    "if torch.cuda.is_available():\n",
    "    !nvidia-smi"
   ]
  },
  {
   "cell_type": "code",
<<<<<<< HEAD
<<<<<<< HEAD
   "execution_count": 61,
=======
   "execution_count": 163,
>>>>>>> f1c5f298babad4687b3d045ca88352e1eccfc0ed
=======
   "execution_count": 163,
>>>>>>> f1c5f298babad4687b3d045ca88352e1eccfc0ed
   "id": "358a3bb3-fd59-4145-8514-2e9ffa89bf33",
   "metadata": {},
   "outputs": [],
   "source": [
    "class TrainData(Dataset):\n",
    "    \n",
    "    def __init__(self, X_data, y_data):\n",
    "        self.X_data = X_data\n",
    "        self.y_data = y_data\n",
    "        \n",
    "    def __getitem__(self, index):\n",
    "        return self.X_data[index], self.y_data[index]\n",
    "        \n",
    "    def __len__ (self):\n",
    "        return len(self.X_data)\n",
    "\n",
    "\n",
    "train_data = TrainData(torch.FloatTensor(x_train_balanced), \n",
    "                       torch.FloatTensor(y_train_balanced))\n",
    "## test data    \n",
    "class TestData(Dataset):\n",
    "    \n",
    "    def __init__(self, X_data):\n",
<<<<<<< HEAD
    "        self.X_data = X_data\n",
    "        \n",
    "    def __getitem__(self, index):\n",
    "        return self.X_data[index]\n",
    "        \n",
    "    def __len__ (self):\n",
    "        return len(self.X_data)\n",
    "    \n",
    "\n",
    "test_data = TestData(torch.FloatTensor(x_test))\n",
    "\n",
    "train_dataloader = DataLoader(train_data, batch_size=BATCH_SIZE, shuffle=True)\n",
    "test_dataloader = DataLoader(test_data, batch_size=1)"
   ]
  },
  {
   "cell_type": "code",
<<<<<<< HEAD
   "execution_count": 62,
=======
   "execution_count": 164,
>>>>>>> f1c5f298babad4687b3d045ca88352e1eccfc0ed
   "id": "8a39b3c1-7a33-470a-926b-fc939a34603d",
   "metadata": {},
   "outputs": [],
   "source": [
    "class NeuralNetwork(nn.Module):\n",
    "    def __init__(self):\n",
    "        super(NeuralNetwork, self).__init__()\n",
    "        \n",
    "        self.linear_1 = nn.Linear(5595, 10024)\n",
    "        self.linear_2 = nn.Linear(10024, 1024)\n",
    "        self.linear_3 = nn.Linear(1024, 256)\n",
    "        self.output_layer = nn.Linear(256, 1)\n",
    "        \n",
    "        self.relu = nn.ReLU()\n",
    "        self.dropout = nn.Dropout(p=0.3)\n",
    "        self.batch_norm1 = nn.BatchNorm1d(10024)\n",
    "        self.batch_norm2 = nn.BatchNorm1d(1024)\n",
    "        self.batch_norm3 = nn.BatchNorm1d(256)\n",
    "\n",
    "    def forward(self, x):\n",
    "        x = self.linear_1(x)\n",
    "        x = self.relu(x)\n",
    "        x = self.batch_norm1(x)\n",
    "        x = self.dropout(x)\n",
    "        x = self.linear_2(x)\n",
    "        x = self.relu(x)\n",
    "        x = self.batch_norm2(x)\n",
    "        x = self.dropout(x)\n",
    "        x = self.linear_3(x)\n",
    "        x = self.relu(x)\n",
    "        x = self.batch_norm3(x)\n",
    "        x = self.dropout(x)\n",
    "        x = self.output_layer(x)\n",
    "        \n",
    "        return x\n",
    "    "
   ]
  },
  {
   "cell_type": "code",
<<<<<<< HEAD
   "execution_count": 63,
=======
   "execution_count": 165,
>>>>>>> f1c5f298babad4687b3d045ca88352e1eccfc0ed
   "id": "67a575cf-9101-4df8-899f-3b95e4ccc298",
   "metadata": {},
   "outputs": [
    {
     "name": "stdout",
     "output_type": "stream",
     "text": [
      "NeuralNetwork(\n",
      "  (linear_1): Linear(in_features=5595, out_features=10024, bias=True)\n",
      "  (linear_2): Linear(in_features=10024, out_features=1024, bias=True)\n",
      "  (linear_3): Linear(in_features=1024, out_features=256, bias=True)\n",
      "  (output_layer): Linear(in_features=256, out_features=1, bias=True)\n",
      "  (relu): ReLU()\n",
      "  (dropout): Dropout(p=0.3, inplace=False)\n",
      "  (batch_norm1): BatchNorm1d(10024, eps=1e-05, momentum=0.1, affine=True, track_running_stats=True)\n",
      "  (batch_norm2): BatchNorm1d(1024, eps=1e-05, momentum=0.1, affine=True, track_running_stats=True)\n",
      "  (batch_norm3): BatchNorm1d(256, eps=1e-05, momentum=0.1, affine=True, track_running_stats=True)\n",
      ")\n"
     ]
    }
   ],
   "source": [
    "model = NeuralNetwork()\n",
    "model.to(device)\n",
    "print(model)"
   ]
  },
  {
   "cell_type": "code",
<<<<<<< HEAD
   "execution_count": 64,
=======
   "execution_count": 166,
>>>>>>> f1c5f298babad4687b3d045ca88352e1eccfc0ed
   "id": "2b87112f-166d-407e-8107-d10a1f3b201a",
   "metadata": {},
   "outputs": [],
   "source": [
    "criterion = nn.BCEWithLogitsLoss()\n",
    "optimizer = Adam(model.parameters(), lr=LEARNING_RATE)"
   ]
  },
  {
   "cell_type": "code",
<<<<<<< HEAD
   "execution_count": 65,
   "id": "a4976ae9-1b2d-4c25-971f-cb8581520196",
=======
   "execution_count": 167,
   "id": "cfbdf475-87a9-4ce6-aac8-b023ffe494a2",
>>>>>>> f1c5f298babad4687b3d045ca88352e1eccfc0ed
   "metadata": {},
   "outputs": [],
   "source": [
    "def binary_acc(y_pred, y_test):\n",
    "    y_pred_tag = torch.round(torch.sigmoid(y_pred))\n",
    "\n",
    "    correct_results_sum = (y_pred_tag == y_test).sum().float()\n",
    "    acc = correct_results_sum/y_test.shape[0]\n",
    "    acc = torch.round(acc * 100)\n",
    "    \n",
    "    return acc"
   ]
  },
  {
   "cell_type": "code",
<<<<<<< HEAD
   "execution_count": 66,
=======
   "execution_count": 108,
>>>>>>> f1c5f298babad4687b3d045ca88352e1eccfc0ed
   "id": "ccd63a55-1b53-43e1-8ed2-8708038872cb",
   "metadata": {},
   "outputs": [
    {
<<<<<<< HEAD
     "data": {
      "text/html": [
       "<style>\n",
       "</style>\n",
       "<div class=\"enlighten\">\n",
       "  <div class=\"enlighten-bar\">\n",
       "    <pre>Epochs 100%|██████████████████████████████████████████████████| 100/100 [00:59&lt;00:00, 1.71 epochs/s]</pre>\n",
       "  </div>\n",
       "  <div class=\"enlighten-bar\">\n",
       "    <pre>batch 4898 batches [00:59, 83.62 batches/s]                                                         </pre>\n",
       "  </div>\n",
       "</div>\n"
      ],
      "text/plain": [
       "<IPython.core.display.HTML object>"
      ]
     },
     "metadata": {},
     "output_type": "display_data"
=======
     "name": "stderr",
     "output_type": "stream",
     "text": [
      "100%|██████████| 194/194 [00:01<00:00, 133.15it/s]\n"
     ]
>>>>>>> f1c5f298babad4687b3d045ca88352e1eccfc0ed
    },
    {
     "name": "stdout",
     "output_type": "stream",
     "text": [
<<<<<<< HEAD
      "Epoch 001: | Loss: 0.46606 | Acc: 76.488 | Acc_2: 77.469\n",
      "Epoch 002: | Loss: 0.35569 | Acc: 80.087 | Acc_2: 84.510\n",
      "Epoch 003: | Loss: 0.30886 | Acc: 82.196 | Acc_2: 86.857\n",
      "Epoch 004: | Loss: 0.26632 | Acc: 83.747 | Acc_2: 88.755\n",
      "Epoch 005: | Loss: 0.22856 | Acc: 85.099 | Acc_2: 90.510\n",
      "Epoch 006: | Loss: 0.20617 | Acc: 86.114 | Acc_2: 91.510\n",
      "Epoch 007: | Loss: 0.17448 | Acc: 87.036 | Acc_2: 93.041\n",
      "Epoch 008: | Loss: 0.15274 | Acc: 87.899 | Acc_2: 94.102\n",
      "Epoch 009: | Loss: 0.13178 | Acc: 88.673 | Acc_2: 94.959\n",
      "Epoch 010: | Loss: 0.11874 | Acc: 89.327 | Acc_2: 95.388\n",
      "Epoch 011: | Loss: 0.10732 | Acc: 89.908 | Acc_2: 95.755\n",
      "Epoch 012: | Loss: 0.09229 | Acc: 90.433 | Acc_2: 96.388\n",
      "Epoch 013: | Loss: 0.09222 | Acc: 90.905 | Acc_2: 96.551\n",
      "Epoch 014: | Loss: 0.08159 | Acc: 91.348 | Acc_2: 96.980\n",
      "Epoch 015: | Loss: 0.07846 | Acc: 91.724 | Acc_2: 97.000\n",
      "Epoch 016: | Loss: 0.06975 | Acc: 92.076 | Acc_2: 97.327\n",
      "Epoch 017: | Loss: 0.06299 | Acc: 92.400 | Acc_2: 97.673\n",
      "Epoch 018: | Loss: 0.06558 | Acc: 92.680 | Acc_2: 97.592\n",
      "Epoch 019: | Loss: 0.05046 | Acc: 92.965 | Acc_2: 98.102\n",
      "Epoch 020: | Loss: 0.05611 | Acc: 93.205 | Acc_2: 97.796\n",
      "Epoch 021: | Loss: 0.05463 | Acc: 93.430 | Acc_2: 97.816\n",
      "Epoch 022: | Loss: 0.04437 | Acc: 93.656 | Acc_2: 98.327\n",
      "Epoch 023: | Loss: 0.04320 | Acc: 93.860 | Acc_2: 98.449\n",
      "Epoch 024: | Loss: 0.05070 | Acc: 94.038 | Acc_2: 98.082\n",
      "Epoch 025: | Loss: 0.04549 | Acc: 94.203 | Acc_2: 98.061\n",
      "Epoch 026: | Loss: 0.04390 | Acc: 94.361 | Acc_2: 98.367\n",
      "Epoch 027: | Loss: 0.03309 | Acc: 94.522 | Acc_2: 98.592\n",
      "Epoch 028: | Loss: 0.03585 | Acc: 94.675 | Acc_2: 98.816\n",
      "Epoch 029: | Loss: 0.03209 | Acc: 94.816 | Acc_2: 98.857\n",
      "Epoch 030: | Loss: 0.03287 | Acc: 94.947 | Acc_2: 98.612\n",
      "Epoch 031: | Loss: 0.03785 | Acc: 95.064 | Acc_2: 98.571\n",
      "Epoch 032: | Loss: 0.03376 | Acc: 95.179 | Acc_2: 98.816\n",
      "Epoch 033: | Loss: 0.02903 | Acc: 95.291 | Acc_2: 98.939\n",
      "Epoch 034: | Loss: 0.02619 | Acc: 95.401 | Acc_2: 99.082\n",
      "Epoch 035: | Loss: 0.02754 | Acc: 95.503 | Acc_2: 99.020\n",
      "Epoch 036: | Loss: 0.02254 | Acc: 95.605 | Acc_2: 99.224\n",
      "Epoch 037: | Loss: 0.02455 | Acc: 95.700 | Acc_2: 99.143\n",
      "Epoch 038: | Loss: 0.03299 | Acc: 95.781 | Acc_2: 98.755\n",
      "Epoch 039: | Loss: 0.03350 | Acc: 95.859 | Acc_2: 98.918\n",
      "Epoch 040: | Loss: 0.03536 | Acc: 95.931 | Acc_2: 98.714\n",
      "Epoch 041: | Loss: 0.03211 | Acc: 96.003 | Acc_2: 98.939\n",
      "Epoch 042: | Loss: 0.03453 | Acc: 96.068 | Acc_2: 98.673\n",
      "Epoch 043: | Loss: 0.02686 | Acc: 96.136 | Acc_2: 99.000\n",
      "Epoch 044: | Loss: 0.02947 | Acc: 96.199 | Acc_2: 98.878\n",
      "Epoch 045: | Loss: 0.02776 | Acc: 96.262 | Acc_2: 99.102\n",
      "Epoch 046: | Loss: 0.02028 | Acc: 96.326 | Acc_2: 99.327\n",
      "Epoch 047: | Loss: 0.02132 | Acc: 96.388 | Acc_2: 99.327\n",
      "Epoch 048: | Loss: 0.02102 | Acc: 96.447 | Acc_2: 99.327\n",
      "Epoch 049: | Loss: 0.02204 | Acc: 96.503 | Acc_2: 99.327\n",
      "Epoch 050: | Loss: 0.02626 | Acc: 96.555 | Acc_2: 99.143\n",
      "Epoch 051: | Loss: 0.02161 | Acc: 96.608 | Acc_2: 99.367\n",
      "Epoch 052: | Loss: 0.01730 | Acc: 96.662 | Acc_2: 99.510\n",
      "Epoch 053: | Loss: 0.02265 | Acc: 96.710 | Acc_2: 99.245\n",
      "Epoch 054: | Loss: 0.02273 | Acc: 96.756 | Acc_2: 99.143\n",
      "Epoch 055: | Loss: 0.02000 | Acc: 96.801 | Acc_2: 99.265\n",
      "Epoch 056: | Loss: 0.01800 | Acc: 96.847 | Acc_2: 99.510\n",
      "Epoch 057: | Loss: 0.01863 | Acc: 96.892 | Acc_2: 99.367\n",
      "Epoch 058: | Loss: 0.03215 | Acc: 96.924 | Acc_2: 98.898\n",
      "Epoch 059: | Loss: 0.02847 | Acc: 96.959 | Acc_2: 99.082\n",
      "Epoch 060: | Loss: 0.03426 | Acc: 96.989 | Acc_2: 98.837\n",
      "Epoch 061: | Loss: 0.01810 | Acc: 97.028 | Acc_2: 99.388\n",
      "Epoch 062: | Loss: 0.01771 | Acc: 97.065 | Acc_2: 99.429\n",
      "Epoch 063: | Loss: 0.01771 | Acc: 97.102 | Acc_2: 99.592\n",
      "Epoch 064: | Loss: 0.01165 | Acc: 97.141 | Acc_2: 99.653\n",
      "Epoch 065: | Loss: 0.01431 | Acc: 97.177 | Acc_2: 99.592\n",
      "Epoch 066: | Loss: 0.01016 | Acc: 97.215 | Acc_2: 99.735\n",
      "Epoch 067: | Loss: 0.01196 | Acc: 97.251 | Acc_2: 99.714\n",
      "Epoch 068: | Loss: 0.01219 | Acc: 97.284 | Acc_2: 99.714\n",
      "Epoch 069: | Loss: 0.01572 | Acc: 97.315 | Acc_2: 99.510\n",
      "Epoch 070: | Loss: 0.01522 | Acc: 97.346 | Acc_2: 99.551\n",
      "Epoch 071: | Loss: 0.01596 | Acc: 97.374 | Acc_2: 99.388\n",
      "Epoch 072: | Loss: 0.02889 | Acc: 97.397 | Acc_2: 99.061\n",
      "Epoch 073: | Loss: 0.02625 | Acc: 97.420 | Acc_2: 99.102\n",
      "Epoch 074: | Loss: 0.02395 | Acc: 97.444 | Acc_2: 99.204\n",
      "Epoch 075: | Loss: 0.02022 | Acc: 97.467 | Acc_2: 99.347\n",
      "Epoch 076: | Loss: 0.01494 | Acc: 97.494 | Acc_2: 99.653\n",
      "Epoch 077: | Loss: 0.01682 | Acc: 97.519 | Acc_2: 99.551\n",
      "Epoch 078: | Loss: 0.01192 | Acc: 97.546 | Acc_2: 99.776\n",
      "Epoch 079: | Loss: 0.01314 | Acc: 97.571 | Acc_2: 99.653\n",
      "Epoch 080: | Loss: 0.01297 | Acc: 97.596 | Acc_2: 99.694\n",
      "Epoch 081: | Loss: 0.01856 | Acc: 97.618 | Acc_2: 99.449\n",
      "Epoch 082: | Loss: 0.02040 | Acc: 97.638 | Acc_2: 99.306\n",
      "Epoch 083: | Loss: 0.01318 | Acc: 97.661 | Acc_2: 99.612\n",
      "Epoch 084: | Loss: 0.01413 | Acc: 97.683 | Acc_2: 99.633\n",
      "Epoch 085: | Loss: 0.01533 | Acc: 97.704 | Acc_2: 99.469\n",
      "Epoch 086: | Loss: 0.01446 | Acc: 97.725 | Acc_2: 99.571\n",
      "Epoch 087: | Loss: 0.01609 | Acc: 97.745 | Acc_2: 99.551\n",
      "Epoch 088: | Loss: 0.01796 | Acc: 97.764 | Acc_2: 99.510\n",
      "Epoch 089: | Loss: 0.02170 | Acc: 97.781 | Acc_2: 99.306\n",
      "Epoch 090: | Loss: 0.01879 | Acc: 97.799 | Acc_2: 99.408\n",
      "Epoch 091: | Loss: 0.02655 | Acc: 97.812 | Acc_2: 98.918\n",
      "Epoch 092: | Loss: 0.01675 | Acc: 97.829 | Acc_2: 99.551\n",
      "Epoch 093: | Loss: 0.01427 | Acc: 97.846 | Acc_2: 99.592\n",
      "Epoch 094: | Loss: 0.01295 | Acc: 97.864 | Acc_2: 99.571\n",
      "Epoch 095: | Loss: 0.01551 | Acc: 97.880 | Acc_2: 99.571\n",
      "Epoch 096: | Loss: 0.01343 | Acc: 97.897 | Acc_2: 99.551\n",
      "Epoch 097: | Loss: 0.01064 | Acc: 97.915 | Acc_2: 99.694\n",
      "Epoch 098: | Loss: 0.01165 | Acc: 97.932 | Acc_2: 99.755\n",
      "Epoch 099: | Loss: 0.00963 | Acc: 97.949 | Acc_2: 99.776\n",
      "Epoch 100: | Loss: 0.00866 | Acc: 97.967 | Acc_2: 99.837\n"
     ]
    },
    {
     "ename": "NameError",
     "evalue": "name '_f1' is not defined",
     "output_type": "error",
     "traceback": [
      "\u001b[0;31m---------------------------------------------------------------------------\u001b[0m",
      "\u001b[0;31mNameError\u001b[0m                                 Traceback (most recent call last)",
      "\u001b[0;32m/tmp/ipykernel_828777/2583970322.py\u001b[0m in \u001b[0;36m<module>\u001b[0;34m\u001b[0m\n\u001b[1;32m     38\u001b[0m \u001b[0;34m\u001b[0m\u001b[0m\n\u001b[1;32m     39\u001b[0m \u001b[0;34m\u001b[0m\u001b[0m\n\u001b[0;32m---> 40\u001b[0;31m \u001b[0mprint\u001b[0m\u001b[0;34m(\u001b[0m\u001b[0m_acc\u001b[0m\u001b[0;34m.\u001b[0m\u001b[0mcompute\u001b[0m\u001b[0;34m(\u001b[0m\u001b[0;34m)\u001b[0m\u001b[0;34m,\u001b[0m \u001b[0m_f1\u001b[0m\u001b[0;34m.\u001b[0m\u001b[0mcompute\u001b[0m\u001b[0;34m(\u001b[0m\u001b[0;34m)\u001b[0m\u001b[0;34m,\u001b[0m \u001b[0m_prcu\u001b[0m\u001b[0;34m.\u001b[0m\u001b[0mcompute\u001b[0m\u001b[0;34m(\u001b[0m\u001b[0;34m)\u001b[0m\u001b[0;34m,\u001b[0m \u001b[0m_av\u001b[0m\u001b[0;34m.\u001b[0m\u001b[0mcompute\u001b[0m\u001b[0;34m(\u001b[0m\u001b[0;34m)\u001b[0m\u001b[0;34m,\u001b[0m \u001b[0m_pre\u001b[0m\u001b[0;34m.\u001b[0m\u001b[0mcompute\u001b[0m\u001b[0;34m(\u001b[0m\u001b[0;34m)\u001b[0m\u001b[0;34m,\u001b[0m \u001b[0m_recall\u001b[0m\u001b[0;34m.\u001b[0m\u001b[0mcompute\u001b[0m\u001b[0;34m(\u001b[0m\u001b[0;34m)\u001b[0m\u001b[0;34m)\u001b[0m\u001b[0;34m\u001b[0m\u001b[0;34m\u001b[0m\u001b[0m\n\u001b[0m",
      "\u001b[0;31mNameError\u001b[0m: name '_f1' is not defined"
     ]
    }
   ],
   "source": [
    "manager = enlighten.get_manager()\n",
    "epoch_tick = manager.counter(total=EPOCHS, desc='Epochs', unit='epochs')\n",
    "batch_tick = manager.counter(total=int(x_train_balanced.__len__()/BATCH_SIZE), desc='batch', unit='batches')\n",
    "\n",
    "_acc = torchmetrics.Accuracy().to(device)\n",
    "\n",
    "model.train()\n",
    "for e in range(1, EPOCHS+1):\n",
    "    epoch_loss = 0\n",
    "    epoch_acc = 0\n",
    "    for X_batch, y_batch in train_dataloader:\n",
    "\n",
    "        X_batch, y_batch = X_batch.to(device), y_batch.to(device)\n",
    "        optimizer.zero_grad()\n",
    "        \n",
    "        \n",
    "        y_pred = model(X_batch)\n",
    "        \n",
    "        acc2 = binary_acc(y_pred, y_batch.unsqueeze(1))\n",
    "        \n",
    "        loss = criterion(y_pred, y_batch.unsqueeze(1))\n",
    "        acc = _acc(y_pred, y_batch.int().unsqueeze(1))\n",
    "\n",
    "        \n",
    "        val_loss = criterion\n",
    "        \n",
    "        loss.backward()\n",
    "        optimizer.step()\n",
    "        \n",
    "        epoch_loss += loss.item()\n",
    "        epoch_acc += acc2.item()\n",
    "        batch_tick.update()\n",
    "    epoch_tick.update()\n",
    "\n",
    "    print(f'Epoch {e+0:03}: | Loss: {epoch_loss/len(train_dataloader):.5f} | Acc: {_acc.compute()*100:.3f} | Acc_2: {epoch_acc/len(train_dataloader):.3f}')\n",
    "    \n",
    "manager.stop()\n",
    "\n",
    "\n",
    "print(_acc.compute(), _f1.compute(), _prcu.compute(), _av.compute(), _pre.compute(), _recall.compute())"
   ]
  },
  {
   "cell_type": "code",
   "execution_count": 54,
   "id": "177022cd-08e0-4d99-b453-217fb3f2f4b0",
   "metadata": {},
   "outputs": [
    {
     "data": {
      "image/svg+xml": [
       "<?xml version=\"1.0\" encoding=\"UTF-8\" standalone=\"no\"?>\n",
       "<!DOCTYPE svg PUBLIC \"-//W3C//DTD SVG 1.1//EN\"\n",
       " \"http://www.w3.org/Graphics/SVG/1.1/DTD/svg11.dtd\">\n",
       "<!-- Generated by graphviz version 2.40.1 (20161225.0304)\n",
       " -->\n",
       "<!-- Title: %3 Pages: 1 -->\n",
       "<svg width=\"1554pt\" height=\"1674pt\"\n",
       " viewBox=\"0.00 0.00 1553.83 1674.00\" xmlns=\"http://www.w3.org/2000/svg\" xmlns:xlink=\"http://www.w3.org/1999/xlink\">\n",
       "<g id=\"graph0\" class=\"graph\" transform=\"scale(.8871 .8871) rotate(0) translate(4 1883)\">\n",
       "<title>%3</title>\n",
       "<polygon fill=\"#ffffff\" stroke=\"transparent\" points=\"-4,4 -4,-1883 1747.5385,-1883 1747.5385,4 -4,4\"/>\n",
       "<!-- 140619982516608 -->\n",
       "<g id=\"node1\" class=\"node\">\n",
       "<title>140619982516608</title>\n",
       "<polygon fill=\"#caff70\" stroke=\"#000000\" points=\"1455.0385,-31 1401.0385,-31 1401.0385,0 1455.0385,0 1455.0385,-31\"/>\n",
       "<text text-anchor=\"middle\" x=\"1428.0385\" y=\"-7\" font-family=\"monospace\" font-size=\"10.00\" fill=\"#000000\"> ()</text>\n",
       "</g>\n",
       "<!-- 140619982964672 -->\n",
       "<g id=\"node2\" class=\"node\">\n",
       "<title>140619982964672</title>\n",
       "<polygon fill=\"#d3d3d3\" stroke=\"#000000\" points=\"1496.5385,-119 1359.5385,-119 1359.5385,-67 1496.5385,-67 1496.5385,-119\"/>\n",
       "<text text-anchor=\"middle\" x=\"1428.0385\" y=\"-107\" font-family=\"monospace\" font-size=\"10.00\" fill=\"#000000\">MeanBackward0</text>\n",
       "<text text-anchor=\"middle\" x=\"1428.0385\" y=\"-96\" font-family=\"monospace\" font-size=\"10.00\" fill=\"#000000\">&#45;&#45;&#45;&#45;&#45;&#45;&#45;&#45;&#45;&#45;&#45;&#45;&#45;&#45;&#45;&#45;&#45;&#45;&#45;&#45;</text>\n",
       "<text text-anchor=\"middle\" x=\"1428.0385\" y=\"-85\" font-family=\"monospace\" font-size=\"10.00\" fill=\"#000000\">self_numel: &#160;&#160;&#160;&#160;&#160;256</text>\n",
       "<text text-anchor=\"middle\" x=\"1428.0385\" y=\"-74\" font-family=\"monospace\" font-size=\"10.00\" fill=\"#000000\">self_sizes: (256, 1)</text>\n",
       "</g>\n",
       "<!-- 140619982964672&#45;&gt;140619982516608 -->\n",
       "<g id=\"edge77\" class=\"edge\">\n",
       "<title>140619982964672&#45;&gt;140619982516608</title>\n",
       "<path fill=\"none\" stroke=\"#000000\" d=\"M1428.0385,-66.762C1428.0385,-58.5792 1428.0385,-49.5624 1428.0385,-41.4027\"/>\n",
       "<polygon fill=\"#000000\" stroke=\"#000000\" points=\"1431.5386,-41.3117 1428.0385,-31.3118 1424.5386,-41.3118 1431.5386,-41.3117\"/>\n",
       "</g>\n",
       "<!-- 140619984675744 -->\n",
       "<g id=\"node3\" class=\"node\">\n",
       "<title>140619984675744</title>\n",
       "<polygon fill=\"#d3d3d3\" stroke=\"#000000\" points=\"1648.5385,-273 1463.5385,-273 1463.5385,-155 1648.5385,-155 1648.5385,-273\"/>\n",
       "<text text-anchor=\"middle\" x=\"1556.0385\" y=\"-261\" font-family=\"monospace\" font-size=\"10.00\" fill=\"#000000\">AddmmBackward0</text>\n",
       "<text text-anchor=\"middle\" x=\"1556.0385\" y=\"-250\" font-family=\"monospace\" font-size=\"10.00\" fill=\"#000000\">&#45;&#45;&#45;&#45;&#45;&#45;&#45;&#45;&#45;&#45;&#45;&#45;&#45;&#45;&#45;&#45;&#45;&#45;&#45;&#45;&#45;&#45;&#45;&#45;&#45;&#45;&#45;&#45;</text>\n",
       "<text text-anchor=\"middle\" x=\"1556.0385\" y=\"-239\" font-family=\"monospace\" font-size=\"10.00\" fill=\"#000000\">alpha &#160;&#160;&#160;&#160;&#160;&#160;: &#160;&#160;&#160;&#160;&#160;&#160;&#160;&#160;&#160;&#160;&#160;&#160;&#160;1</text>\n",
       "<text text-anchor=\"middle\" x=\"1556.0385\" y=\"-228\" font-family=\"monospace\" font-size=\"10.00\" fill=\"#000000\">beta &#160;&#160;&#160;&#160;&#160;&#160;&#160;: &#160;&#160;&#160;&#160;&#160;&#160;&#160;&#160;&#160;&#160;&#160;&#160;&#160;1</text>\n",
       "<text text-anchor=\"middle\" x=\"1556.0385\" y=\"-217\" font-family=\"monospace\" font-size=\"10.00\" fill=\"#000000\">mat1 &#160;&#160;&#160;&#160;&#160;&#160;&#160;: [saved tensor]</text>\n",
       "<text text-anchor=\"middle\" x=\"1556.0385\" y=\"-206\" font-family=\"monospace\" font-size=\"10.00\" fill=\"#000000\">mat1_sizes &#160;: &#160;&#160;&#160;&#160;(256, 256)</text>\n",
       "<text text-anchor=\"middle\" x=\"1556.0385\" y=\"-195\" font-family=\"monospace\" font-size=\"10.00\" fill=\"#000000\">mat1_strides: &#160;&#160;&#160;&#160;&#160;&#160;(256, 1)</text>\n",
       "<text text-anchor=\"middle\" x=\"1556.0385\" y=\"-184\" font-family=\"monospace\" font-size=\"10.00\" fill=\"#000000\">mat2 &#160;&#160;&#160;&#160;&#160;&#160;&#160;: [saved tensor]</text>\n",
       "<text text-anchor=\"middle\" x=\"1556.0385\" y=\"-173\" font-family=\"monospace\" font-size=\"10.00\" fill=\"#000000\">mat2_sizes &#160;: &#160;&#160;&#160;&#160;&#160;&#160;(256, 1)</text>\n",
       "<text text-anchor=\"middle\" x=\"1556.0385\" y=\"-162\" font-family=\"monospace\" font-size=\"10.00\" fill=\"#000000\">mat2_strides: &#160;&#160;&#160;&#160;&#160;&#160;(1, 256)</text>\n",
       "</g>\n",
       "<!-- 140619984675744&#45;&gt;140619982964672 -->\n",
       "<g id=\"edge1\" class=\"edge\">\n",
       "<title>140619984675744&#45;&gt;140619982964672</title>\n",
       "<path fill=\"none\" stroke=\"#000000\" d=\"M1493.5384,-154.9179C1483.0227,-144.9772 1472.453,-134.9855 1462.9657,-126.0171\"/>\n",
       "<polygon fill=\"#000000\" stroke=\"#000000\" points=\"1465.2822,-123.3905 1455.6108,-119.0644 1460.4734,-128.4774 1465.2822,-123.3905\"/>\n",
       "</g>\n",
       "<!-- 140620004549952 -->\n",
       "<g id=\"node4\" class=\"node\">\n",
       "<title>140620004549952</title>\n",
       "<polygon fill=\"#ffa500\" stroke=\"#000000\" points=\"1597.5385,-108 1514.5385,-108 1514.5385,-78 1597.5385,-78 1597.5385,-108\"/>\n",
       "<text text-anchor=\"middle\" x=\"1556.0385\" y=\"-96\" font-family=\"monospace\" font-size=\"10.00\" fill=\"#000000\">mat1</text>\n",
       "<text text-anchor=\"middle\" x=\"1556.0385\" y=\"-85\" font-family=\"monospace\" font-size=\"10.00\" fill=\"#000000\"> (256, 256)</text>\n",
       "</g>\n",
       "<!-- 140619984675744&#45;&gt;140620004549952 -->\n",
       "<g id=\"edge2\" class=\"edge\">\n",
       "<title>140619984675744&#45;&gt;140620004549952</title>\n",
       "<path fill=\"none\" stroke=\"#000000\" d=\"M1556.0385,-154.9179C1556.0385,-137.6406 1556.0385,-120.209 1556.0385,-108.2634\"/>\n",
       "</g>\n",
       "<!-- 140620005362480 -->\n",
       "<g id=\"node5\" class=\"node\">\n",
       "<title>140620005362480</title>\n",
       "<polygon fill=\"#ffa500\" stroke=\"#000000\" points=\"1686.5385,-108 1615.5385,-108 1615.5385,-78 1686.5385,-78 1686.5385,-108\"/>\n",
       "<text text-anchor=\"middle\" x=\"1651.0385\" y=\"-96\" font-family=\"monospace\" font-size=\"10.00\" fill=\"#000000\">mat2</text>\n",
       "<text text-anchor=\"middle\" x=\"1651.0385\" y=\"-85\" font-family=\"monospace\" font-size=\"10.00\" fill=\"#000000\"> (256, 1)</text>\n",
       "</g>\n",
       "<!-- 140619984675744&#45;&gt;140620005362480 -->\n",
       "<g id=\"edge3\" class=\"edge\">\n",
       "<title>140619984675744&#45;&gt;140620005362480</title>\n",
       "<path fill=\"none\" stroke=\"#000000\" d=\"M1602.4254,-154.9179C1615.9902,-137.6406 1629.6761,-120.209 1639.0549,-108.2634\"/>\n",
       "</g>\n",
       "<!-- 140620008377456 -->\n",
       "<g id=\"node6\" class=\"node\">\n",
       "<title>140620008377456</title>\n",
       "<polygon fill=\"#d3d3d3\" stroke=\"#000000\" points=\"1606.5385,-344.5 1505.5385,-344.5 1505.5385,-325.5 1606.5385,-325.5 1606.5385,-344.5\"/>\n",
       "<text text-anchor=\"middle\" x=\"1556.0385\" y=\"-332.5\" font-family=\"monospace\" font-size=\"10.00\" fill=\"#000000\">AccumulateGrad</text>\n",
       "</g>\n",
       "<!-- 140620008377456&#45;&gt;140619984675744 -->\n",
       "<g id=\"edge4\" class=\"edge\">\n",
       "<title>140620008377456&#45;&gt;140619984675744</title>\n",
       "<path fill=\"none\" stroke=\"#000000\" d=\"M1556.0385,-325.0981C1556.0385,-315.4694 1556.0385,-299.9234 1556.0385,-283.4722\"/>\n",
       "<polygon fill=\"#000000\" stroke=\"#000000\" points=\"1559.5386,-283.1569 1556.0385,-273.1569 1552.5386,-283.1569 1559.5386,-283.1569\"/>\n",
       "</g>\n",
       "<!-- 140620005381760 -->\n",
       "<g id=\"node7\" class=\"node\">\n",
       "<title>140620005381760</title>\n",
       "<polygon fill=\"#add8e6\" stroke=\"#000000\" points=\"1609.5385,-471 1490.5385,-471 1490.5385,-441 1609.5385,-441 1609.5385,-471\"/>\n",
       "<text text-anchor=\"middle\" x=\"1550.0385\" y=\"-459\" font-family=\"monospace\" font-size=\"10.00\" fill=\"#000000\">output_layer.bias</text>\n",
       "<text text-anchor=\"middle\" x=\"1550.0385\" y=\"-448\" font-family=\"monospace\" font-size=\"10.00\" fill=\"#000000\"> (1)</text>\n",
       "</g>\n",
       "<!-- 140620005381760&#45;&gt;140620008377456 -->\n",
       "<g id=\"edge5\" class=\"edge\">\n",
       "<title>140620005381760&#45;&gt;140620008377456</title>\n",
       "<path fill=\"none\" stroke=\"#000000\" d=\"M1550.7985,-440.6753C1551.8819,-418.8257 1553.871,-378.7124 1555.0623,-354.6873\"/>\n",
       "<polygon fill=\"#000000\" stroke=\"#000000\" points=\"1558.5619,-354.7807 1555.5615,-344.6196 1551.5705,-354.4339 1558.5619,-354.7807\"/>\n",
       "</g>\n",
       "<!-- 140619982199968 -->\n",
       "<g id=\"node8\" class=\"node\">\n",
       "<title>140619982199968</title>\n",
       "<polygon fill=\"#d3d3d3\" stroke=\"#000000\" points=\"1386.5385,-361 1231.5385,-361 1231.5385,-309 1386.5385,-309 1386.5385,-361\"/>\n",
       "<text text-anchor=\"middle\" x=\"1309.0385\" y=\"-349\" font-family=\"monospace\" font-size=\"10.00\" fill=\"#000000\">FusedDropoutBackward0</text>\n",
       "<text text-anchor=\"middle\" x=\"1309.0385\" y=\"-338\" font-family=\"monospace\" font-size=\"10.00\" fill=\"#000000\">&#45;&#45;&#45;&#45;&#45;&#45;&#45;&#45;&#45;&#45;&#45;&#45;&#45;&#45;&#45;&#45;&#45;&#45;&#45;&#45;&#45;&#45;&#45;</text>\n",
       "<text text-anchor=\"middle\" x=\"1309.0385\" y=\"-327\" font-family=\"monospace\" font-size=\"10.00\" fill=\"#000000\">p &#160;&#160;&#160;&#160;&#160;: &#160;&#160;&#160;&#160;&#160;&#160;&#160;&#160;&#160;&#160;&#160;0.7</text>\n",
       "<text text-anchor=\"middle\" x=\"1309.0385\" y=\"-316\" font-family=\"monospace\" font-size=\"10.00\" fill=\"#000000\">result1: [saved tensor]</text>\n",
       "</g>\n",
       "<!-- 140619982199968&#45;&gt;140619984675744 -->\n",
       "<g id=\"edge6\" class=\"edge\">\n",
       "<title>140619982199968&#45;&gt;140619984675744</title>\n",
       "<path fill=\"none\" stroke=\"#000000\" d=\"M1362.3298,-308.8938C1389.1778,-295.7415 1422.6548,-279.3419 1454.1879,-263.8944\"/>\n",
       "<polygon fill=\"#000000\" stroke=\"#000000\" points=\"1456.0204,-266.8942 1463.461,-259.3518 1452.9409,-260.608 1456.0204,-266.8942\"/>\n",
       "</g>\n",
       "<!-- 140620007712624 -->\n",
       "<g id=\"node9\" class=\"node\">\n",
       "<title>140620007712624</title>\n",
       "<polygon fill=\"#ffa500\" stroke=\"#000000\" points=\"1350.5385,-229 1267.5385,-229 1267.5385,-199 1350.5385,-199 1350.5385,-229\"/>\n",
       "<text text-anchor=\"middle\" x=\"1309.0385\" y=\"-217\" font-family=\"monospace\" font-size=\"10.00\" fill=\"#000000\">result1</text>\n",
       "<text text-anchor=\"middle\" x=\"1309.0385\" y=\"-206\" font-family=\"monospace\" font-size=\"10.00\" fill=\"#000000\"> (256, 256)</text>\n",
       "</g>\n",
       "<!-- 140619982199968&#45;&gt;140620007712624 -->\n",
       "<g id=\"edge7\" class=\"edge\">\n",
       "<title>140619982199968&#45;&gt;140620007712624</title>\n",
       "<path fill=\"none\" stroke=\"#000000\" d=\"M1309.0385,-308.7448C1309.0385,-284.4177 1309.0385,-249.076 1309.0385,-229.1468\"/>\n",
       "</g>\n",
       "<!-- 140619982199872 -->\n",
       "<g id=\"node10\" class=\"node\">\n",
       "<title>140619982199872</title>\n",
       "<polygon fill=\"#d3d3d3\" stroke=\"#000000\" points=\"1069.5385,-515 884.5385,-515 884.5385,-397 1069.5385,-397 1069.5385,-515\"/>\n",
       "<text text-anchor=\"middle\" x=\"977.0385\" y=\"-503\" font-family=\"monospace\" font-size=\"10.00\" fill=\"#000000\">NativeBatchNormBackward0</text>\n",
       "<text text-anchor=\"middle\" x=\"977.0385\" y=\"-492\" font-family=\"monospace\" font-size=\"10.00\" fill=\"#000000\">&#45;&#45;&#45;&#45;&#45;&#45;&#45;&#45;&#45;&#45;&#45;&#45;&#45;&#45;&#45;&#45;&#45;&#45;&#45;&#45;&#45;&#45;&#45;&#45;&#45;&#45;&#45;&#45;</text>\n",
       "<text text-anchor=\"middle\" x=\"977.0385\" y=\"-481\" font-family=\"monospace\" font-size=\"10.00\" fill=\"#000000\">eps &#160;&#160;&#160;&#160;&#160;&#160;&#160;&#160;: &#160;&#160;&#160;&#160;&#160;&#160;&#160;&#160;&#160;1e&#45;05</text>\n",
       "<text text-anchor=\"middle\" x=\"977.0385\" y=\"-470\" font-family=\"monospace\" font-size=\"10.00\" fill=\"#000000\">input &#160;&#160;&#160;&#160;&#160;&#160;: [saved tensor]</text>\n",
       "<text text-anchor=\"middle\" x=\"977.0385\" y=\"-459\" font-family=\"monospace\" font-size=\"10.00\" fill=\"#000000\">result1 &#160;&#160;&#160;&#160;: [saved tensor]</text>\n",
       "<text text-anchor=\"middle\" x=\"977.0385\" y=\"-448\" font-family=\"monospace\" font-size=\"10.00\" fill=\"#000000\">result2 &#160;&#160;&#160;&#160;: [saved tensor]</text>\n",
       "<text text-anchor=\"middle\" x=\"977.0385\" y=\"-437\" font-family=\"monospace\" font-size=\"10.00\" fill=\"#000000\">running_mean: [saved tensor]</text>\n",
       "<text text-anchor=\"middle\" x=\"977.0385\" y=\"-426\" font-family=\"monospace\" font-size=\"10.00\" fill=\"#000000\">running_var : [saved tensor]</text>\n",
       "<text text-anchor=\"middle\" x=\"977.0385\" y=\"-415\" font-family=\"monospace\" font-size=\"10.00\" fill=\"#000000\">training &#160;&#160;&#160;: &#160;&#160;&#160;&#160;&#160;&#160;&#160;&#160;&#160;&#160;True</text>\n",
       "<text text-anchor=\"middle\" x=\"977.0385\" y=\"-404\" font-family=\"monospace\" font-size=\"10.00\" fill=\"#000000\">weight &#160;&#160;&#160;&#160;&#160;: [saved tensor]</text>\n",
       "</g>\n",
       "<!-- 140619982199872&#45;&gt;140619982199968 -->\n",
       "<g id=\"edge8\" class=\"edge\">\n",
       "<title>140619982199872&#45;&gt;140619982199968</title>\n",
       "<path fill=\"none\" stroke=\"#000000\" d=\"M1069.9605,-422.1339C1119.583,-404.0485 1180.0907,-381.9961 1227.8178,-364.6015\"/>\n",
       "<polygon fill=\"#000000\" stroke=\"#000000\" points=\"1229.2954,-367.7883 1237.4924,-361.0756 1226.8984,-361.2115 1229.2954,-367.7883\"/>\n",
       "</g>\n",
       "<!-- 140620004551712 -->\n",
       "<g id=\"node11\" class=\"node\">\n",
       "<title>140620004551712</title>\n",
       "<polygon fill=\"#ffa500\" stroke=\"#000000\" points=\"1487.5385,-350 1404.5385,-350 1404.5385,-320 1487.5385,-320 1487.5385,-350\"/>\n",
       "<text text-anchor=\"middle\" x=\"1446.0385\" y=\"-338\" font-family=\"monospace\" font-size=\"10.00\" fill=\"#000000\">input</text>\n",
       "<text text-anchor=\"middle\" x=\"1446.0385\" y=\"-327\" font-family=\"monospace\" font-size=\"10.00\" fill=\"#000000\"> (256, 256)</text>\n",
       "</g>\n",
       "<!-- 140619982199872&#45;&gt;140620004551712 -->\n",
       "<g id=\"edge9\" class=\"edge\">\n",
       "<title>140619982199872&#45;&gt;140620004551712</title>\n",
       "<path fill=\"none\" stroke=\"#000000\" d=\"M1069.6825,-427.4346C1105.5025,-416.9933 1146.9687,-405.6366 1185.0385,-397 1277.3868,-376.0497 1305.1693,-390.8435 1395.0385,-361 1403.5273,-358.1811 1412.3508,-354.1307 1420.2245,-350.0632\"/>\n",
       "</g>\n",
       "<!-- 140620007713984 -->\n",
       "<g id=\"node12\" class=\"node\">\n",
       "<title>140620007713984</title>\n",
       "<polygon fill=\"#ffa500\" stroke=\"#000000\" points=\"785.5385,-350 726.5385,-350 726.5385,-320 785.5385,-320 785.5385,-350\"/>\n",
       "<text text-anchor=\"middle\" x=\"756.0385\" y=\"-338\" font-family=\"monospace\" font-size=\"10.00\" fill=\"#000000\">result1</text>\n",
       "<text text-anchor=\"middle\" x=\"756.0385\" y=\"-327\" font-family=\"monospace\" font-size=\"10.00\" fill=\"#000000\"> (256)</text>\n",
       "</g>\n",
       "<!-- 140619982199872&#45;&gt;140620007713984 -->\n",
       "<g id=\"edge10\" class=\"edge\">\n",
       "<title>140619982199872&#45;&gt;140620007713984</title>\n",
       "<path fill=\"none\" stroke=\"#000000\" d=\"M884.1539,-410.5424C854.9073,-395.4985 822.7556,-378.192 794.0385,-361 788.4146,-357.6331 782.4946,-353.7555 777.0454,-350.0398\"/>\n",
       "</g>\n",
       "<!-- 140620007713344 -->\n",
       "<g id=\"node13\" class=\"node\">\n",
       "<title>140620007713344</title>\n",
       "<polygon fill=\"#ffa500\" stroke=\"#000000\" points=\"862.5385,-350 803.5385,-350 803.5385,-320 862.5385,-320 862.5385,-350\"/>\n",
       "<text text-anchor=\"middle\" x=\"833.0385\" y=\"-338\" font-family=\"monospace\" font-size=\"10.00\" fill=\"#000000\">result2</text>\n",
       "<text text-anchor=\"middle\" x=\"833.0385\" y=\"-327\" font-family=\"monospace\" font-size=\"10.00\" fill=\"#000000\"> (256)</text>\n",
       "</g>\n",
       "<!-- 140619982199872&#45;&gt;140620007713344 -->\n",
       "<g id=\"edge11\" class=\"edge\">\n",
       "<title>140619982199872&#45;&gt;140620007713344</title>\n",
       "<path fill=\"none\" stroke=\"#000000\" d=\"M906.7259,-396.9179C886.0217,-379.5206 865.1314,-361.9669 850.9081,-350.0154\"/>\n",
       "</g>\n",
       "<!-- 140620005383200 -->\n",
       "<g id=\"node14\" class=\"node\">\n",
       "<title>140620005383200</title>\n",
       "<polygon fill=\"#ffa500\" stroke=\"#000000\" points=\"969.5385,-350 880.5385,-350 880.5385,-320 969.5385,-320 969.5385,-350\"/>\n",
       "<text text-anchor=\"middle\" x=\"925.0385\" y=\"-338\" font-family=\"monospace\" font-size=\"10.00\" fill=\"#000000\">running_mean</text>\n",
       "<text text-anchor=\"middle\" x=\"925.0385\" y=\"-327\" font-family=\"monospace\" font-size=\"10.00\" fill=\"#000000\"> (256)</text>\n",
       "</g>\n",
       "<!-- 140619982199872&#45;&gt;140620005383200 -->\n",
       "<g id=\"edge12\" class=\"edge\">\n",
       "<title>140619982199872&#45;&gt;140620005383200</title>\n",
       "<path fill=\"none\" stroke=\"#000000\" d=\"M951.6479,-396.9179C944.2229,-379.6406 936.7317,-362.209 931.598,-350.2634\"/>\n",
       "</g>\n",
       "<!-- 140620005383120 -->\n",
       "<g id=\"node15\" class=\"node\">\n",
       "<title>140620005383120</title>\n",
       "<polygon fill=\"#ffa500\" stroke=\"#000000\" points=\"1070.5385,-350 987.5385,-350 987.5385,-320 1070.5385,-320 1070.5385,-350\"/>\n",
       "<text text-anchor=\"middle\" x=\"1029.0385\" y=\"-338\" font-family=\"monospace\" font-size=\"10.00\" fill=\"#000000\">running_var</text>\n",
       "<text text-anchor=\"middle\" x=\"1029.0385\" y=\"-327\" font-family=\"monospace\" font-size=\"10.00\" fill=\"#000000\"> (256)</text>\n",
       "</g>\n",
       "<!-- 140619982199872&#45;&gt;140620005383120 -->\n",
       "<g id=\"edge13\" class=\"edge\">\n",
       "<title>140619982199872&#45;&gt;140620005383120</title>\n",
       "<path fill=\"none\" stroke=\"#000000\" d=\"M1002.4292,-396.9179C1009.8542,-379.6406 1017.3454,-362.209 1022.4791,-350.2634\"/>\n",
       "</g>\n",
       "<!-- 140620005383440 -->\n",
       "<g id=\"node16\" class=\"node\">\n",
       "<title>140620005383440</title>\n",
       "<polygon fill=\"#add8e6\" stroke=\"#000000\" points=\"1213.5385,-350 1088.5385,-350 1088.5385,-320 1213.5385,-320 1213.5385,-350\"/>\n",
       "<text text-anchor=\"middle\" x=\"1151.0385\" y=\"-338\" font-family=\"monospace\" font-size=\"10.00\" fill=\"#000000\">batch_norm3.weight</text>\n",
       "<text text-anchor=\"middle\" x=\"1151.0385\" y=\"-327\" font-family=\"monospace\" font-size=\"10.00\" fill=\"#000000\"> (256)</text>\n",
       "</g>\n",
       "<!-- 140619982199872&#45;&gt;140620005383440 -->\n",
       "<g id=\"edge14\" class=\"edge\">\n",
       "<title>140619982199872&#45;&gt;140620005383440</title>\n",
       "<path fill=\"none\" stroke=\"#000000\" d=\"M1061.9997,-396.9179C1087.0172,-379.5206 1112.2597,-361.9669 1129.4462,-350.0154\"/>\n",
       "</g>\n",
       "<!-- 140619982199632 -->\n",
       "<g id=\"node70\" class=\"node\">\n",
       "<title>140619982199632</title>\n",
       "<polygon fill=\"#d3d3d3\" stroke=\"#000000\" points=\"975.5385,-223.5 874.5385,-223.5 874.5385,-204.5 975.5385,-204.5 975.5385,-223.5\"/>\n",
       "<text text-anchor=\"middle\" x=\"925.0385\" y=\"-211.5\" font-family=\"monospace\" font-size=\"10.00\" fill=\"#000000\">AccumulateGrad</text>\n",
       "</g>\n",
       "<!-- 140620005383440&#45;&gt;140619982199632 -->\n",
       "<g id=\"edge71\" class=\"edge\">\n",
       "<title>140620005383440&#45;&gt;140619982199632</title>\n",
       "<path fill=\"none\" stroke=\"#000000\" d=\"M1122.8724,-319.9199C1078.9797,-296.4198 994.844,-251.3737 951.817,-228.3371\"/>\n",
       "<polygon fill=\"#000000\" stroke=\"#000000\" points=\"953.2632,-225.1414 942.7952,-223.5069 949.9592,-231.3126 953.2632,-225.1414\"/>\n",
       "</g>\n",
       "<!-- 140619982199392 -->\n",
       "<g id=\"node17\" class=\"node\">\n",
       "<title>140619982199392</title>\n",
       "<polygon fill=\"#d3d3d3\" stroke=\"#000000\" points=\"1310.5385,-592 1161.5385,-592 1161.5385,-551 1310.5385,-551 1310.5385,-592\"/>\n",
       "<text text-anchor=\"middle\" x=\"1236.0385\" y=\"-580\" font-family=\"monospace\" font-size=\"10.00\" fill=\"#000000\">ReluBackward0</text>\n",
       "<text text-anchor=\"middle\" x=\"1236.0385\" y=\"-569\" font-family=\"monospace\" font-size=\"10.00\" fill=\"#000000\">&#45;&#45;&#45;&#45;&#45;&#45;&#45;&#45;&#45;&#45;&#45;&#45;&#45;&#45;&#45;&#45;&#45;&#45;&#45;&#45;&#45;&#45;</text>\n",
       "<text text-anchor=\"middle\" x=\"1236.0385\" y=\"-558\" font-family=\"monospace\" font-size=\"10.00\" fill=\"#000000\">result: [saved tensor]</text>\n",
       "</g>\n",
       "<!-- 140619982199392&#45;&gt;140619982199872 -->\n",
       "<g id=\"edge15\" class=\"edge\">\n",
       "<title>140619982199392&#45;&gt;140619982199872</title>\n",
       "<path fill=\"none\" stroke=\"#000000\" d=\"M1190.033,-550.984C1159.148,-537.211 1117.2176,-518.5123 1078.7273,-501.3477\"/>\n",
       "<polygon fill=\"#000000\" stroke=\"#000000\" points=\"1080.1025,-498.1287 1069.544,-497.2524 1077.2515,-504.5219 1080.1025,-498.1287\"/>\n",
       "</g>\n",
       "<!-- 140619982519248 -->\n",
       "<g id=\"node18\" class=\"node\">\n",
       "<title>140619982519248</title>\n",
       "<polygon fill=\"#ffa500\" stroke=\"#000000\" points=\"1277.5385,-471 1194.5385,-471 1194.5385,-441 1277.5385,-441 1277.5385,-471\"/>\n",
       "<text text-anchor=\"middle\" x=\"1236.0385\" y=\"-459\" font-family=\"monospace\" font-size=\"10.00\" fill=\"#000000\">result</text>\n",
       "<text text-anchor=\"middle\" x=\"1236.0385\" y=\"-448\" font-family=\"monospace\" font-size=\"10.00\" fill=\"#000000\"> (256, 256)</text>\n",
       "</g>\n",
       "<!-- 140619982199392&#45;&gt;140619982519248 -->\n",
       "<g id=\"edge16\" class=\"edge\">\n",
       "<title>140619982199392&#45;&gt;140619982519248</title>\n",
       "<path fill=\"none\" stroke=\"#000000\" d=\"M1236.0385,-550.8509C1236.0385,-528.0109 1236.0385,-491.744 1236.0385,-471.3077\"/>\n",
       "</g>\n",
       "<!-- 140619982199104 -->\n",
       "<g id=\"node19\" class=\"node\">\n",
       "<title>140619982199104</title>\n",
       "<polygon fill=\"#d3d3d3\" stroke=\"#000000\" points=\"1281.5385,-746 1096.5385,-746 1096.5385,-628 1281.5385,-628 1281.5385,-746\"/>\n",
       "<text text-anchor=\"middle\" x=\"1189.0385\" y=\"-734\" font-family=\"monospace\" font-size=\"10.00\" fill=\"#000000\">AddmmBackward0</text>\n",
       "<text text-anchor=\"middle\" x=\"1189.0385\" y=\"-723\" font-family=\"monospace\" font-size=\"10.00\" fill=\"#000000\">&#45;&#45;&#45;&#45;&#45;&#45;&#45;&#45;&#45;&#45;&#45;&#45;&#45;&#45;&#45;&#45;&#45;&#45;&#45;&#45;&#45;&#45;&#45;&#45;&#45;&#45;&#45;&#45;</text>\n",
       "<text text-anchor=\"middle\" x=\"1189.0385\" y=\"-712\" font-family=\"monospace\" font-size=\"10.00\" fill=\"#000000\">alpha &#160;&#160;&#160;&#160;&#160;&#160;: &#160;&#160;&#160;&#160;&#160;&#160;&#160;&#160;&#160;&#160;&#160;&#160;&#160;1</text>\n",
       "<text text-anchor=\"middle\" x=\"1189.0385\" y=\"-701\" font-family=\"monospace\" font-size=\"10.00\" fill=\"#000000\">beta &#160;&#160;&#160;&#160;&#160;&#160;&#160;: &#160;&#160;&#160;&#160;&#160;&#160;&#160;&#160;&#160;&#160;&#160;&#160;&#160;1</text>\n",
       "<text text-anchor=\"middle\" x=\"1189.0385\" y=\"-690\" font-family=\"monospace\" font-size=\"10.00\" fill=\"#000000\">mat1 &#160;&#160;&#160;&#160;&#160;&#160;&#160;: [saved tensor]</text>\n",
       "<text text-anchor=\"middle\" x=\"1189.0385\" y=\"-679\" font-family=\"monospace\" font-size=\"10.00\" fill=\"#000000\">mat1_sizes &#160;: &#160;&#160;&#160;(256, 1024)</text>\n",
       "<text text-anchor=\"middle\" x=\"1189.0385\" y=\"-668\" font-family=\"monospace\" font-size=\"10.00\" fill=\"#000000\">mat1_strides: &#160;&#160;&#160;&#160;&#160;(1024, 1)</text>\n",
       "<text text-anchor=\"middle\" x=\"1189.0385\" y=\"-657\" font-family=\"monospace\" font-size=\"10.00\" fill=\"#000000\">mat2 &#160;&#160;&#160;&#160;&#160;&#160;&#160;: [saved tensor]</text>\n",
       "<text text-anchor=\"middle\" x=\"1189.0385\" y=\"-646\" font-family=\"monospace\" font-size=\"10.00\" fill=\"#000000\">mat2_sizes &#160;: &#160;&#160;&#160;(1024, 256)</text>\n",
       "<text text-anchor=\"middle\" x=\"1189.0385\" y=\"-635\" font-family=\"monospace\" font-size=\"10.00\" fill=\"#000000\">mat2_strides: &#160;&#160;&#160;&#160;&#160;(1, 1024)</text>\n",
       "</g>\n",
       "<!-- 140619982199104&#45;&gt;140619982199392 -->\n",
       "<g id=\"edge17\" class=\"edge\">\n",
       "<title>140619982199104&#45;&gt;140619982199392</title>\n",
       "<path fill=\"none\" stroke=\"#000000\" d=\"M1213.0893,-627.8966C1216.8144,-618.7423 1220.5211,-609.6333 1223.8346,-601.4905\"/>\n",
       "<polygon fill=\"#000000\" stroke=\"#000000\" points=\"1227.1289,-602.6809 1227.6562,-592.0991 1220.6451,-600.0424 1227.1289,-602.6809\"/>\n",
       "</g>\n",
       "<!-- 140620004549712 -->\n",
       "<g id=\"node20\" class=\"node\">\n",
       "<title>140620004549712</title>\n",
       "<polygon fill=\"#ffa500\" stroke=\"#000000\" points=\"1143.5385,-586.5 1054.5385,-586.5 1054.5385,-556.5 1143.5385,-556.5 1143.5385,-586.5\"/>\n",
       "<text text-anchor=\"middle\" x=\"1099.0385\" y=\"-574.5\" font-family=\"monospace\" font-size=\"10.00\" fill=\"#000000\">mat1</text>\n",
       "<text text-anchor=\"middle\" x=\"1099.0385\" y=\"-563.5\" font-family=\"monospace\" font-size=\"10.00\" fill=\"#000000\"> (256, 1024)</text>\n",
       "</g>\n",
       "<!-- 140619982199104&#45;&gt;140620004549712 -->\n",
       "<g id=\"edge18\" class=\"edge\">\n",
       "<title>140619982199104&#45;&gt;140620004549712</title>\n",
       "<path fill=\"none\" stroke=\"#000000\" d=\"M1142.9839,-627.8966C1131.0475,-612.5781 1119.21,-597.3867 1110.8334,-586.6367\"/>\n",
       "</g>\n",
       "<!-- 140620007714304 -->\n",
       "<g id=\"node21\" class=\"node\">\n",
       "<title>140620007714304</title>\n",
       "<polygon fill=\"#ffa500\" stroke=\"#000000\" points=\"1036.5385,-586.5 947.5385,-586.5 947.5385,-556.5 1036.5385,-556.5 1036.5385,-586.5\"/>\n",
       "<text text-anchor=\"middle\" x=\"992.0385\" y=\"-574.5\" font-family=\"monospace\" font-size=\"10.00\" fill=\"#000000\">mat2</text>\n",
       "<text text-anchor=\"middle\" x=\"992.0385\" y=\"-563.5\" font-family=\"monospace\" font-size=\"10.00\" fill=\"#000000\"> (1024, 256)</text>\n",
       "</g>\n",
       "<!-- 140619982199104&#45;&gt;140620007714304 -->\n",
       "<g id=\"edge19\" class=\"edge\">\n",
       "<title>140619982199104&#45;&gt;140620007714304</title>\n",
       "<path fill=\"none\" stroke=\"#000000\" d=\"M1096.3071,-632.6321C1067.5657,-615.7812 1038.1672,-598.545 1017.9447,-586.6887\"/>\n",
       "</g>\n",
       "<!-- 140619982199056 -->\n",
       "<g id=\"node22\" class=\"node\">\n",
       "<title>140619982199056</title>\n",
       "<polygon fill=\"#d3d3d3\" stroke=\"#000000\" points=\"1265.5385,-817.5 1164.5385,-817.5 1164.5385,-798.5 1265.5385,-798.5 1265.5385,-817.5\"/>\n",
       "<text text-anchor=\"middle\" x=\"1215.0385\" y=\"-805.5\" font-family=\"monospace\" font-size=\"10.00\" fill=\"#000000\">AccumulateGrad</text>\n",
       "</g>\n",
       "<!-- 140619982199056&#45;&gt;140619982199104 -->\n",
       "<g id=\"edge20\" class=\"edge\">\n",
       "<title>140619982199056&#45;&gt;140619982199104</title>\n",
       "<path fill=\"none\" stroke=\"#000000\" d=\"M1212.9109,-798.0981C1210.8224,-788.3786 1207.4383,-772.6296 1203.8664,-756.0064\"/>\n",
       "<polygon fill=\"#000000\" stroke=\"#000000\" points=\"1207.2727,-755.1984 1201.75,-746.1569 1200.4289,-756.6691 1207.2727,-755.1984\"/>\n",
       "</g>\n",
       "<!-- 140620005382800 -->\n",
       "<g id=\"node23\" class=\"node\">\n",
       "<title>140620005382800</title>\n",
       "<polygon fill=\"#add8e6\" stroke=\"#000000\" points=\"1259.5385,-944 1164.5385,-944 1164.5385,-914 1259.5385,-914 1259.5385,-944\"/>\n",
       "<text text-anchor=\"middle\" x=\"1212.0385\" y=\"-932\" font-family=\"monospace\" font-size=\"10.00\" fill=\"#000000\">linear_3.bias</text>\n",
       "<text text-anchor=\"middle\" x=\"1212.0385\" y=\"-921\" font-family=\"monospace\" font-size=\"10.00\" fill=\"#000000\"> (256)</text>\n",
       "</g>\n",
       "<!-- 140620005382800&#45;&gt;140619982199056 -->\n",
       "<g id=\"edge21\" class=\"edge\">\n",
       "<title>140620005382800&#45;&gt;140619982199056</title>\n",
       "<path fill=\"none\" stroke=\"#000000\" d=\"M1212.4185,-913.6753C1212.9602,-891.8257 1213.9548,-851.7124 1214.5504,-827.6873\"/>\n",
       "<polygon fill=\"#000000\" stroke=\"#000000\" points=\"1218.051,-827.7033 1214.8,-817.6196 1211.0532,-827.5297 1218.051,-827.7033\"/>\n",
       "</g>\n",
       "<!-- 140619982198960 -->\n",
       "<g id=\"node24\" class=\"node\">\n",
       "<title>140619982198960</title>\n",
       "<polygon fill=\"#d3d3d3\" stroke=\"#000000\" points=\"1039.5385,-834 884.5385,-834 884.5385,-782 1039.5385,-782 1039.5385,-834\"/>\n",
       "<text text-anchor=\"middle\" x=\"962.0385\" y=\"-822\" font-family=\"monospace\" font-size=\"10.00\" fill=\"#000000\">FusedDropoutBackward0</text>\n",
       "<text text-anchor=\"middle\" x=\"962.0385\" y=\"-811\" font-family=\"monospace\" font-size=\"10.00\" fill=\"#000000\">&#45;&#45;&#45;&#45;&#45;&#45;&#45;&#45;&#45;&#45;&#45;&#45;&#45;&#45;&#45;&#45;&#45;&#45;&#45;&#45;&#45;&#45;&#45;</text>\n",
       "<text text-anchor=\"middle\" x=\"962.0385\" y=\"-800\" font-family=\"monospace\" font-size=\"10.00\" fill=\"#000000\">p &#160;&#160;&#160;&#160;&#160;: &#160;&#160;&#160;&#160;&#160;&#160;&#160;&#160;&#160;&#160;&#160;0.7</text>\n",
       "<text text-anchor=\"middle\" x=\"962.0385\" y=\"-789\" font-family=\"monospace\" font-size=\"10.00\" fill=\"#000000\">result1: [saved tensor]</text>\n",
       "</g>\n",
       "<!-- 140619982198960&#45;&gt;140619982199104 -->\n",
       "<g id=\"edge22\" class=\"edge\">\n",
       "<title>140619982198960&#45;&gt;140619982199104</title>\n",
       "<path fill=\"none\" stroke=\"#000000\" d=\"M1011.0147,-781.8938C1033.3805,-769.9719 1060.7518,-755.3819 1087.2609,-741.2515\"/>\n",
       "<polygon fill=\"#000000\" stroke=\"#000000\" points=\"1089.0312,-744.2741 1096.2095,-736.4816 1085.7385,-738.0969 1089.0312,-744.2741\"/>\n",
       "</g>\n",
       "<!-- 140620007712544 -->\n",
       "<g id=\"node25\" class=\"node\">\n",
       "<title>140620007712544</title>\n",
       "<polygon fill=\"#ffa500\" stroke=\"#000000\" points=\"1031.5385,-702 942.5385,-702 942.5385,-672 1031.5385,-672 1031.5385,-702\"/>\n",
       "<text text-anchor=\"middle\" x=\"987.0385\" y=\"-690\" font-family=\"monospace\" font-size=\"10.00\" fill=\"#000000\">result1</text>\n",
       "<text text-anchor=\"middle\" x=\"987.0385\" y=\"-679\" font-family=\"monospace\" font-size=\"10.00\" fill=\"#000000\"> (256, 1024)</text>\n",
       "</g>\n",
       "<!-- 140619982198960&#45;&gt;140620007712544 -->\n",
       "<g id=\"edge23\" class=\"edge\">\n",
       "<title>140619982198960&#45;&gt;140620007712544</title>\n",
       "<path fill=\"none\" stroke=\"#000000\" d=\"M967.4632,-781.7448C972.4894,-757.4177 979.7914,-722.076 983.909,-702.1468\"/>\n",
       "</g>\n",
       "<!-- 140619982198864 -->\n",
       "<g id=\"node26\" class=\"node\">\n",
       "<title>140619982198864</title>\n",
       "<polygon fill=\"#d3d3d3\" stroke=\"#000000\" points=\"722.5385,-988 537.5385,-988 537.5385,-870 722.5385,-870 722.5385,-988\"/>\n",
       "<text text-anchor=\"middle\" x=\"630.0385\" y=\"-976\" font-family=\"monospace\" font-size=\"10.00\" fill=\"#000000\">NativeBatchNormBackward0</text>\n",
       "<text text-anchor=\"middle\" x=\"630.0385\" y=\"-965\" font-family=\"monospace\" font-size=\"10.00\" fill=\"#000000\">&#45;&#45;&#45;&#45;&#45;&#45;&#45;&#45;&#45;&#45;&#45;&#45;&#45;&#45;&#45;&#45;&#45;&#45;&#45;&#45;&#45;&#45;&#45;&#45;&#45;&#45;&#45;&#45;</text>\n",
       "<text text-anchor=\"middle\" x=\"630.0385\" y=\"-954\" font-family=\"monospace\" font-size=\"10.00\" fill=\"#000000\">eps &#160;&#160;&#160;&#160;&#160;&#160;&#160;&#160;: &#160;&#160;&#160;&#160;&#160;&#160;&#160;&#160;&#160;1e&#45;05</text>\n",
       "<text text-anchor=\"middle\" x=\"630.0385\" y=\"-943\" font-family=\"monospace\" font-size=\"10.00\" fill=\"#000000\">input &#160;&#160;&#160;&#160;&#160;&#160;: [saved tensor]</text>\n",
       "<text text-anchor=\"middle\" x=\"630.0385\" y=\"-932\" font-family=\"monospace\" font-size=\"10.00\" fill=\"#000000\">result1 &#160;&#160;&#160;&#160;: [saved tensor]</text>\n",
       "<text text-anchor=\"middle\" x=\"630.0385\" y=\"-921\" font-family=\"monospace\" font-size=\"10.00\" fill=\"#000000\">result2 &#160;&#160;&#160;&#160;: [saved tensor]</text>\n",
       "<text text-anchor=\"middle\" x=\"630.0385\" y=\"-910\" font-family=\"monospace\" font-size=\"10.00\" fill=\"#000000\">running_mean: [saved tensor]</text>\n",
       "<text text-anchor=\"middle\" x=\"630.0385\" y=\"-899\" font-family=\"monospace\" font-size=\"10.00\" fill=\"#000000\">running_var : [saved tensor]</text>\n",
       "<text text-anchor=\"middle\" x=\"630.0385\" y=\"-888\" font-family=\"monospace\" font-size=\"10.00\" fill=\"#000000\">training &#160;&#160;&#160;: &#160;&#160;&#160;&#160;&#160;&#160;&#160;&#160;&#160;&#160;True</text>\n",
       "<text text-anchor=\"middle\" x=\"630.0385\" y=\"-877\" font-family=\"monospace\" font-size=\"10.00\" fill=\"#000000\">weight &#160;&#160;&#160;&#160;&#160;: [saved tensor]</text>\n",
       "</g>\n",
       "<!-- 140619982198864&#45;&gt;140619982198960 -->\n",
       "<g id=\"edge24\" class=\"edge\">\n",
       "<title>140619982198864&#45;&gt;140619982198960</title>\n",
       "<path fill=\"none\" stroke=\"#000000\" d=\"M722.9605,-895.1339C772.583,-877.0485 833.0907,-854.9961 880.8178,-837.6015\"/>\n",
       "<polygon fill=\"#000000\" stroke=\"#000000\" points=\"882.2954,-840.7883 890.4924,-834.0756 879.8984,-834.2115 882.2954,-840.7883\"/>\n",
       "</g>\n",
       "<!-- 140620004551232 -->\n",
       "<g id=\"node27\" class=\"node\">\n",
       "<title>140620004551232</title>\n",
       "<polygon fill=\"#ffa500\" stroke=\"#000000\" points=\"1146.5385,-823 1057.5385,-823 1057.5385,-793 1146.5385,-793 1146.5385,-823\"/>\n",
       "<text text-anchor=\"middle\" x=\"1102.0385\" y=\"-811\" font-family=\"monospace\" font-size=\"10.00\" fill=\"#000000\">input</text>\n",
       "<text text-anchor=\"middle\" x=\"1102.0385\" y=\"-800\" font-family=\"monospace\" font-size=\"10.00\" fill=\"#000000\"> (256, 1024)</text>\n",
       "</g>\n",
       "<!-- 140619982198864&#45;&gt;140620004551232 -->\n",
       "<g id=\"edge25\" class=\"edge\">\n",
       "<title>140619982198864&#45;&gt;140620004551232</title>\n",
       "<path fill=\"none\" stroke=\"#000000\" d=\"M722.6749,-901.0873C759.6051,-890.5199 802.6309,-878.9043 842.0385,-870 932.6962,-849.5156 959.5503,-862.4298 1048.0385,-834 1056.9543,-831.1355 1066.2753,-827.0716 1074.6148,-823.0057\"/>\n",
       "</g>\n",
       "<!-- 140620007711984 -->\n",
       "<g id=\"node28\" class=\"node\">\n",
       "<title>140620007711984</title>\n",
       "<polygon fill=\"#ffa500\" stroke=\"#000000\" points=\"438.5385,-823 379.5385,-823 379.5385,-793 438.5385,-793 438.5385,-823\"/>\n",
       "<text text-anchor=\"middle\" x=\"409.0385\" y=\"-811\" font-family=\"monospace\" font-size=\"10.00\" fill=\"#000000\">result1</text>\n",
       "<text text-anchor=\"middle\" x=\"409.0385\" y=\"-800\" font-family=\"monospace\" font-size=\"10.00\" fill=\"#000000\"> (1024)</text>\n",
       "</g>\n",
       "<!-- 140619982198864&#45;&gt;140620007711984 -->\n",
       "<g id=\"edge26\" class=\"edge\">\n",
       "<title>140619982198864&#45;&gt;140620007711984</title>\n",
       "<path fill=\"none\" stroke=\"#000000\" d=\"M537.1539,-883.5424C507.9073,-868.4985 475.7556,-851.192 447.0385,-834 441.4146,-830.6331 435.4946,-826.7555 430.0454,-823.0398\"/>\n",
       "</g>\n",
       "<!-- 140620007714064 -->\n",
       "<g id=\"node29\" class=\"node\">\n",
       "<title>140620007714064</title>\n",
       "<polygon fill=\"#ffa500\" stroke=\"#000000\" points=\"515.5385,-823 456.5385,-823 456.5385,-793 515.5385,-793 515.5385,-823\"/>\n",
       "<text text-anchor=\"middle\" x=\"486.0385\" y=\"-811\" font-family=\"monospace\" font-size=\"10.00\" fill=\"#000000\">result2</text>\n",
       "<text text-anchor=\"middle\" x=\"486.0385\" y=\"-800\" font-family=\"monospace\" font-size=\"10.00\" fill=\"#000000\"> (1024)</text>\n",
       "</g>\n",
       "<!-- 140619982198864&#45;&gt;140620007714064 -->\n",
       "<g id=\"edge27\" class=\"edge\">\n",
       "<title>140619982198864&#45;&gt;140620007714064</title>\n",
       "<path fill=\"none\" stroke=\"#000000\" d=\"M559.7259,-869.9179C539.0217,-852.5206 518.1314,-834.9669 503.9081,-823.0154\"/>\n",
       "</g>\n",
       "<!-- 140620005361200 -->\n",
       "<g id=\"node30\" class=\"node\">\n",
       "<title>140620005361200</title>\n",
       "<polygon fill=\"#ffa500\" stroke=\"#000000\" points=\"622.5385,-823 533.5385,-823 533.5385,-793 622.5385,-793 622.5385,-823\"/>\n",
       "<text text-anchor=\"middle\" x=\"578.0385\" y=\"-811\" font-family=\"monospace\" font-size=\"10.00\" fill=\"#000000\">running_mean</text>\n",
       "<text text-anchor=\"middle\" x=\"578.0385\" y=\"-800\" font-family=\"monospace\" font-size=\"10.00\" fill=\"#000000\"> (1024)</text>\n",
       "</g>\n",
       "<!-- 140619982198864&#45;&gt;140620005361200 -->\n",
       "<g id=\"edge28\" class=\"edge\">\n",
       "<title>140619982198864&#45;&gt;140620005361200</title>\n",
       "<path fill=\"none\" stroke=\"#000000\" d=\"M604.6479,-869.9179C597.2229,-852.6406 589.7317,-835.209 584.598,-823.2634\"/>\n",
       "</g>\n",
       "<!-- 140620005382400 -->\n",
       "<g id=\"node31\" class=\"node\">\n",
       "<title>140620005382400</title>\n",
       "<polygon fill=\"#ffa500\" stroke=\"#000000\" points=\"723.5385,-823 640.5385,-823 640.5385,-793 723.5385,-793 723.5385,-823\"/>\n",
       "<text text-anchor=\"middle\" x=\"682.0385\" y=\"-811\" font-family=\"monospace\" font-size=\"10.00\" fill=\"#000000\">running_var</text>\n",
       "<text text-anchor=\"middle\" x=\"682.0385\" y=\"-800\" font-family=\"monospace\" font-size=\"10.00\" fill=\"#000000\"> (1024)</text>\n",
       "</g>\n",
       "<!-- 140619982198864&#45;&gt;140620005382400 -->\n",
       "<g id=\"edge29\" class=\"edge\">\n",
       "<title>140619982198864&#45;&gt;140620005382400</title>\n",
       "<path fill=\"none\" stroke=\"#000000\" d=\"M655.4292,-869.9179C662.8542,-852.6406 670.3454,-835.209 675.4791,-823.2634\"/>\n",
       "</g>\n",
       "<!-- 140620005382720 -->\n",
       "<g id=\"node32\" class=\"node\">\n",
       "<title>140620005382720</title>\n",
       "<polygon fill=\"#add8e6\" stroke=\"#000000\" points=\"866.5385,-823 741.5385,-823 741.5385,-793 866.5385,-793 866.5385,-823\"/>\n",
       "<text text-anchor=\"middle\" x=\"804.0385\" y=\"-811\" font-family=\"monospace\" font-size=\"10.00\" fill=\"#000000\">batch_norm2.weight</text>\n",
       "<text text-anchor=\"middle\" x=\"804.0385\" y=\"-800\" font-family=\"monospace\" font-size=\"10.00\" fill=\"#000000\"> (1024)</text>\n",
       "</g>\n",
       "<!-- 140619982198864&#45;&gt;140620005382720 -->\n",
       "<g id=\"edge30\" class=\"edge\">\n",
       "<title>140619982198864&#45;&gt;140620005382720</title>\n",
       "<path fill=\"none\" stroke=\"#000000\" d=\"M714.9997,-869.9179C740.0172,-852.5206 765.2597,-834.9669 782.4462,-823.0154\"/>\n",
       "</g>\n",
       "<!-- 140619982198000 -->\n",
       "<g id=\"node64\" class=\"node\">\n",
       "<title>140619982198000</title>\n",
       "<polygon fill=\"#d3d3d3\" stroke=\"#000000\" points=\"610.5385,-696.5 509.5385,-696.5 509.5385,-677.5 610.5385,-677.5 610.5385,-696.5\"/>\n",
       "<text text-anchor=\"middle\" x=\"560.0385\" y=\"-684.5\" font-family=\"monospace\" font-size=\"10.00\" fill=\"#000000\">AccumulateGrad</text>\n",
       "</g>\n",
       "<!-- 140620005382720&#45;&gt;140619982198000 -->\n",
       "<g id=\"edge64\" class=\"edge\">\n",
       "<title>140620005382720&#45;&gt;140619982198000</title>\n",
       "<path fill=\"none\" stroke=\"#000000\" d=\"M773.6291,-792.9199C726.0414,-769.3211 634.6396,-723.9948 588.3666,-701.0479\"/>\n",
       "<polygon fill=\"#000000\" stroke=\"#000000\" points=\"589.7234,-697.8141 579.2095,-696.5069 586.6134,-704.0853 589.7234,-697.8141\"/>\n",
       "</g>\n",
       "<!-- 140619982198432 -->\n",
       "<g id=\"node33\" class=\"node\">\n",
       "<title>140619982198432</title>\n",
       "<polygon fill=\"#d3d3d3\" stroke=\"#000000\" points=\"970.5385,-1065 821.5385,-1065 821.5385,-1024 970.5385,-1024 970.5385,-1065\"/>\n",
       "<text text-anchor=\"middle\" x=\"896.0385\" y=\"-1053\" font-family=\"monospace\" font-size=\"10.00\" fill=\"#000000\">ReluBackward0</text>\n",
       "<text text-anchor=\"middle\" x=\"896.0385\" y=\"-1042\" font-family=\"monospace\" font-size=\"10.00\" fill=\"#000000\">&#45;&#45;&#45;&#45;&#45;&#45;&#45;&#45;&#45;&#45;&#45;&#45;&#45;&#45;&#45;&#45;&#45;&#45;&#45;&#45;&#45;&#45;</text>\n",
       "<text text-anchor=\"middle\" x=\"896.0385\" y=\"-1031\" font-family=\"monospace\" font-size=\"10.00\" fill=\"#000000\">result: [saved tensor]</text>\n",
       "</g>\n",
       "<!-- 140619982198432&#45;&gt;140619982198864 -->\n",
       "<g id=\"edge31\" class=\"edge\">\n",
       "<title>140619982198432&#45;&gt;140619982198864</title>\n",
       "<path fill=\"none\" stroke=\"#000000\" d=\"M848.7896,-1023.984C816.3797,-1009.9113 772.1268,-990.6962 731.9004,-973.2295\"/>\n",
       "<polygon fill=\"#000000\" stroke=\"#000000\" points=\"733.1476,-969.9554 722.5809,-969.1829 730.3595,-976.3762 733.1476,-969.9554\"/>\n",
       "</g>\n",
       "<!-- 140619982518848 -->\n",
       "<g id=\"node34\" class=\"node\">\n",
       "<title>140619982518848</title>\n",
       "<polygon fill=\"#ffa500\" stroke=\"#000000\" points=\"940.5385,-944 851.5385,-944 851.5385,-914 940.5385,-914 940.5385,-944\"/>\n",
       "<text text-anchor=\"middle\" x=\"896.0385\" y=\"-932\" font-family=\"monospace\" font-size=\"10.00\" fill=\"#000000\">result</text>\n",
       "<text text-anchor=\"middle\" x=\"896.0385\" y=\"-921\" font-family=\"monospace\" font-size=\"10.00\" fill=\"#000000\"> (256, 1024)</text>\n",
       "</g>\n",
       "<!-- 140619982198432&#45;&gt;140619982518848 -->\n",
       "<g id=\"edge32\" class=\"edge\">\n",
       "<title>140619982198432&#45;&gt;140619982518848</title>\n",
       "<path fill=\"none\" stroke=\"#000000\" d=\"M896.0385,-1023.8509C896.0385,-1001.0109 896.0385,-964.744 896.0385,-944.3077\"/>\n",
       "</g>\n",
       "<!-- 140619982198048 -->\n",
       "<g id=\"node35\" class=\"node\">\n",
       "<title>140619982198048</title>\n",
       "<polygon fill=\"#d3d3d3\" stroke=\"#000000\" points=\"939.5385,-1219 754.5385,-1219 754.5385,-1101 939.5385,-1101 939.5385,-1219\"/>\n",
       "<text text-anchor=\"middle\" x=\"847.0385\" y=\"-1207\" font-family=\"monospace\" font-size=\"10.00\" fill=\"#000000\">AddmmBackward0</text>\n",
       "<text text-anchor=\"middle\" x=\"847.0385\" y=\"-1196\" font-family=\"monospace\" font-size=\"10.00\" fill=\"#000000\">&#45;&#45;&#45;&#45;&#45;&#45;&#45;&#45;&#45;&#45;&#45;&#45;&#45;&#45;&#45;&#45;&#45;&#45;&#45;&#45;&#45;&#45;&#45;&#45;&#45;&#45;&#45;&#45;</text>\n",
       "<text text-anchor=\"middle\" x=\"847.0385\" y=\"-1185\" font-family=\"monospace\" font-size=\"10.00\" fill=\"#000000\">alpha &#160;&#160;&#160;&#160;&#160;&#160;: &#160;&#160;&#160;&#160;&#160;&#160;&#160;&#160;&#160;&#160;&#160;&#160;&#160;1</text>\n",
       "<text text-anchor=\"middle\" x=\"847.0385\" y=\"-1174\" font-family=\"monospace\" font-size=\"10.00\" fill=\"#000000\">beta &#160;&#160;&#160;&#160;&#160;&#160;&#160;: &#160;&#160;&#160;&#160;&#160;&#160;&#160;&#160;&#160;&#160;&#160;&#160;&#160;1</text>\n",
       "<text text-anchor=\"middle\" x=\"847.0385\" y=\"-1163\" font-family=\"monospace\" font-size=\"10.00\" fill=\"#000000\">mat1 &#160;&#160;&#160;&#160;&#160;&#160;&#160;: [saved tensor]</text>\n",
       "<text text-anchor=\"middle\" x=\"847.0385\" y=\"-1152\" font-family=\"monospace\" font-size=\"10.00\" fill=\"#000000\">mat1_sizes &#160;: &#160;&#160;(256, 10024)</text>\n",
       "<text text-anchor=\"middle\" x=\"847.0385\" y=\"-1141\" font-family=\"monospace\" font-size=\"10.00\" fill=\"#000000\">mat1_strides: &#160;&#160;&#160;&#160;(10024, 1)</text>\n",
       "<text text-anchor=\"middle\" x=\"847.0385\" y=\"-1130\" font-family=\"monospace\" font-size=\"10.00\" fill=\"#000000\">mat2 &#160;&#160;&#160;&#160;&#160;&#160;&#160;: [saved tensor]</text>\n",
       "<text text-anchor=\"middle\" x=\"847.0385\" y=\"-1119\" font-family=\"monospace\" font-size=\"10.00\" fill=\"#000000\">mat2_sizes &#160;: &#160;(10024, 1024)</text>\n",
       "<text text-anchor=\"middle\" x=\"847.0385\" y=\"-1108\" font-family=\"monospace\" font-size=\"10.00\" fill=\"#000000\">mat2_strides: &#160;&#160;&#160;&#160;(1, 10024)</text>\n",
       "</g>\n",
       "<!-- 140619982198048&#45;&gt;140619982198432 -->\n",
       "<g id=\"edge33\" class=\"edge\">\n",
       "<title>140619982198048&#45;&gt;140619982198432</title>\n",
       "<path fill=\"none\" stroke=\"#000000\" d=\"M872.1127,-1100.8966C875.9964,-1091.7423 879.8608,-1082.6333 883.3153,-1074.4905\"/>\n",
       "<polygon fill=\"#000000\" stroke=\"#000000\" points=\"886.616,-1075.6719 887.2995,-1065.0991 880.1719,-1072.938 886.616,-1075.6719\"/>\n",
       "</g>\n",
       "<!-- 140620004551872 -->\n",
       "<g id=\"node36\" class=\"node\">\n",
       "<title>140620004551872</title>\n",
       "<polygon fill=\"#ffa500\" stroke=\"#000000\" points=\"803.5385,-1059.5 708.5385,-1059.5 708.5385,-1029.5 803.5385,-1029.5 803.5385,-1059.5\"/>\n",
       "<text text-anchor=\"middle\" x=\"756.0385\" y=\"-1047.5\" font-family=\"monospace\" font-size=\"10.00\" fill=\"#000000\">mat1</text>\n",
       "<text text-anchor=\"middle\" x=\"756.0385\" y=\"-1036.5\" font-family=\"monospace\" font-size=\"10.00\" fill=\"#000000\"> (256, 10024)</text>\n",
       "</g>\n",
       "<!-- 140619982198048&#45;&gt;140620004551872 -->\n",
       "<g id=\"edge34\" class=\"edge\">\n",
       "<title>140619982198048&#45;&gt;140620004551872</title>\n",
       "<path fill=\"none\" stroke=\"#000000\" d=\"M800.4722,-1100.8966C788.4031,-1085.5781 776.4341,-1070.3867 767.9644,-1059.6367\"/>\n",
       "</g>\n",
       "<!-- 140620007713424 -->\n",
       "<g id=\"node37\" class=\"node\">\n",
       "<title>140620007713424</title>\n",
       "<polygon fill=\"#ffa500\" stroke=\"#000000\" points=\"690.5385,-1059.5 589.5385,-1059.5 589.5385,-1029.5 690.5385,-1029.5 690.5385,-1059.5\"/>\n",
       "<text text-anchor=\"middle\" x=\"640.0385\" y=\"-1047.5\" font-family=\"monospace\" font-size=\"10.00\" fill=\"#000000\">mat2</text>\n",
       "<text text-anchor=\"middle\" x=\"640.0385\" y=\"-1036.5\" font-family=\"monospace\" font-size=\"10.00\" fill=\"#000000\"> (10024, 1024)</text>\n",
       "</g>\n",
       "<!-- 140619982198048&#45;&gt;140620007713424 -->\n",
       "<g id=\"edge35\" class=\"edge\">\n",
       "<title>140619982198048&#45;&gt;140620007713424</title>\n",
       "<path fill=\"none\" stroke=\"#000000\" d=\"M754.4366,-1108.3308C722.5733,-1090.552 689.3169,-1071.9959 666.9277,-1059.5034\"/>\n",
       "</g>\n",
       "<!-- 140619982198624 -->\n",
       "<g id=\"node38\" class=\"node\">\n",
       "<title>140619982198624</title>\n",
       "<polygon fill=\"#d3d3d3\" stroke=\"#000000\" points=\"923.5385,-1290.5 822.5385,-1290.5 822.5385,-1271.5 923.5385,-1271.5 923.5385,-1290.5\"/>\n",
       "<text text-anchor=\"middle\" x=\"873.0385\" y=\"-1278.5\" font-family=\"monospace\" font-size=\"10.00\" fill=\"#000000\">AccumulateGrad</text>\n",
       "</g>\n",
       "<!-- 140619982198624&#45;&gt;140619982198048 -->\n",
       "<g id=\"edge36\" class=\"edge\">\n",
       "<title>140619982198624&#45;&gt;140619982198048</title>\n",
       "<path fill=\"none\" stroke=\"#000000\" d=\"M870.9109,-1271.0981C868.8224,-1261.3786 865.4383,-1245.6296 861.8664,-1229.0064\"/>\n",
       "<polygon fill=\"#000000\" stroke=\"#000000\" points=\"865.2727,-1228.1984 859.75,-1219.1569 858.4289,-1229.6691 865.2727,-1228.1984\"/>\n",
       "</g>\n",
       "<!-- 140620005381280 -->\n",
       "<g id=\"node39\" class=\"node\">\n",
       "<title>140620005381280</title>\n",
       "<polygon fill=\"#add8e6\" stroke=\"#000000\" points=\"917.5385,-1417 822.5385,-1417 822.5385,-1387 917.5385,-1387 917.5385,-1417\"/>\n",
       "<text text-anchor=\"middle\" x=\"870.0385\" y=\"-1405\" font-family=\"monospace\" font-size=\"10.00\" fill=\"#000000\">linear_2.bias</text>\n",
       "<text text-anchor=\"middle\" x=\"870.0385\" y=\"-1394\" font-family=\"monospace\" font-size=\"10.00\" fill=\"#000000\"> (1024)</text>\n",
       "</g>\n",
       "<!-- 140620005381280&#45;&gt;140619982198624 -->\n",
       "<g id=\"edge37\" class=\"edge\">\n",
       "<title>140620005381280&#45;&gt;140619982198624</title>\n",
       "<path fill=\"none\" stroke=\"#000000\" d=\"M870.4185,-1386.6753C870.9602,-1364.8257 871.9548,-1324.7124 872.5504,-1300.6873\"/>\n",
       "<polygon fill=\"#000000\" stroke=\"#000000\" points=\"876.051,-1300.7033 872.8,-1290.6196 869.0532,-1300.5297 876.051,-1300.7033\"/>\n",
       "</g>\n",
       "<!-- 140619982198288 -->\n",
       "<g id=\"node40\" class=\"node\">\n",
       "<title>140619982198288</title>\n",
       "<polygon fill=\"#d3d3d3\" stroke=\"#000000\" points=\"691.5385,-1307 536.5385,-1307 536.5385,-1255 691.5385,-1255 691.5385,-1307\"/>\n",
       "<text text-anchor=\"middle\" x=\"614.0385\" y=\"-1295\" font-family=\"monospace\" font-size=\"10.00\" fill=\"#000000\">FusedDropoutBackward0</text>\n",
       "<text text-anchor=\"middle\" x=\"614.0385\" y=\"-1284\" font-family=\"monospace\" font-size=\"10.00\" fill=\"#000000\">&#45;&#45;&#45;&#45;&#45;&#45;&#45;&#45;&#45;&#45;&#45;&#45;&#45;&#45;&#45;&#45;&#45;&#45;&#45;&#45;&#45;&#45;&#45;</text>\n",
       "<text text-anchor=\"middle\" x=\"614.0385\" y=\"-1273\" font-family=\"monospace\" font-size=\"10.00\" fill=\"#000000\">p &#160;&#160;&#160;&#160;&#160;: &#160;&#160;&#160;&#160;&#160;&#160;&#160;&#160;&#160;&#160;&#160;0.7</text>\n",
       "<text text-anchor=\"middle\" x=\"614.0385\" y=\"-1262\" font-family=\"monospace\" font-size=\"10.00\" fill=\"#000000\">result1: [saved tensor]</text>\n",
       "</g>\n",
       "<!-- 140619982198288&#45;&gt;140619982198048 -->\n",
       "<g id=\"edge38\" class=\"edge\">\n",
       "<title>140619982198288&#45;&gt;140619982198048</title>\n",
       "<path fill=\"none\" stroke=\"#000000\" d=\"M664.3092,-1254.8938C687.9696,-1242.6066 717.0874,-1227.4854 745.0692,-1212.954\"/>\n",
       "<polygon fill=\"#000000\" stroke=\"#000000\" points=\"746.8444,-1215.9761 754.106,-1208.2611 743.6182,-1209.7638 746.8444,-1215.9761\"/>\n",
       "</g>\n",
       "<!-- 140620007714224 -->\n",
       "<g id=\"node41\" class=\"node\">\n",
       "<title>140620007714224</title>\n",
       "<polygon fill=\"#ffa500\" stroke=\"#000000\" points=\"686.5385,-1175 591.5385,-1175 591.5385,-1145 686.5385,-1145 686.5385,-1175\"/>\n",
       "<text text-anchor=\"middle\" x=\"639.0385\" y=\"-1163\" font-family=\"monospace\" font-size=\"10.00\" fill=\"#000000\">result1</text>\n",
       "<text text-anchor=\"middle\" x=\"639.0385\" y=\"-1152\" font-family=\"monospace\" font-size=\"10.00\" fill=\"#000000\"> (256, 10024)</text>\n",
       "</g>\n",
       "<!-- 140619982198288&#45;&gt;140620007714224 -->\n",
       "<g id=\"edge39\" class=\"edge\">\n",
       "<title>140619982198288&#45;&gt;140620007714224</title>\n",
       "<path fill=\"none\" stroke=\"#000000\" d=\"M619.4632,-1254.7448C624.4894,-1230.4177 631.7914,-1195.076 635.909,-1175.1468\"/>\n",
       "</g>\n",
       "<!-- 140619982200640 -->\n",
       "<g id=\"node42\" class=\"node\">\n",
       "<title>140619982200640</title>\n",
       "<polygon fill=\"#d3d3d3\" stroke=\"#000000\" points=\"374.5385,-1461 189.5385,-1461 189.5385,-1343 374.5385,-1343 374.5385,-1461\"/>\n",
       "<text text-anchor=\"middle\" x=\"282.0385\" y=\"-1449\" font-family=\"monospace\" font-size=\"10.00\" fill=\"#000000\">NativeBatchNormBackward0</text>\n",
       "<text text-anchor=\"middle\" x=\"282.0385\" y=\"-1438\" font-family=\"monospace\" font-size=\"10.00\" fill=\"#000000\">&#45;&#45;&#45;&#45;&#45;&#45;&#45;&#45;&#45;&#45;&#45;&#45;&#45;&#45;&#45;&#45;&#45;&#45;&#45;&#45;&#45;&#45;&#45;&#45;&#45;&#45;&#45;&#45;</text>\n",
       "<text text-anchor=\"middle\" x=\"282.0385\" y=\"-1427\" font-family=\"monospace\" font-size=\"10.00\" fill=\"#000000\">eps &#160;&#160;&#160;&#160;&#160;&#160;&#160;&#160;: &#160;&#160;&#160;&#160;&#160;&#160;&#160;&#160;&#160;1e&#45;05</text>\n",
       "<text text-anchor=\"middle\" x=\"282.0385\" y=\"-1416\" font-family=\"monospace\" font-size=\"10.00\" fill=\"#000000\">input &#160;&#160;&#160;&#160;&#160;&#160;: [saved tensor]</text>\n",
       "<text text-anchor=\"middle\" x=\"282.0385\" y=\"-1405\" font-family=\"monospace\" font-size=\"10.00\" fill=\"#000000\">result1 &#160;&#160;&#160;&#160;: [saved tensor]</text>\n",
       "<text text-anchor=\"middle\" x=\"282.0385\" y=\"-1394\" font-family=\"monospace\" font-size=\"10.00\" fill=\"#000000\">result2 &#160;&#160;&#160;&#160;: [saved tensor]</text>\n",
       "<text text-anchor=\"middle\" x=\"282.0385\" y=\"-1383\" font-family=\"monospace\" font-size=\"10.00\" fill=\"#000000\">running_mean: [saved tensor]</text>\n",
       "<text text-anchor=\"middle\" x=\"282.0385\" y=\"-1372\" font-family=\"monospace\" font-size=\"10.00\" fill=\"#000000\">running_var : [saved tensor]</text>\n",
       "<text text-anchor=\"middle\" x=\"282.0385\" y=\"-1361\" font-family=\"monospace\" font-size=\"10.00\" fill=\"#000000\">training &#160;&#160;&#160;: &#160;&#160;&#160;&#160;&#160;&#160;&#160;&#160;&#160;&#160;True</text>\n",
       "<text text-anchor=\"middle\" x=\"282.0385\" y=\"-1350\" font-family=\"monospace\" font-size=\"10.00\" fill=\"#000000\">weight &#160;&#160;&#160;&#160;&#160;: [saved tensor]</text>\n",
       "</g>\n",
       "<!-- 140619982200640&#45;&gt;140619982198288 -->\n",
       "<g id=\"edge40\" class=\"edge\">\n",
       "<title>140619982200640&#45;&gt;140619982198288</title>\n",
       "<path fill=\"none\" stroke=\"#000000\" d=\"M374.6452,-1363.8791C392.6169,-1356.7515 411.3597,-1349.5039 429.0385,-1343 460.5932,-1331.3913 495.4901,-1319.464 526.3938,-1309.2104\"/>\n",
       "<polygon fill=\"#000000\" stroke=\"#000000\" points=\"527.8819,-1312.4048 536.2778,-1305.9426 525.6846,-1305.7586 527.8819,-1312.4048\"/>\n",
       "</g>\n",
       "<!-- 140620004552032 -->\n",
       "<g id=\"node43\" class=\"node\">\n",
       "<title>140620004552032</title>\n",
       "<polygon fill=\"#ffa500\" stroke=\"#000000\" points=\"804.5385,-1296 709.5385,-1296 709.5385,-1266 804.5385,-1266 804.5385,-1296\"/>\n",
       "<text text-anchor=\"middle\" x=\"757.0385\" y=\"-1284\" font-family=\"monospace\" font-size=\"10.00\" fill=\"#000000\">input</text>\n",
       "<text text-anchor=\"middle\" x=\"757.0385\" y=\"-1273\" font-family=\"monospace\" font-size=\"10.00\" fill=\"#000000\"> (256, 10024)</text>\n",
       "</g>\n",
       "<!-- 140619982200640&#45;&gt;140620004552032 -->\n",
       "<g id=\"edge41\" class=\"edge\">\n",
       "<title>140619982200640&#45;&gt;140620004552032</title>\n",
       "<path fill=\"none\" stroke=\"#000000\" d=\"M374.5667,-1360.813C392.3797,-1354.0467 411.0853,-1347.7159 429.0385,-1343 546.5545,-1312.1313 583.2682,-1340.5789 700.0385,-1307 709.5509,-1304.2646 719.5029,-1300.1886 728.3801,-1296.0707\"/>\n",
       "</g>\n",
       "<!-- 140620007714704 -->\n",
       "<g id=\"node44\" class=\"node\">\n",
       "<title>140620007714704</title>\n",
       "<polygon fill=\"#ffa500\" stroke=\"#000000\" points=\"84.5385,-1296 19.5385,-1296 19.5385,-1266 84.5385,-1266 84.5385,-1296\"/>\n",
       "<text text-anchor=\"middle\" x=\"52.0385\" y=\"-1284\" font-family=\"monospace\" font-size=\"10.00\" fill=\"#000000\">result1</text>\n",
       "<text text-anchor=\"middle\" x=\"52.0385\" y=\"-1273\" font-family=\"monospace\" font-size=\"10.00\" fill=\"#000000\"> (10024)</text>\n",
       "</g>\n",
       "<!-- 140619982200640&#45;&gt;140620007714704 -->\n",
       "<g id=\"edge42\" class=\"edge\">\n",
       "<title>140619982200640&#45;&gt;140620007714704</title>\n",
       "<path fill=\"none\" stroke=\"#000000\" d=\"M189.2675,-1357.6635C158.3168,-1342.2669 123.8729,-1324.469 93.0385,-1307 87.1718,-1303.6762 80.9678,-1299.8907 75.2103,-1296.2567\"/>\n",
       "</g>\n",
       "<!-- 140620007712464 -->\n",
       "<g id=\"node45\" class=\"node\">\n",
       "<title>140620007712464</title>\n",
       "<polygon fill=\"#ffa500\" stroke=\"#000000\" points=\"167.5385,-1296 102.5385,-1296 102.5385,-1266 167.5385,-1266 167.5385,-1296\"/>\n",
       "<text text-anchor=\"middle\" x=\"135.0385\" y=\"-1284\" font-family=\"monospace\" font-size=\"10.00\" fill=\"#000000\">result2</text>\n",
       "<text text-anchor=\"middle\" x=\"135.0385\" y=\"-1273\" font-family=\"monospace\" font-size=\"10.00\" fill=\"#000000\"> (10024)</text>\n",
       "</g>\n",
       "<!-- 140619982200640&#45;&gt;140620007712464 -->\n",
       "<g id=\"edge43\" class=\"edge\">\n",
       "<title>140619982200640&#45;&gt;140620007712464</title>\n",
       "<path fill=\"none\" stroke=\"#000000\" d=\"M210.2611,-1342.9179C189.1256,-1325.5206 167.8,-1307.9669 153.2803,-1296.0154\"/>\n",
       "</g>\n",
       "<!-- 140620005360960 -->\n",
       "<g id=\"node46\" class=\"node\">\n",
       "<title>140620005360960</title>\n",
       "<polygon fill=\"#ffa500\" stroke=\"#000000\" points=\"274.5385,-1296 185.5385,-1296 185.5385,-1266 274.5385,-1266 274.5385,-1296\"/>\n",
       "<text text-anchor=\"middle\" x=\"230.0385\" y=\"-1284\" font-family=\"monospace\" font-size=\"10.00\" fill=\"#000000\">running_mean</text>\n",
       "<text text-anchor=\"middle\" x=\"230.0385\" y=\"-1273\" font-family=\"monospace\" font-size=\"10.00\" fill=\"#000000\"> (10024)</text>\n",
       "</g>\n",
       "<!-- 140619982200640&#45;&gt;140620005360960 -->\n",
       "<g id=\"edge44\" class=\"edge\">\n",
       "<title>140619982200640&#45;&gt;140620005360960</title>\n",
       "<path fill=\"none\" stroke=\"#000000\" d=\"M256.6479,-1342.9179C249.2229,-1325.6406 241.7317,-1308.209 236.598,-1296.2634\"/>\n",
       "</g>\n",
       "<!-- 140613102921584 -->\n",
       "<g id=\"node47\" class=\"node\">\n",
       "<title>140613102921584</title>\n",
       "<polygon fill=\"#ffa500\" stroke=\"#000000\" points=\"375.5385,-1296 292.5385,-1296 292.5385,-1266 375.5385,-1266 375.5385,-1296\"/>\n",
       "<text text-anchor=\"middle\" x=\"334.0385\" y=\"-1284\" font-family=\"monospace\" font-size=\"10.00\" fill=\"#000000\">running_var</text>\n",
       "<text text-anchor=\"middle\" x=\"334.0385\" y=\"-1273\" font-family=\"monospace\" font-size=\"10.00\" fill=\"#000000\"> (10024)</text>\n",
       "</g>\n",
       "<!-- 140619982200640&#45;&gt;140613102921584 -->\n",
       "<g id=\"edge45\" class=\"edge\">\n",
       "<title>140619982200640&#45;&gt;140613102921584</title>\n",
       "<path fill=\"none\" stroke=\"#000000\" d=\"M307.4292,-1342.9179C314.8542,-1325.6406 322.3454,-1308.209 327.4791,-1296.2634\"/>\n",
       "</g>\n",
       "<!-- 140620005381920 -->\n",
       "<g id=\"node48\" class=\"node\">\n",
       "<title>140620005381920</title>\n",
       "<polygon fill=\"#add8e6\" stroke=\"#000000\" points=\"518.5385,-1296 393.5385,-1296 393.5385,-1266 518.5385,-1266 518.5385,-1296\"/>\n",
       "<text text-anchor=\"middle\" x=\"456.0385\" y=\"-1284\" font-family=\"monospace\" font-size=\"10.00\" fill=\"#000000\">batch_norm1.weight</text>\n",
       "<text text-anchor=\"middle\" x=\"456.0385\" y=\"-1273\" font-family=\"monospace\" font-size=\"10.00\" fill=\"#000000\"> (10024)</text>\n",
       "</g>\n",
       "<!-- 140619982200640&#45;&gt;140620005381920 -->\n",
       "<g id=\"edge46\" class=\"edge\">\n",
       "<title>140619982200640&#45;&gt;140620005381920</title>\n",
       "<path fill=\"none\" stroke=\"#000000\" d=\"M366.9997,-1342.9179C392.0172,-1325.5206 417.2597,-1307.9669 434.4462,-1296.0154\"/>\n",
       "</g>\n",
       "<!-- 140619982200016 -->\n",
       "<g id=\"node58\" class=\"node\">\n",
       "<title>140619982200016</title>\n",
       "<polygon fill=\"#d3d3d3\" stroke=\"#000000\" points=\"254.5385,-1169.5 153.5385,-1169.5 153.5385,-1150.5 254.5385,-1150.5 254.5385,-1169.5\"/>\n",
       "<text text-anchor=\"middle\" x=\"204.0385\" y=\"-1157.5\" font-family=\"monospace\" font-size=\"10.00\" fill=\"#000000\">AccumulateGrad</text>\n",
       "</g>\n",
       "<!-- 140620005381920&#45;&gt;140619982200016 -->\n",
       "<g id=\"edge57\" class=\"edge\">\n",
       "<title>140620005381920&#45;&gt;140619982200016</title>\n",
       "<path fill=\"none\" stroke=\"#000000\" d=\"M424.6321,-1265.9199C375.3813,-1242.2717 280.6904,-1196.805 232.9961,-1173.9042\"/>\n",
       "<polygon fill=\"#000000\" stroke=\"#000000\" points=\"234.3677,-1170.6803 223.838,-1169.5069 231.3377,-1176.9906 234.3677,-1170.6803\"/>\n",
       "</g>\n",
       "<!-- 140619982200784 -->\n",
       "<g id=\"node49\" class=\"node\">\n",
       "<title>140619982200784</title>\n",
       "<polygon fill=\"#d3d3d3\" stroke=\"#000000\" points=\"560.5385,-1538 411.5385,-1538 411.5385,-1497 560.5385,-1497 560.5385,-1538\"/>\n",
       "<text text-anchor=\"middle\" x=\"486.0385\" y=\"-1526\" font-family=\"monospace\" font-size=\"10.00\" fill=\"#000000\">ReluBackward0</text>\n",
       "<text text-anchor=\"middle\" x=\"486.0385\" y=\"-1515\" font-family=\"monospace\" font-size=\"10.00\" fill=\"#000000\">&#45;&#45;&#45;&#45;&#45;&#45;&#45;&#45;&#45;&#45;&#45;&#45;&#45;&#45;&#45;&#45;&#45;&#45;&#45;&#45;&#45;&#45;</text>\n",
       "<text text-anchor=\"middle\" x=\"486.0385\" y=\"-1504\" font-family=\"monospace\" font-size=\"10.00\" fill=\"#000000\">result: [saved tensor]</text>\n",
       "</g>\n",
       "<!-- 140619982200784&#45;&gt;140619982200640 -->\n",
       "<g id=\"edge47\" class=\"edge\">\n",
       "<title>140619982200784&#45;&gt;140619982200640</title>\n",
       "<path fill=\"none\" stroke=\"#000000\" d=\"M449.5674,-1496.8509C430.8887,-1486.2754 407.1256,-1472.8214 383.408,-1459.393\"/>\n",
       "<polygon fill=\"#000000\" stroke=\"#000000\" points=\"385.108,-1456.3335 374.6815,-1454.4523 381.6592,-1462.4249 385.108,-1456.3335\"/>\n",
       "</g>\n",
       "<!-- 140619982519488 -->\n",
       "<g id=\"node50\" class=\"node\">\n",
       "<title>140619982519488</title>\n",
       "<polygon fill=\"#ffa500\" stroke=\"#000000\" points=\"533.5385,-1417 438.5385,-1417 438.5385,-1387 533.5385,-1387 533.5385,-1417\"/>\n",
       "<text text-anchor=\"middle\" x=\"486.0385\" y=\"-1405\" font-family=\"monospace\" font-size=\"10.00\" fill=\"#000000\">result</text>\n",
       "<text text-anchor=\"middle\" x=\"486.0385\" y=\"-1394\" font-family=\"monospace\" font-size=\"10.00\" fill=\"#000000\"> (256, 10024)</text>\n",
       "</g>\n",
       "<!-- 140619982200784&#45;&gt;140619982519488 -->\n",
       "<g id=\"edge48\" class=\"edge\">\n",
       "<title>140619982200784&#45;&gt;140619982519488</title>\n",
       "<path fill=\"none\" stroke=\"#000000\" d=\"M486.0385,-1496.8509C486.0385,-1474.0109 486.0385,-1437.744 486.0385,-1417.3077\"/>\n",
       "</g>\n",
       "<!-- 140619982964240 -->\n",
       "<g id=\"node51\" class=\"node\">\n",
       "<title>140619982964240</title>\n",
       "<polygon fill=\"#d3d3d3\" stroke=\"#000000\" points=\"536.5385,-1692 351.5385,-1692 351.5385,-1574 536.5385,-1574 536.5385,-1692\"/>\n",
       "<text text-anchor=\"middle\" x=\"444.0385\" y=\"-1680\" font-family=\"monospace\" font-size=\"10.00\" fill=\"#000000\">AddmmBackward0</text>\n",
       "<text text-anchor=\"middle\" x=\"444.0385\" y=\"-1669\" font-family=\"monospace\" font-size=\"10.00\" fill=\"#000000\">&#45;&#45;&#45;&#45;&#45;&#45;&#45;&#45;&#45;&#45;&#45;&#45;&#45;&#45;&#45;&#45;&#45;&#45;&#45;&#45;&#45;&#45;&#45;&#45;&#45;&#45;&#45;&#45;</text>\n",
       "<text text-anchor=\"middle\" x=\"444.0385\" y=\"-1658\" font-family=\"monospace\" font-size=\"10.00\" fill=\"#000000\">alpha &#160;&#160;&#160;&#160;&#160;&#160;: &#160;&#160;&#160;&#160;&#160;&#160;&#160;&#160;&#160;&#160;&#160;&#160;&#160;1</text>\n",
       "<text text-anchor=\"middle\" x=\"444.0385\" y=\"-1647\" font-family=\"monospace\" font-size=\"10.00\" fill=\"#000000\">beta &#160;&#160;&#160;&#160;&#160;&#160;&#160;: &#160;&#160;&#160;&#160;&#160;&#160;&#160;&#160;&#160;&#160;&#160;&#160;&#160;1</text>\n",
       "<text text-anchor=\"middle\" x=\"444.0385\" y=\"-1636\" font-family=\"monospace\" font-size=\"10.00\" fill=\"#000000\">mat1 &#160;&#160;&#160;&#160;&#160;&#160;&#160;: [saved tensor]</text>\n",
       "<text text-anchor=\"middle\" x=\"444.0385\" y=\"-1625\" font-family=\"monospace\" font-size=\"10.00\" fill=\"#000000\">mat1_sizes &#160;: &#160;&#160;&#160;(256, 5595)</text>\n",
       "<text text-anchor=\"middle\" x=\"444.0385\" y=\"-1614\" font-family=\"monospace\" font-size=\"10.00\" fill=\"#000000\">mat1_strides: &#160;&#160;&#160;&#160;&#160;&#160;&#160;&#160;&#160;&#160;&#160;&#160;()</text>\n",
       "<text text-anchor=\"middle\" x=\"444.0385\" y=\"-1603\" font-family=\"monospace\" font-size=\"10.00\" fill=\"#000000\">mat2 &#160;&#160;&#160;&#160;&#160;&#160;&#160;: &#160;&#160;&#160;&#160;&#160;&#160;&#160;&#160;&#160;&#160;None</text>\n",
       "<text text-anchor=\"middle\" x=\"444.0385\" y=\"-1592\" font-family=\"monospace\" font-size=\"10.00\" fill=\"#000000\">mat2_sizes &#160;: &#160;(5595, 10024)</text>\n",
       "<text text-anchor=\"middle\" x=\"444.0385\" y=\"-1581\" font-family=\"monospace\" font-size=\"10.00\" fill=\"#000000\">mat2_strides: &#160;&#160;&#160;&#160;&#160;(1, 5595)</text>\n",
       "</g>\n",
       "<!-- 140619982964240&#45;&gt;140619982200784 -->\n",
       "<g id=\"edge49\" class=\"edge\">\n",
       "<title>140619982964240&#45;&gt;140619982200784</title>\n",
       "<path fill=\"none\" stroke=\"#000000\" d=\"M465.5307,-1573.8966C468.823,-1564.8429 472.0991,-1555.8335 475.0352,-1547.7593\"/>\n",
       "<polygon fill=\"#000000\" stroke=\"#000000\" points=\"478.4197,-1548.6932 478.548,-1538.0991 471.8412,-1546.301 478.4197,-1548.6932\"/>\n",
       "</g>\n",
       "<!-- 140620010953520 -->\n",
       "<g id=\"node52\" class=\"node\">\n",
       "<title>140620010953520</title>\n",
       "<polygon fill=\"#ffa500\" stroke=\"#000000\" points=\"393.5385,-1532.5 304.5385,-1532.5 304.5385,-1502.5 393.5385,-1502.5 393.5385,-1532.5\"/>\n",
       "<text text-anchor=\"middle\" x=\"349.0385\" y=\"-1520.5\" font-family=\"monospace\" font-size=\"10.00\" fill=\"#000000\">mat1</text>\n",
       "<text text-anchor=\"middle\" x=\"349.0385\" y=\"-1509.5\" font-family=\"monospace\" font-size=\"10.00\" fill=\"#000000\"> (256, 5595)</text>\n",
       "</g>\n",
       "<!-- 140619982964240&#45;&gt;140620010953520 -->\n",
       "<g id=\"edge50\" class=\"edge\">\n",
       "<title>140619982964240&#45;&gt;140620010953520</title>\n",
       "<path fill=\"none\" stroke=\"#000000\" d=\"M395.4254,-1573.8966C382.8257,-1558.5781 370.3306,-1543.3867 361.4886,-1532.6367\"/>\n",
       "</g>\n",
       "<!-- 140619982964000 -->\n",
       "<g id=\"node53\" class=\"node\">\n",
       "<title>140619982964000</title>\n",
       "<polygon fill=\"#d3d3d3\" stroke=\"#000000\" points=\"439.5385,-1747 338.5385,-1747 338.5385,-1728 439.5385,-1728 439.5385,-1747\"/>\n",
       "<text text-anchor=\"middle\" x=\"389.0385\" y=\"-1735\" font-family=\"monospace\" font-size=\"10.00\" fill=\"#000000\">AccumulateGrad</text>\n",
       "</g>\n",
       "<!-- 140619982964000&#45;&gt;140619982964240 -->\n",
       "<g id=\"edge51\" class=\"edge\">\n",
       "<title>140619982964000&#45;&gt;140619982964240</title>\n",
       "<path fill=\"none\" stroke=\"#000000\" d=\"M394.1142,-1727.8562C397.6046,-1721.2245 402.5862,-1711.7595 408.0651,-1701.3495\"/>\n",
       "<polygon fill=\"#000000\" stroke=\"#000000\" points=\"411.2023,-1702.9037 412.7626,-1692.4244 405.0078,-1699.6434 411.2023,-1702.9037\"/>\n",
       "</g>\n",
       "<!-- 140620005382960 -->\n",
       "<g id=\"node54\" class=\"node\">\n",
       "<title>140620005382960</title>\n",
       "<polygon fill=\"#add8e6\" stroke=\"#000000\" points=\"432.5385,-1813 337.5385,-1813 337.5385,-1783 432.5385,-1783 432.5385,-1813\"/>\n",
       "<text text-anchor=\"middle\" x=\"385.0385\" y=\"-1801\" font-family=\"monospace\" font-size=\"10.00\" fill=\"#000000\">linear_1.bias</text>\n",
       "<text text-anchor=\"middle\" x=\"385.0385\" y=\"-1790\" font-family=\"monospace\" font-size=\"10.00\" fill=\"#000000\"> (10024)</text>\n",
       "</g>\n",
       "<!-- 140620005382960&#45;&gt;140619982964000 -->\n",
       "<g id=\"edge52\" class=\"edge\">\n",
       "<title>140620005382960&#45;&gt;140619982964000</title>\n",
       "<path fill=\"none\" stroke=\"#000000\" d=\"M386.0479,-1782.7333C386.5571,-1775.0322 387.1808,-1765.5977 387.7267,-1757.3414\"/>\n",
       "<polygon fill=\"#000000\" stroke=\"#000000\" points=\"391.2373,-1757.2956 388.4047,-1747.0864 384.2526,-1756.8337 391.2373,-1757.2956\"/>\n",
       "</g>\n",
       "<!-- 140619982964048 -->\n",
       "<g id=\"node55\" class=\"node\">\n",
       "<title>140619982964048</title>\n",
       "<polygon fill=\"#d3d3d3\" stroke=\"#000000\" points=\"536.5385,-1747 459.5385,-1747 459.5385,-1728 536.5385,-1728 536.5385,-1747\"/>\n",
       "<text text-anchor=\"middle\" x=\"498.0385\" y=\"-1735\" font-family=\"monospace\" font-size=\"10.00\" fill=\"#000000\">TBackward0</text>\n",
       "</g>\n",
       "<!-- 140619982964048&#45;&gt;140619982964240 -->\n",
       "<g id=\"edge53\" class=\"edge\">\n",
       "<title>140619982964048&#45;&gt;140619982964240</title>\n",
       "<path fill=\"none\" stroke=\"#000000\" d=\"M493.0552,-1727.8562C489.6283,-1721.2245 484.7372,-1711.7595 479.3579,-1701.3495\"/>\n",
       "<polygon fill=\"#000000\" stroke=\"#000000\" points=\"482.4461,-1699.7016 474.7459,-1692.4244 476.2273,-1702.9151 482.4461,-1699.7016\"/>\n",
       "</g>\n",
       "<!-- 140619982964432 -->\n",
       "<g id=\"node56\" class=\"node\">\n",
       "<title>140619982964432</title>\n",
       "<polygon fill=\"#d3d3d3\" stroke=\"#000000\" points=\"551.5385,-1807.5 450.5385,-1807.5 450.5385,-1788.5 551.5385,-1788.5 551.5385,-1807.5\"/>\n",
       "<text text-anchor=\"middle\" x=\"501.0385\" y=\"-1795.5\" font-family=\"monospace\" font-size=\"10.00\" fill=\"#000000\">AccumulateGrad</text>\n",
       "</g>\n",
       "<!-- 140619982964432&#45;&gt;140619982964048 -->\n",
       "<g id=\"edge54\" class=\"edge\">\n",
       "<title>140619982964432&#45;&gt;140619982964048</title>\n",
       "<path fill=\"none\" stroke=\"#000000\" d=\"M500.5565,-1788.2796C500.1479,-1780.0376 499.5483,-1767.9457 499.0367,-1757.629\"/>\n",
       "<polygon fill=\"#000000\" stroke=\"#000000\" points=\"502.5204,-1757.2116 498.5293,-1747.3972 495.529,-1757.5583 502.5204,-1757.2116\"/>\n",
       "</g>\n",
       "<!-- 140620005382880 -->\n",
       "<g id=\"node57\" class=\"node\">\n",
       "<title>140620005382880</title>\n",
       "<polygon fill=\"#add8e6\" stroke=\"#000000\" points=\"554.5385,-1879 447.5385,-1879 447.5385,-1849 554.5385,-1849 554.5385,-1879\"/>\n",
       "<text text-anchor=\"middle\" x=\"501.0385\" y=\"-1867\" font-family=\"monospace\" font-size=\"10.00\" fill=\"#000000\">linear_1.weight</text>\n",
       "<text text-anchor=\"middle\" x=\"501.0385\" y=\"-1856\" font-family=\"monospace\" font-size=\"10.00\" fill=\"#000000\"> (10024, 5595)</text>\n",
       "</g>\n",
       "<!-- 140620005382880&#45;&gt;140619982964432 -->\n",
       "<g id=\"edge55\" class=\"edge\">\n",
       "<title>140620005382880&#45;&gt;140619982964432</title>\n",
       "<path fill=\"none\" stroke=\"#000000\" d=\"M501.0385,-1848.6924C501.0385,-1839.5067 501.0385,-1827.7245 501.0385,-1817.8312\"/>\n",
       "<polygon fill=\"#000000\" stroke=\"#000000\" points=\"504.5386,-1817.703 501.0385,-1807.7031 497.5386,-1817.7031 504.5386,-1817.703\"/>\n",
       "</g>\n",
       "<!-- 140619982200016&#45;&gt;140619982200640 -->\n",
       "<g id=\"edge56\" class=\"edge\">\n",
       "<title>140619982200016&#45;&gt;140619982200640</title>\n",
       "<path fill=\"none\" stroke=\"#000000\" d=\"M168.3798,-1169.5397C100.2198,-1189.5596 -37.7258,-1239.7238 10.0385,-1307 30.4966,-1335.8152 111.2371,-1361.7632 179.4808,-1379.2305\"/>\n",
       "<polygon fill=\"#000000\" stroke=\"#000000\" points=\"178.8979,-1382.693 189.4502,-1381.7454 180.6101,-1375.9056 178.8979,-1382.693\"/>\n",
       "</g>\n",
       "<!-- 140619982963088 -->\n",
       "<g id=\"node59\" class=\"node\">\n",
       "<title>140619982963088</title>\n",
       "<polygon fill=\"#d3d3d3\" stroke=\"#000000\" points=\"286.5385,-1527 185.5385,-1527 185.5385,-1508 286.5385,-1508 286.5385,-1527\"/>\n",
       "<text text-anchor=\"middle\" x=\"236.0385\" y=\"-1515\" font-family=\"monospace\" font-size=\"10.00\" fill=\"#000000\">AccumulateGrad</text>\n",
       "</g>\n",
       "<!-- 140619982963088&#45;&gt;140619982200640 -->\n",
       "<g id=\"edge58\" class=\"edge\">\n",
       "<title>140619982963088&#45;&gt;140619982200640</title>\n",
       "<path fill=\"none\" stroke=\"#000000\" d=\"M239.9605,-1507.6525C243.4359,-1498.9262 248.8469,-1485.3399 254.6448,-1470.7821\"/>\n",
       "<polygon fill=\"#000000\" stroke=\"#000000\" points=\"258.0458,-1471.702 258.4943,-1461.1166 251.5426,-1469.1119 258.0458,-1471.702\"/>\n",
       "</g>\n",
       "<!-- 140620005382560 -->\n",
       "<g id=\"node60\" class=\"node\">\n",
       "<title>140620005382560</title>\n",
       "<polygon fill=\"#add8e6\" stroke=\"#000000\" points=\"292.5385,-1648 179.5385,-1648 179.5385,-1618 292.5385,-1618 292.5385,-1648\"/>\n",
       "<text text-anchor=\"middle\" x=\"236.0385\" y=\"-1636\" font-family=\"monospace\" font-size=\"10.00\" fill=\"#000000\">batch_norm1.bias</text>\n",
       "<text text-anchor=\"middle\" x=\"236.0385\" y=\"-1625\" font-family=\"monospace\" font-size=\"10.00\" fill=\"#000000\"> (10024)</text>\n",
       "</g>\n",
       "<!-- 140620005382560&#45;&gt;140619982963088 -->\n",
       "<g id=\"edge59\" class=\"edge\">\n",
       "<title>140620005382560&#45;&gt;140619982963088</title>\n",
       "<path fill=\"none\" stroke=\"#000000\" d=\"M236.0385,-1617.9004C236.0385,-1597.2903 236.0385,-1560.3051 236.0385,-1537.4365\"/>\n",
       "<polygon fill=\"#000000\" stroke=\"#000000\" points=\"239.5386,-1537.2014 236.0385,-1527.2014 232.5386,-1537.2014 239.5386,-1537.2014\"/>\n",
       "</g>\n",
       "<!-- 140619982198528 -->\n",
       "<g id=\"node61\" class=\"node\">\n",
       "<title>140619982198528</title>\n",
       "<polygon fill=\"#d3d3d3\" stroke=\"#000000\" points=\"1022.5385,-1290.5 945.5385,-1290.5 945.5385,-1271.5 1022.5385,-1271.5 1022.5385,-1290.5\"/>\n",
       "<text text-anchor=\"middle\" x=\"984.0385\" y=\"-1278.5\" font-family=\"monospace\" font-size=\"10.00\" fill=\"#000000\">TBackward0</text>\n",
       "</g>\n",
       "<!-- 140619982198528&#45;&gt;140619982198048 -->\n",
       "<g id=\"edge60\" class=\"edge\">\n",
       "<title>140619982198528&#45;&gt;140619982198048</title>\n",
       "<path fill=\"none\" stroke=\"#000000\" d=\"M972.8273,-1271.0981C961.154,-1260.7881 941.7994,-1243.6939 921.7301,-1225.9684\"/>\n",
       "<polygon fill=\"#000000\" stroke=\"#000000\" points=\"923.83,-1223.1534 914.0179,-1219.1569 919.1961,-1228.4001 923.83,-1223.1534\"/>\n",
       "</g>\n",
       "<!-- 140619982199776 -->\n",
       "<g id=\"node62\" class=\"node\">\n",
       "<title>140619982199776</title>\n",
       "<polygon fill=\"#d3d3d3\" stroke=\"#000000\" points=\"1036.5385,-1411.5 935.5385,-1411.5 935.5385,-1392.5 1036.5385,-1392.5 1036.5385,-1411.5\"/>\n",
       "<text text-anchor=\"middle\" x=\"986.0385\" y=\"-1399.5\" font-family=\"monospace\" font-size=\"10.00\" fill=\"#000000\">AccumulateGrad</text>\n",
       "</g>\n",
       "<!-- 140619982199776&#45;&gt;140619982198528 -->\n",
       "<g id=\"edge61\" class=\"edge\">\n",
       "<title>140619982199776&#45;&gt;140619982198528</title>\n",
       "<path fill=\"none\" stroke=\"#000000\" d=\"M985.8749,-1392.0981C985.5466,-1372.2349 984.802,-1327.1896 984.3685,-1300.9642\"/>\n",
       "<polygon fill=\"#000000\" stroke=\"#000000\" points=\"987.8638,-1300.6413 984.1989,-1290.7006 980.8647,-1300.7571 987.8638,-1300.6413\"/>\n",
       "</g>\n",
       "<!-- 140620005381360 -->\n",
       "<g id=\"node63\" class=\"node\">\n",
       "<title>140620005381360</title>\n",
       "<polygon fill=\"#add8e6\" stroke=\"#000000\" points=\"1039.5385,-1532.5 932.5385,-1532.5 932.5385,-1502.5 1039.5385,-1502.5 1039.5385,-1532.5\"/>\n",
       "<text text-anchor=\"middle\" x=\"986.0385\" y=\"-1520.5\" font-family=\"monospace\" font-size=\"10.00\" fill=\"#000000\">linear_2.weight</text>\n",
       "<text text-anchor=\"middle\" x=\"986.0385\" y=\"-1509.5\" font-family=\"monospace\" font-size=\"10.00\" fill=\"#000000\"> (1024, 10024)</text>\n",
       "</g>\n",
       "<!-- 140620005381360&#45;&gt;140619982199776 -->\n",
       "<g id=\"edge62\" class=\"edge\">\n",
       "<title>140620005381360&#45;&gt;140619982199776</title>\n",
       "<path fill=\"none\" stroke=\"#000000\" d=\"M986.0385,-1502.4004C986.0385,-1481.7903 986.0385,-1444.8051 986.0385,-1421.9365\"/>\n",
       "<polygon fill=\"#000000\" stroke=\"#000000\" points=\"989.5386,-1421.7014 986.0385,-1411.7014 982.5386,-1421.7014 989.5386,-1421.7014\"/>\n",
       "</g>\n",
       "<!-- 140619982198000&#45;&gt;140619982198864 -->\n",
       "<g id=\"edge63\" class=\"edge\">\n",
       "<title>140619982198000&#45;&gt;140619982198864</title>\n",
       "<path fill=\"none\" stroke=\"#000000\" d=\"M525.3902,-696.554C458.7607,-716.6879 323.3135,-767.181 370.0385,-834 389.063,-861.2058 463.279,-886.7159 527.5743,-904.4367\"/>\n",
       "<polygon fill=\"#000000\" stroke=\"#000000\" points=\"526.8209,-907.8589 537.3888,-907.1034 528.6564,-901.1038 526.8209,-907.8589\"/>\n",
       "</g>\n",
       "<!-- 140619982198768 -->\n",
       "<g id=\"node65\" class=\"node\">\n",
       "<title>140619982198768</title>\n",
       "<polygon fill=\"#d3d3d3\" stroke=\"#000000\" points=\"570.5385,-1054 469.5385,-1054 469.5385,-1035 570.5385,-1035 570.5385,-1054\"/>\n",
       "<text text-anchor=\"middle\" x=\"520.0385\" y=\"-1042\" font-family=\"monospace\" font-size=\"10.00\" fill=\"#000000\">AccumulateGrad</text>\n",
       "</g>\n",
       "<!-- 140619982198768&#45;&gt;140619982198864 -->\n",
       "<g id=\"edge65\" class=\"edge\">\n",
       "<title>140619982198768&#45;&gt;140619982198864</title>\n",
       "<path fill=\"none\" stroke=\"#000000\" d=\"M529.4171,-1034.6525C538.1236,-1025.5106 551.91,-1011.0349 566.5183,-995.6962\"/>\n",
       "<polygon fill=\"#000000\" stroke=\"#000000\" points=\"569.3749,-997.7718 573.737,-988.1166 564.3059,-992.9442 569.3749,-997.7718\"/>\n",
       "</g>\n",
       "<!-- 140620005383040 -->\n",
       "<g id=\"node66\" class=\"node\">\n",
       "<title>140620005383040</title>\n",
       "<polygon fill=\"#add8e6\" stroke=\"#000000\" points=\"573.5385,-1175 460.5385,-1175 460.5385,-1145 573.5385,-1145 573.5385,-1175\"/>\n",
       "<text text-anchor=\"middle\" x=\"517.0385\" y=\"-1163\" font-family=\"monospace\" font-size=\"10.00\" fill=\"#000000\">batch_norm2.bias</text>\n",
       "<text text-anchor=\"middle\" x=\"517.0385\" y=\"-1152\" font-family=\"monospace\" font-size=\"10.00\" fill=\"#000000\"> (1024)</text>\n",
       "</g>\n",
       "<!-- 140620005383040&#45;&gt;140619982198768 -->\n",
       "<g id=\"edge66\" class=\"edge\">\n",
       "<title>140620005383040&#45;&gt;140619982198768</title>\n",
       "<path fill=\"none\" stroke=\"#000000\" d=\"M517.4307,-1144.9004C517.9661,-1124.2903 518.9267,-1087.3051 519.5207,-1064.4365\"/>\n",
       "<polygon fill=\"#000000\" stroke=\"#000000\" points=\"523.0256,-1064.2889 519.7866,-1054.2014 516.028,-1064.1071 523.0256,-1064.2889\"/>\n",
       "</g>\n",
       "<!-- 140619982199488 -->\n",
       "<g id=\"node67\" class=\"node\">\n",
       "<title>140619982199488</title>\n",
       "<polygon fill=\"#d3d3d3\" stroke=\"#000000\" points=\"1364.5385,-817.5 1287.5385,-817.5 1287.5385,-798.5 1364.5385,-798.5 1364.5385,-817.5\"/>\n",
       "<text text-anchor=\"middle\" x=\"1326.0385\" y=\"-805.5\" font-family=\"monospace\" font-size=\"10.00\" fill=\"#000000\">TBackward0</text>\n",
       "</g>\n",
       "<!-- 140619982199488&#45;&gt;140619982199104 -->\n",
       "<g id=\"edge67\" class=\"edge\">\n",
       "<title>140619982199488&#45;&gt;140619982199104</title>\n",
       "<path fill=\"none\" stroke=\"#000000\" d=\"M1314.8273,-798.0981C1303.154,-787.7881 1283.7994,-770.6939 1263.7301,-752.9684\"/>\n",
       "<polygon fill=\"#000000\" stroke=\"#000000\" points=\"1265.83,-750.1534 1256.0179,-746.1569 1261.1961,-755.4001 1265.83,-750.1534\"/>\n",
       "</g>\n",
       "<!-- 140619982198144 -->\n",
       "<g id=\"node68\" class=\"node\">\n",
       "<title>140619982198144</title>\n",
       "<polygon fill=\"#d3d3d3\" stroke=\"#000000\" points=\"1378.5385,-938.5 1277.5385,-938.5 1277.5385,-919.5 1378.5385,-919.5 1378.5385,-938.5\"/>\n",
       "<text text-anchor=\"middle\" x=\"1328.0385\" y=\"-926.5\" font-family=\"monospace\" font-size=\"10.00\" fill=\"#000000\">AccumulateGrad</text>\n",
       "</g>\n",
       "<!-- 140619982198144&#45;&gt;140619982199488 -->\n",
       "<g id=\"edge68\" class=\"edge\">\n",
       "<title>140619982198144&#45;&gt;140619982199488</title>\n",
       "<path fill=\"none\" stroke=\"#000000\" d=\"M1327.8749,-919.0981C1327.5466,-899.2349 1326.802,-854.1896 1326.3685,-827.9642\"/>\n",
       "<polygon fill=\"#000000\" stroke=\"#000000\" points=\"1329.8638,-827.6413 1326.1989,-817.7006 1322.8647,-827.7571 1329.8638,-827.6413\"/>\n",
       "</g>\n",
       "<!-- 140620005382240 -->\n",
       "<g id=\"node69\" class=\"node\">\n",
       "<title>140620005382240</title>\n",
       "<polygon fill=\"#add8e6\" stroke=\"#000000\" points=\"1381.5385,-1059.5 1274.5385,-1059.5 1274.5385,-1029.5 1381.5385,-1029.5 1381.5385,-1059.5\"/>\n",
       "<text text-anchor=\"middle\" x=\"1328.0385\" y=\"-1047.5\" font-family=\"monospace\" font-size=\"10.00\" fill=\"#000000\">linear_3.weight</text>\n",
       "<text text-anchor=\"middle\" x=\"1328.0385\" y=\"-1036.5\" font-family=\"monospace\" font-size=\"10.00\" fill=\"#000000\"> (256, 1024)</text>\n",
       "</g>\n",
       "<!-- 140620005382240&#45;&gt;140619982198144 -->\n",
       "<g id=\"edge69\" class=\"edge\">\n",
       "<title>140620005382240&#45;&gt;140619982198144</title>\n",
       "<path fill=\"none\" stroke=\"#000000\" d=\"M1328.0385,-1029.4004C1328.0385,-1008.7903 1328.0385,-971.8051 1328.0385,-948.9365\"/>\n",
       "<polygon fill=\"#000000\" stroke=\"#000000\" points=\"1331.5386,-948.7014 1328.0385,-938.7014 1324.5386,-948.7014 1331.5386,-948.7014\"/>\n",
       "</g>\n",
       "<!-- 140619982199632&#45;&gt;140619982199872 -->\n",
       "<g id=\"edge70\" class=\"edge\">\n",
       "<title>140619982199632&#45;&gt;140619982199872</title>\n",
       "<path fill=\"none\" stroke=\"#000000\" d=\"M884.8469,-223.5439C811.56,-242.9013 668.0682,-290.9701 717.0385,-361 736.063,-388.2058 810.279,-413.7159 874.5743,-431.4367\"/>\n",
       "<polygon fill=\"#000000\" stroke=\"#000000\" points=\"873.8209,-434.8589 884.3888,-434.1034 875.6564,-428.1038 873.8209,-434.8589\"/>\n",
       "</g>\n",
       "<!-- 140619982199680 -->\n",
       "<g id=\"node71\" class=\"node\">\n",
       "<title>140619982199680</title>\n",
       "<polygon fill=\"#d3d3d3\" stroke=\"#000000\" points=\"925.5385,-581 824.5385,-581 824.5385,-562 925.5385,-562 925.5385,-581\"/>\n",
       "<text text-anchor=\"middle\" x=\"875.0385\" y=\"-569\" font-family=\"monospace\" font-size=\"10.00\" fill=\"#000000\">AccumulateGrad</text>\n",
       "</g>\n",
       "<!-- 140619982199680&#45;&gt;140619982199872 -->\n",
       "<g id=\"edge72\" class=\"edge\">\n",
       "<title>140619982199680&#45;&gt;140619982199872</title>\n",
       "<path fill=\"none\" stroke=\"#000000\" d=\"M883.735,-561.6525C891.8084,-552.5106 904.5921,-538.0349 918.138,-522.6962\"/>\n",
       "<polygon fill=\"#000000\" stroke=\"#000000\" points=\"920.8356,-524.929 924.8317,-515.1166 915.5887,-520.2954 920.8356,-524.929\"/>\n",
       "</g>\n",
       "<!-- 140620005383600 -->\n",
       "<g id=\"node72\" class=\"node\">\n",
       "<title>140620005383600</title>\n",
       "<polygon fill=\"#add8e6\" stroke=\"#000000\" points=\"924.5385,-702 811.5385,-702 811.5385,-672 924.5385,-672 924.5385,-702\"/>\n",
       "<text text-anchor=\"middle\" x=\"868.0385\" y=\"-690\" font-family=\"monospace\" font-size=\"10.00\" fill=\"#000000\">batch_norm3.bias</text>\n",
       "<text text-anchor=\"middle\" x=\"868.0385\" y=\"-679\" font-family=\"monospace\" font-size=\"10.00\" fill=\"#000000\"> (256)</text>\n",
       "</g>\n",
       "<!-- 140620005383600&#45;&gt;140619982199680 -->\n",
       "<g id=\"edge73\" class=\"edge\">\n",
       "<title>140620005383600&#45;&gt;140619982199680</title>\n",
       "<path fill=\"none\" stroke=\"#000000\" d=\"M868.9537,-671.9004C870.2028,-651.2903 872.4443,-614.3051 873.8303,-591.4365\"/>\n",
       "<polygon fill=\"#000000\" stroke=\"#000000\" points=\"877.3391,-591.3949 874.4506,-581.2014 870.352,-590.9713 877.3391,-591.3949\"/>\n",
       "</g>\n",
       "<!-- 140619982196944 -->\n",
       "<g id=\"node73\" class=\"node\">\n",
       "<title>140619982196944</title>\n",
       "<polygon fill=\"#d3d3d3\" stroke=\"#000000\" points=\"1711.5385,-344.5 1634.5385,-344.5 1634.5385,-325.5 1711.5385,-325.5 1711.5385,-344.5\"/>\n",
       "<text text-anchor=\"middle\" x=\"1673.0385\" y=\"-332.5\" font-family=\"monospace\" font-size=\"10.00\" fill=\"#000000\">TBackward0</text>\n",
       "</g>\n",
       "<!-- 140619982196944&#45;&gt;140619984675744 -->\n",
       "<g id=\"edge74\" class=\"edge\">\n",
       "<title>140619982196944&#45;&gt;140619984675744</title>\n",
       "<path fill=\"none\" stroke=\"#000000\" d=\"M1663.4639,-325.0981C1653.6266,-314.9244 1637.4014,-298.1445 1620.5054,-280.6709\"/>\n",
       "<polygon fill=\"#000000\" stroke=\"#000000\" points=\"1622.7072,-277.9129 1613.2399,-273.1569 1617.675,-282.7788 1622.7072,-277.9129\"/>\n",
       "</g>\n",
       "<!-- 140619982199536 -->\n",
       "<g id=\"node74\" class=\"node\">\n",
       "<title>140619982199536</title>\n",
       "<polygon fill=\"#d3d3d3\" stroke=\"#000000\" points=\"1728.5385,-465.5 1627.5385,-465.5 1627.5385,-446.5 1728.5385,-446.5 1728.5385,-465.5\"/>\n",
       "<text text-anchor=\"middle\" x=\"1678.0385\" y=\"-453.5\" font-family=\"monospace\" font-size=\"10.00\" fill=\"#000000\">AccumulateGrad</text>\n",
       "</g>\n",
       "<!-- 140619982199536&#45;&gt;140619982196944 -->\n",
       "<g id=\"edge75\" class=\"edge\">\n",
       "<title>140619982199536&#45;&gt;140619982196944</title>\n",
       "<path fill=\"none\" stroke=\"#000000\" d=\"M1677.6294,-446.0981C1676.8086,-426.2349 1674.9472,-381.1896 1673.8635,-354.9642\"/>\n",
       "<polygon fill=\"#000000\" stroke=\"#000000\" points=\"1677.3494,-354.5475 1673.4394,-344.7006 1670.3553,-354.8366 1677.3494,-354.5475\"/>\n",
       "</g>\n",
       "<!-- 140620005382640 -->\n",
       "<g id=\"node75\" class=\"node\">\n",
       "<title>140620005382640</title>\n",
       "<polygon fill=\"#add8e6\" stroke=\"#000000\" points=\"1743.5385,-586.5 1612.5385,-586.5 1612.5385,-556.5 1743.5385,-556.5 1743.5385,-586.5\"/>\n",
       "<text text-anchor=\"middle\" x=\"1678.0385\" y=\"-574.5\" font-family=\"monospace\" font-size=\"10.00\" fill=\"#000000\">output_layer.weight</text>\n",
       "<text text-anchor=\"middle\" x=\"1678.0385\" y=\"-563.5\" font-family=\"monospace\" font-size=\"10.00\" fill=\"#000000\"> (1, 256)</text>\n",
       "</g>\n",
       "<!-- 140620005382640&#45;&gt;140619982199536 -->\n",
       "<g id=\"edge76\" class=\"edge\">\n",
       "<title>140620005382640&#45;&gt;140619982199536</title>\n",
       "<path fill=\"none\" stroke=\"#000000\" d=\"M1678.0385,-556.4004C1678.0385,-535.7903 1678.0385,-498.8051 1678.0385,-475.9365\"/>\n",
       "<polygon fill=\"#000000\" stroke=\"#000000\" points=\"1681.5386,-475.7014 1678.0385,-465.7014 1674.5386,-475.7014 1681.5386,-475.7014\"/>\n",
       "</g>\n",
       "</g>\n",
       "</svg>\n"
      ],
      "text/plain": [
       "<graphviz.graphs.Digraph at 0x7fe4a4220970>"
      ]
     },
     "execution_count": 54,
     "metadata": {},
     "output_type": "execute_result"
    }
   ],
   "source": [
    "make_dot(y_pred.mean(), params=dict(model.named_parameters()), show_attrs=True, show_saved=True)"
   ]
  },
  {
   "cell_type": "code",
   "execution_count": 73,
   "id": "9b4d5c11-9d6b-4bf8-996d-109b159e4fbf",
   "metadata": {},
   "outputs": [
=======
      "Epoch 001: | Loss: 0.44791 | Acc: 79.263\n"
     ]
    },
    {
     "name": "stderr",
     "output_type": "stream",
     "text": [
      "100%|██████████| 194/194 [00:01<00:00, 132.68it/s]\n"
     ]
    },
>>>>>>> f1c5f298babad4687b3d045ca88352e1eccfc0ed
    {
     "name": "stdout",
     "output_type": "stream",
     "text": [
<<<<<<< HEAD
      "Accuracy: 99.121 | F1: 99.119  | Average Precision: 99.958 | Precision: 99.377 | Recall: 98.862\n"
     ]
    }
   ],
   "source": [
    "print(f\"Accuracy: {_acc.compute()*100:.3f} | F1: {_f1.compute()*100:.3f}  | Average Precision: {_av.compute()*100:.3f} | Precision: {_pre.compute()*100:.3f} | Recall: {_recall.compute()*100:.3f}\")"
   ]
  },
  {
   "cell_type": "code",
   "execution_count": 85,
   "id": "b32b7921-32ff-4961-ab15-525d848f36b8",
   "metadata": {},
   "outputs": [],
   "source": [
    "y_pred_list = []\n",
    "model.eval()\n",
    "with torch.no_grad():\n",
    "    for X_batch in test_dataloader:\n",
    "        X_batch = X_batch.to(device)\n",
    "        y_test_pred = model(X_batch)\n",
    "        y_test_pred = torch.sigmoid(y_test_pred)\n",
    "        y_pred_tag = torch.round(y_test_pred)\n",
    "        y_pred_list.append(y_pred_tag.cpu().numpy())\n",
    "\n",
    "        \n",
    "        y_pred_list = [a.squeeze() for a in y_pred_list]"
   ]
  },
  {
   "cell_type": "code",
   "execution_count": 87,
   "id": "89853d51-1e6f-478b-a13b-d78e2fccd5ea",
   "metadata": {},
   "outputs": [
    {
     "data": {
      "text/plain": [
       "array([[1510,   30],\n",
       "       [ 455, 7660]])"
      ]
     },
     "execution_count": 87,
     "metadata": {},
     "output_type": "execute_result"
    }
   ],
   "source": [
    "confusion_matrix(y_test, y_pred_list)"
   ]
  },
  {
   "cell_type": "code",
   "execution_count": 88,
   "id": "6f1e4a0e-d56c-450a-9b97-7db5741f2cd1",
   "metadata": {},
   "outputs": [
=======
      "Epoch 002: | Loss: 0.36266 | Acc: 83.835\n"
     ]
    },
    {
     "name": "stderr",
     "output_type": "stream",
     "text": [
      "100%|██████████| 194/194 [00:01<00:00, 123.84it/s]\n"
     ]
    },
>>>>>>> f1c5f298babad4687b3d045ca88352e1eccfc0ed
    {
     "name": "stdout",
     "output_type": "stream",
     "text": [
<<<<<<< HEAD
      "              precision    recall  f1-score   support\n",
      "\n",
      "         0.0       0.77      0.98      0.86      1540\n",
      "         1.0       1.00      0.94      0.97      8115\n",
      "\n",
      "    accuracy                           0.95      9655\n",
      "   macro avg       0.88      0.96      0.92      9655\n",
      "weighted avg       0.96      0.95      0.95      9655\n",
      "\n"
     ]
    }
   ],
   "source": [
    "print(classification_report(y_test, y_pred_list))"
   ]
  },
  {
   "cell_type": "markdown",
   "id": "3b4313ba-48cb-422e-b376-970a7e7e6995",
   "metadata": {},
   "source": [
    "## Shuffle a column at a time"
   ]
  },
  {
   "cell_type": "code",
   "execution_count": 139,
   "id": "4c2cd2d6-4e07-4256-a3a5-7ea2283a4972",
   "metadata": {},
   "outputs": [],
   "source": [
    "# same_characteristic\n",
    "same_characteristic = []\n",
    "for j in range(373):\n",
    "    same_characteristic.append([i*373+j for i in range(15)])\n",
    "    \n",
    "def iter_list(l):\n",
    "    for i in l:\n",
    "        yield i\n"
   ]
  },
  {
   "cell_type": "code",
   "execution_count": 142,
   "id": "564eed3b-3c72-4d9b-827c-45cac7de931e",
   "metadata": {},
   "outputs": [
    {
     "data": {
      "text/html": [
       "<style>\n",
       "</style>\n",
       "<div class=\"enlighten\">\n",
       "  <div class=\"enlighten-bar\">\n",
       "    <pre>Shuffle 100%|████████████████████████████████████████████| 373/373 [1h 16:34&lt;00:00, 0.08 Shuffles/s]</pre>\n",
       "  </div>\n",
       "  <br>\n",
       "  <br>\n",
       "</div>\n"
      ],
      "text/plain": [
       "<IPython.core.display.HTML object>"
      ]
     },
     "metadata": {},
     "output_type": "display_data"
=======
      "Epoch 003: | Loss: 0.31784 | Acc: 86.227\n"
     ]
    },
    {
     "name": "stderr",
     "output_type": "stream",
     "text": [
      "100%|██████████| 194/194 [00:01<00:00, 134.07it/s]\n"
     ]
>>>>>>> f1c5f298babad4687b3d045ca88352e1eccfc0ed
    },
    {
     "name": "stdout",
     "output_type": "stream",
     "text": [
<<<<<<< HEAD
      "Epoch 015: | Loss: 0.11718 | Acc: 95.469\n",
      "      Accuracy        F1  Precision    Recall  \\\n",
      "id_0  0.928845  0.956433   0.985236  0.929267   \n",
      "\n",
      "                                 Precision-Recall Curve  \n",
      "id_0  ([tensor(0.8405), tensor(0.9852), tensor(1.)],...  \n",
      "Epoch 015: | Loss: 0.12424 | Acc: 95.082\n",
      "      Accuracy        F1  Precision    Recall  \\\n",
      "id_1  0.888244  0.929269   0.992717  0.873444   \n",
      "\n",
      "                                 Precision-Recall Curve  \n",
      "id_1  ([tensor(0.8405), tensor(0.9927), tensor(1.)],...  \n",
      "Epoch 015: | Loss: 0.14306 | Acc: 94.449\n",
      "      Accuracy        F1  Precision   Recall  \\\n",
      "id_2  0.880062  0.923635   0.993474  0.86297   \n",
      "\n",
      "                                 Precision-Recall Curve  \n",
      "id_2  ([tensor(0.8405), tensor(0.9935), tensor(1.)],...  \n",
      "Epoch 015: | Loss: 0.10794 | Acc: 95.673\n",
      "      Accuracy        F1  Precision    Recall  \\\n",
      "id_3  0.928742  0.956145    0.99036  0.924214   \n",
      "\n",
      "                                 Precision-Recall Curve  \n",
      "id_3  ([tensor(0.8405), tensor(0.9904), tensor(1.)],...  \n",
      "Epoch 015: | Loss: 0.11442 | Acc: 95.592\n",
      "      Accuracy        F1  Precision    Recall  \\\n",
      "id_4  0.919627  0.950339    0.98855  0.914972   \n",
      "\n",
      "                                 Precision-Recall Curve  \n",
      "id_4  ([tensor(0.8405), tensor(0.9886), tensor(1.)],...  \n",
      "Epoch 015: | Loss: 0.10475 | Acc: 96.122\n",
      "      Accuracy       F1  Precision    Recall  \\\n",
      "id_5  0.930295  0.95724   0.988064  0.928281   \n",
      "\n",
      "                                 Precision-Recall Curve  \n",
      "id_5  ([tensor(0.8405), tensor(0.9881), tensor(1.)],...  \n",
      "Epoch 015: | Loss: 0.13356 | Acc: 94.980\n",
      "      Accuracy        F1  Precision   Recall  \\\n",
      "id_6  0.918695  0.949547   0.992343  0.91029   \n",
      "\n",
      "                                 Precision-Recall Curve  \n",
      "id_6  ([tensor(0.8405), tensor(0.9923), tensor(1.)],...  \n",
      "Epoch 015: | Loss: 0.11995 | Acc: 95.388\n",
      "      Accuracy        F1  Precision    Recall  \\\n",
      "id_7  0.935888  0.961397   0.973232  0.949846   \n",
      "\n",
      "                                 Precision-Recall Curve  \n",
      "id_7  ([tensor(0.8405), tensor(0.9732), tensor(1.)],...  \n",
      "Epoch 015: | Loss: 0.11656 | Acc: 95.551\n",
      "      Accuracy        F1  Precision    Recall  \\\n",
      "id_8  0.935577  0.960836   0.982361  0.940234   \n",
      "\n",
      "                                 Precision-Recall Curve  \n",
      "id_8  ([tensor(0.8405), tensor(0.9824), tensor(1.)],...  \n",
      "Epoch 015: | Loss: 0.11963 | Acc: 95.245\n",
      "      Accuracy        F1  Precision    Recall  \\\n",
      "id_9   0.93361  0.959428   0.986335  0.933949   \n",
      "\n",
      "                                 Precision-Recall Curve  \n",
      "id_9  ([tensor(0.8405), tensor(0.9863), tensor(1.)],...  \n",
      "Epoch 015: | Loss: 0.10700 | Acc: 95.796\n",
      "       Accuracy        F1  Precision    Recall  \\\n",
      "id_10  0.878612  0.922671   0.993041  0.861614   \n",
      "\n",
      "                                  Precision-Recall Curve  \n",
      "id_10  ([tensor(0.8405), tensor(0.9930), tensor(1.)],...  \n",
      "Epoch 015: | Loss: 0.11974 | Acc: 95.286\n",
      "       Accuracy       F1  Precision   Recall  \\\n",
      "id_11  0.934335  0.96001   0.983331  0.93777   \n",
      "\n",
      "                                  Precision-Recall Curve  \n",
      "id_11  ([tensor(0.8405), tensor(0.9833), tensor(1.)],...  \n",
      "Epoch 015: | Loss: 0.11551 | Acc: 95.592\n",
      "       Accuracy        F1  Precision    Recall  \\\n",
      "id_12  0.914552  0.947051   0.988213  0.909181   \n",
      "\n",
      "                                  Precision-Recall Curve  \n",
      "id_12  ([tensor(0.8405), tensor(0.9882), tensor(1.)],...  \n",
      "Epoch 015: | Loss: 0.11409 | Acc: 95.571\n",
      "       Accuracy       F1  Precision    Recall  \\\n",
      "id_13  0.926774  0.95496   0.988525  0.923598   \n",
      "\n",
      "                                  Precision-Recall Curve  \n",
      "id_13  ([tensor(0.8405), tensor(0.9885), tensor(1.)],...  \n",
      "Epoch 015: | Loss: 0.11778 | Acc: 95.551\n",
      "       Accuracy        F1  Precision    Recall  \\\n",
      "id_14  0.941067  0.964288   0.982604  0.946642   \n",
      "\n",
      "                                  Precision-Recall Curve  \n",
      "id_14  ([tensor(0.8405), tensor(0.9826), tensor(1.)],...  \n",
      "Epoch 015: | Loss: 0.12663 | Acc: 94.959\n",
      "       Accuracy        F1  Precision   Recall  \\\n",
      "id_15  0.921181  0.951365   0.988184  0.91719   \n",
      "\n",
      "                                  Precision-Recall Curve  \n",
      "id_15  ([tensor(0.8405), tensor(0.9882), tensor(1.)],...  \n",
      "Epoch 015: | Loss: 0.10281 | Acc: 96.000\n",
      "       Accuracy        F1  Precision    Recall  \\\n",
      "id_16  0.946453  0.967535   0.986428  0.949353   \n",
      "\n",
      "                                  Precision-Recall Curve  \n",
      "id_16  ([tensor(0.8405), tensor(0.9864), tensor(1.)],...  \n",
      "Epoch 015: | Loss: 0.12683 | Acc: 95.163\n",
      "       Accuracy        F1  Precision    Recall  \\\n",
      "id_17  0.902123  0.938632   0.992175  0.890573   \n",
      "\n",
      "                                  Precision-Recall Curve  \n",
      "id_17  ([tensor(0.8405), tensor(0.9922), tensor(1.)],...  \n",
      "Epoch 015: | Loss: 0.12147 | Acc: 95.224\n",
      "       Accuracy        F1  Precision   Recall  \\\n",
      "id_18  0.890419  0.930904   0.990274  0.87825   \n",
      "\n",
      "                                  Precision-Recall Curve  \n",
      "id_18  ([tensor(0.8405), tensor(0.9903), tensor(1.)],...  \n",
      "Epoch 015: | Loss: 0.11671 | Acc: 95.408\n",
      "       Accuracy        F1  Precision    Recall  \\\n",
      "id_19  0.872812  0.918654   0.993267  0.854467   \n",
      "\n",
      "                                  Precision-Recall Curve  \n",
      "id_19  ([tensor(0.8405), tensor(0.9933), tensor(1.)],...  \n",
      "Epoch 015: | Loss: 0.12194 | Acc: 95.286\n",
      "       Accuracy       F1  Precision    Recall  \\\n",
      "id_20  0.924702  0.95365   0.987979  0.921627   \n",
      "\n",
      "                                  Precision-Recall Curve  \n",
      "id_20  ([tensor(0.8405), tensor(0.9880), tensor(1.)],...  \n",
      "Epoch 015: | Loss: 0.12330 | Acc: 94.980\n",
      "       Accuracy        F1  Precision    Recall  \\\n",
      "id_21  0.902123  0.938712   0.990827  0.891805   \n",
      "\n",
      "                                  Precision-Recall Curve  \n",
      "id_21  ([tensor(0.8405), tensor(0.9908), tensor(1.)],...  \n",
      "Epoch 015: | Loss: 0.11119 | Acc: 95.469\n",
      "       Accuracy        F1  Precision    Recall  \\\n",
      "id_22  0.928845  0.956599   0.981462  0.932964   \n",
      "\n",
      "                                  Precision-Recall Curve  \n",
      "id_22  ([tensor(0.8405), tensor(0.9815), tensor(1.)],...  \n",
      "Epoch 015: | Loss: 0.10753 | Acc: 95.837\n",
      "       Accuracy        F1  Precision    Recall  \\\n",
      "id_23  0.943967  0.966139   0.981684  0.951078   \n",
      "\n",
      "                                  Precision-Recall Curve  \n",
      "id_23  ([tensor(0.8405), tensor(0.9817), tensor(1.)],...  \n",
      "Epoch 015: | Loss: 0.10109 | Acc: 96.122\n",
      "       Accuracy        F1  Precision    Recall  \\\n",
      "id_24  0.942517  0.965145   0.984119  0.946889   \n",
      "\n",
      "                                  Precision-Recall Curve  \n",
      "id_24  ([tensor(0.8405), tensor(0.9841), tensor(1.)],...  \n",
      "Epoch 015: | Loss: 0.11103 | Acc: 95.592\n",
      "       Accuracy       F1  Precision    Recall  \\\n",
      "id_25  0.935163  0.96035    0.98801  0.934196   \n",
      "\n",
      "                                  Precision-Recall Curve  \n",
      "id_25  ([tensor(0.8405), tensor(0.9880), tensor(1.)],...  \n",
      "Epoch 015: | Loss: 0.11358 | Acc: 95.673\n",
      "       Accuracy        F1  Precision    Recall  \\\n",
      "id_26  0.911963  0.945429   0.986865  0.907332   \n",
      "\n",
      "                                  Precision-Recall Curve  \n",
      "id_26  ([tensor(0.8405), tensor(0.9869), tensor(1.)],...  \n",
      "Epoch 015: | Loss: 0.12067 | Acc: 95.327\n",
      "       Accuracy        F1  Precision    Recall  \\\n",
      "id_27  0.905748  0.941199   0.989404  0.897474   \n",
      "\n",
      "                                  Precision-Recall Curve  \n",
      "id_27  ([tensor(0.8405), tensor(0.9894), tensor(1.)],...  \n",
      "Epoch 015: | Loss: 0.12848 | Acc: 94.857\n",
      "       Accuracy        F1  Precision    Recall  \\\n",
      "id_28   0.91942  0.950421   0.984163  0.918916   \n",
      "\n",
      "                                  Precision-Recall Curve  \n",
      "id_28  ([tensor(0.8405), tensor(0.9842), tensor(1.)],...  \n",
      "Epoch 015: | Loss: 0.11175 | Acc: 95.714\n",
      "       Accuracy        F1  Precision    Recall  \\\n",
      "id_29  0.928845  0.956445   0.984983  0.929513   \n",
      "\n",
      "                                  Precision-Recall Curve  \n",
      "id_29  ([tensor(0.8405), tensor(0.9850), tensor(1.)],...  \n",
      "Epoch 015: | Loss: 0.10934 | Acc: 95.633\n",
      "       Accuracy        F1  Precision    Recall  \\\n",
      "id_30  0.909373  0.943325   0.994265  0.897351   \n",
      "\n",
      "                                  Precision-Recall Curve  \n",
      "id_30  ([tensor(0.8405), tensor(0.9943), tensor(1.)],...  \n",
      "Epoch 015: | Loss: 0.12291 | Acc: 95.061\n",
      "       Accuracy        F1  Precision    Recall  \\\n",
      "id_31  0.933402  0.959306   0.986079  0.933949   \n",
      "\n",
      "                                  Precision-Recall Curve  \n",
      "id_31  ([tensor(0.8405), tensor(0.9861), tensor(1.)],...  \n",
      "Epoch 015: | Loss: 0.11051 | Acc: 95.531\n",
      "       Accuracy        F1  Precision    Recall  \\\n",
      "id_32  0.923356  0.952782   0.987958  0.920025   \n",
      "\n",
      "                                  Precision-Recall Curve  \n",
      "id_32  ([tensor(0.8405), tensor(0.9880), tensor(1.)],...  \n",
      "Epoch 015: | Loss: 0.12767 | Acc: 94.918\n",
      "       Accuracy        F1  Precision    Recall  \\\n",
      "id_33  0.904505  0.940215   0.992199  0.893407   \n",
      "\n",
      "                                  Precision-Recall Curve  \n",
      "id_33  ([tensor(0.8405), tensor(0.9922), tensor(1.)],...  \n",
      "Epoch 015: | Loss: 0.12378 | Acc: 95.122\n",
      "       Accuracy        F1  Precision    Recall  \\\n",
      "id_34  0.924495  0.953588   0.986433  0.922859   \n",
      "\n",
      "                                  Precision-Recall Curve  \n",
      "id_34  ([tensor(0.8405), tensor(0.9864), tensor(1.)],...  \n",
      "Epoch 015: | Loss: 0.11496 | Acc: 95.735\n",
      "       Accuracy        F1  Precision    Recall  \\\n",
      "id_35  0.928534  0.956168   0.986758  0.927418   \n",
      "\n",
      "                                  Precision-Recall Curve  \n",
      "id_35  ([tensor(0.8405), tensor(0.9868), tensor(1.)],...  \n",
      "Epoch 015: | Loss: 0.11550 | Acc: 95.776\n",
      "       Accuracy        F1  Precision    Recall  \\\n",
      "id_36  0.901502  0.938275   0.991223  0.890696   \n",
      "\n",
      "                                  Precision-Recall Curve  \n",
      "id_36  ([tensor(0.8405), tensor(0.9912), tensor(1.)],...  \n",
      "Epoch 015: | Loss: 0.12125 | Acc: 95.184\n",
      "       Accuracy        F1  Precision    Recall  \\\n",
      "id_37  0.935163  0.960792   0.976946  0.945163   \n",
      "\n",
      "                                  Precision-Recall Curve  \n",
      "id_37  ([tensor(0.8405), tensor(0.9769), tensor(1.)],...  \n",
      "Epoch 015: | Loss: 0.10956 | Acc: 95.694\n",
      "       Accuracy        F1  Precision    Recall  \\\n",
      "id_38  0.905645  0.940994   0.991808  0.895132   \n",
      "\n",
      "                                  Precision-Recall Curve  \n",
      "id_38  ([tensor(0.8405), tensor(0.9918), tensor(1.)],...  \n",
      "Epoch 015: | Loss: 0.11259 | Acc: 95.633\n",
      "       Accuracy        F1  Precision    Recall  \\\n",
      "id_39  0.869912  0.917379   0.983914  0.859273   \n",
      "\n",
      "                                  Precision-Recall Curve  \n",
      "id_39  ([tensor(0.8405), tensor(0.9839), tensor(1.)],...  \n",
      "Epoch 015: | Loss: 0.10813 | Acc: 95.755\n",
      "       Accuracy        F1  Precision    Recall  \\\n",
      "id_40  0.933506  0.959434   0.984568  0.935551   \n",
      "\n",
      "                                  Precision-Recall Curve  \n",
      "id_40  ([tensor(0.8405), tensor(0.9846), tensor(1.)],...  \n",
      "Epoch 015: | Loss: 0.11132 | Acc: 95.653\n",
      "       Accuracy        F1  Precision    Recall  \\\n",
      "id_41  0.936199  0.961452   0.976732  0.946642   \n",
      "\n",
      "                                  Precision-Recall Curve  \n",
      "id_41  ([tensor(0.8405), tensor(0.9767), tensor(1.)],...  \n",
      "Epoch 015: | Loss: 0.11065 | Acc: 95.490\n",
      "       Accuracy        F1  Precision    Recall  \\\n",
      "id_42  0.930917  0.957648   0.987818  0.929267   \n",
      "\n",
      "                                  Precision-Recall Curve  \n",
      "id_42  ([tensor(0.8405), tensor(0.9878), tensor(1.)],...  \n",
      "Epoch 015: | Loss: 0.11734 | Acc: 95.469\n",
      "       Accuracy        F1  Precision    Recall  \\\n",
      "id_43  0.946453  0.967798   0.978463  0.957363   \n",
      "\n",
      "                                  Precision-Recall Curve  \n",
      "id_43  ([tensor(0.8405), tensor(0.9785), tensor(1.)],...  \n",
      "Epoch 015: | Loss: 0.12346 | Acc: 95.306\n",
      "       Accuracy        F1  Precision    Recall  \\\n",
      "id_44  0.935888  0.960964   0.984113  0.938879   \n",
      "\n",
      "                                  Precision-Recall Curve  \n",
      "id_44  ([tensor(0.8405), tensor(0.9841), tensor(1.)],...  \n",
      "Epoch 015: | Loss: 0.11410 | Acc: 95.653\n",
      "       Accuracy        F1  Precision    Recall  \\\n",
      "id_45   0.92377  0.953181   0.985141  0.923229   \n",
      "\n",
      "                                  Precision-Recall Curve  \n",
      "id_45  ([tensor(0.8405), tensor(0.9851), tensor(1.)],...  \n",
      "Epoch 015: | Loss: 0.12600 | Acc: 94.980\n",
      "       Accuracy        F1  Precision    Recall  \\\n",
      "id_46  0.861005  0.910925   0.987196  0.845595   \n",
      "\n",
      "                                  Precision-Recall Curve  \n",
      "id_46  ([tensor(0.8405), tensor(0.9872), tensor(1.)],...  \n",
      "Epoch 015: | Loss: 0.11533 | Acc: 95.612\n",
      "       Accuracy        F1  Precision    Recall  \\\n",
      "id_47  0.915691  0.947585   0.992313  0.906716   \n",
      "\n",
      "                                  Precision-Recall Curve  \n",
      "id_47  ([tensor(0.8405), tensor(0.9923), tensor(1.)],...  \n",
      "Epoch 015: | Loss: 0.10921 | Acc: 95.837\n",
      "       Accuracy        F1  Precision    Recall  \\\n",
      "id_48  0.924599  0.953924   0.980612  0.928651   \n",
      "\n",
      "                                  Precision-Recall Curve  \n",
      "id_48  ([tensor(0.8405), tensor(0.9806), tensor(1.)],...  \n",
      "Epoch 015: | Loss: 0.10647 | Acc: 95.980\n",
      "       Accuracy        F1  Precision    Recall  \\\n",
      "id_49  0.940756  0.963916   0.987463  0.941466   \n",
      "\n",
      "                                  Precision-Recall Curve  \n",
      "id_49  ([tensor(0.8405), tensor(0.9875), tensor(1.)],...  \n",
      "Epoch 015: | Loss: 0.11205 | Acc: 95.633\n",
      "       Accuracy        F1  Precision   Recall  \\\n",
      "id_50  0.924392  0.953438   0.988232  0.92101   \n",
      "\n",
      "                                  Precision-Recall Curve  \n",
      "id_50  ([tensor(0.8405), tensor(0.9882), tensor(1.)],...  \n",
      "Epoch 015: | Loss: 0.11669 | Acc: 95.490\n",
      "       Accuracy        F1  Precision    Recall  \\\n",
      "id_51  0.858208  0.908483    0.99284  0.837338   \n",
      "\n",
      "                                  Precision-Recall Curve  \n",
      "id_51  ([tensor(0.8405), tensor(0.9928), tensor(1.)],...  \n",
      "Epoch 015: | Loss: 0.11474 | Acc: 95.408\n",
      "       Accuracy        F1  Precision    Recall  \\\n",
      "id_52  0.917556  0.949144   0.985538  0.915342   \n",
      "\n",
      "                                  Precision-Recall Curve  \n",
      "id_52  ([tensor(0.8405), tensor(0.9855), tensor(1.)],...  \n",
      "Epoch 015: | Loss: 0.11975 | Acc: 95.306\n",
      "       Accuracy        F1  Precision    Recall  \\\n",
      "id_53  0.937442  0.961902   0.985269  0.939618   \n",
      "\n",
      "                                  Precision-Recall Curve  \n",
      "id_53  ([tensor(0.8405), tensor(0.9853), tensor(1.)],...  \n",
      "Epoch 015: | Loss: 0.10776 | Acc: 95.837\n",
      "       Accuracy        F1  Precision    Recall  \\\n",
      "id_54  0.922216  0.952004   0.988848  0.917807   \n",
      "\n",
      "                                  Precision-Recall Curve  \n",
      "id_54  ([tensor(0.8405), tensor(0.9888), tensor(1.)],...  \n",
      "Epoch 015: | Loss: 0.12897 | Acc: 94.816\n",
      "       Accuracy        F1  Precision    Recall  \\\n",
      "id_55  0.942724  0.965448   0.979214  0.952064   \n",
      "\n",
      "                                  Precision-Recall Curve  \n",
      "id_55  ([tensor(0.8405), tensor(0.9792), tensor(1.)],...  \n",
      "Epoch 015: | Loss: 0.11759 | Acc: 95.429\n",
      "       Accuracy        F1  Precision    Recall  \\\n",
      "id_56  0.921491  0.951769   0.983949  0.921627   \n",
      "\n",
      "                                  Precision-Recall Curve  \n",
      "id_56  ([tensor(0.8405), tensor(0.9839), tensor(1.)],...  \n",
      "Epoch 015: | Loss: 0.10828 | Acc: 95.735\n",
      "       Accuracy        F1  Precision    Recall  \\\n",
      "id_57  0.928327  0.956335   0.979956  0.933826   \n",
      "\n",
      "                                  Precision-Recall Curve  \n",
      "id_57  ([tensor(0.8405), tensor(0.9800), tensor(1.)],...  \n",
      "Epoch 015: | Loss: 0.12036 | Acc: 95.449\n",
      "       Accuracy        F1  Precision    Recall  \\\n",
      "id_58  0.937856  0.962183   0.984776  0.940604   \n",
      "\n",
      "                                  Precision-Recall Curve  \n",
      "id_58  ([tensor(0.8405), tensor(0.9848), tensor(1.)],...  \n",
      "Epoch 015: | Loss: 0.12418 | Acc: 95.204\n",
      "       Accuracy        F1  Precision    Recall  \\\n",
      "id_59  0.914138  0.946582   0.992031  0.905114   \n",
      "\n",
      "                                  Precision-Recall Curve  \n",
      "id_59  ([tensor(0.8405), tensor(0.9920), tensor(1.)],...  \n",
      "Epoch 015: | Loss: 0.10387 | Acc: 96.000\n",
      "       Accuracy       F1  Precision    Recall  \\\n",
      "id_60  0.921077  0.95106   0.993159  0.912384   \n",
      "\n",
      "                                  Precision-Recall Curve  \n",
      "id_60  ([tensor(0.8405), tensor(0.9932), tensor(1.)],...  \n",
      "Epoch 015: | Loss: 0.12251 | Acc: 95.163\n",
      "       Accuracy        F1  Precision    Recall  \\\n",
      "id_61  0.936095  0.961541   0.972881  0.950462   \n",
      "\n",
      "                                  Precision-Recall Curve  \n",
      "id_61  ([tensor(0.8405), tensor(0.9729), tensor(1.)],...  \n",
      "Epoch 015: | Loss: 0.10872 | Acc: 95.776\n",
      "       Accuracy        F1  Precision    Recall  \\\n",
      "id_62  0.915484  0.947625   0.988881  0.909673   \n",
      "\n",
      "                                  Precision-Recall Curve  \n",
      "id_62  ([tensor(0.8405), tensor(0.9889), tensor(1.)],...  \n",
      "Epoch 015: | Loss: 0.10890 | Acc: 95.571\n",
      "       Accuracy        F1  Precision    Recall  \\\n",
      "id_63   0.93392  0.959798   0.982076  0.938509   \n",
      "\n",
      "                                  Precision-Recall Curve  \n",
      "id_63  ([tensor(0.8405), tensor(0.9821), tensor(1.)],...  \n",
      "Epoch 015: | Loss: 0.11048 | Acc: 95.653\n",
      "       Accuracy        F1  Precision    Recall  \\\n",
      "id_64  0.926359  0.954762   0.986977  0.924584   \n",
      "\n",
      "                                  Precision-Recall Curve  \n",
      "id_64  ([tensor(0.8405), tensor(0.9870), tensor(1.)],...  \n",
      "Epoch 015: | Loss: 0.10159 | Acc: 96.122\n",
      "       Accuracy        F1  Precision   Recall  \\\n",
      "id_65  0.916727  0.948574   0.986168  0.91374   \n",
      "\n",
      "                                  Precision-Recall Curve  \n",
      "id_65  ([tensor(0.8405), tensor(0.9862), tensor(1.)],...  \n",
      "Epoch 015: | Loss: 0.10771 | Acc: 95.959\n",
      "       Accuracy        F1  Precision    Recall  \\\n",
      "id_66  0.939306  0.963494   0.974298  0.952927   \n",
      "\n",
      "                                  Precision-Recall Curve  \n",
      "id_66  ([tensor(0.8405), tensor(0.9743), tensor(1.)],...  \n",
      "Epoch 015: | Loss: 0.10732 | Acc: 96.082\n",
      "       Accuracy        F1  Precision    Recall  \\\n",
      "id_67   0.94231  0.965479   0.971197  0.959827   \n",
      "\n",
      "                                  Precision-Recall Curve  \n",
      "id_67  ([tensor(0.8405), tensor(0.9712), tensor(1.)],...  \n",
      "Epoch 015: | Loss: 0.11497 | Acc: 95.490\n",
      "       Accuracy        F1  Precision   Recall  \\\n",
      "id_68  0.920559  0.952393    0.95948  0.94541   \n",
      "\n",
      "                                  Precision-Recall Curve  \n",
      "id_68  ([tensor(0.8405), tensor(0.9595), tensor(1.)],...  \n",
      "Epoch 015: | Loss: 0.10142 | Acc: 96.102\n",
      "       Accuracy        F1  Precision    Recall  \\\n",
      "id_69  0.885862  0.927557   0.994082  0.869378   \n",
      "\n",
      "                                  Precision-Recall Curve  \n",
      "id_69  ([tensor(0.8405), tensor(0.9941), tensor(1.)],...  \n",
      "Epoch 015: | Loss: 0.10380 | Acc: 95.755\n",
      "       Accuracy        F1  Precision    Recall  \\\n",
      "id_70  0.943449  0.965704   0.984881  0.947258   \n",
      "\n",
      "                                  Precision-Recall Curve  \n",
      "id_70  ([tensor(0.8405), tensor(0.9849), tensor(1.)],...  \n",
      "Epoch 015: | Loss: 0.10775 | Acc: 95.755\n",
      "       Accuracy        F1  Precision    Recall  \\\n",
      "id_71  0.946038  0.967321   0.985054  0.950216   \n",
      "\n",
      "                                  Precision-Recall Curve  \n",
      "id_71  ([tensor(0.8405), tensor(0.9851), tensor(1.)],...  \n",
      "Epoch 015: | Loss: 0.10358 | Acc: 95.939\n",
      "       Accuracy        F1  Precision    Recall  \\\n",
      "id_72  0.936924  0.961845   0.978333  0.945903   \n",
      "\n",
      "                                  Precision-Recall Curve  \n",
      "id_72  ([tensor(0.8405), tensor(0.9783), tensor(1.)],...  \n",
      "Epoch 015: | Loss: 0.12839 | Acc: 95.061\n",
      "       Accuracy        F1  Precision    Recall  \\\n",
      "id_73  0.927706  0.955553   0.988668  0.924584   \n",
      "\n",
      "                                  Precision-Recall Curve  \n",
      "id_73  ([tensor(0.8405), tensor(0.9887), tensor(1.)],...  \n",
      "Epoch 015: | Loss: 0.12321 | Acc: 95.327\n",
      "       Accuracy        F1  Precision    Recall  \\\n",
      "id_74  0.888555  0.929692   0.989567  0.876648   \n",
      "\n",
      "                                  Precision-Recall Curve  \n",
      "id_74  ([tensor(0.8405), tensor(0.9896), tensor(1.)],...  \n",
      "Epoch 015: | Loss: 0.13000 | Acc: 95.000\n",
      "       Accuracy        F1  Precision    Recall  \\\n",
      "id_75  0.927499  0.955942   0.976972  0.935798   \n",
      "\n",
      "                                  Precision-Recall Curve  \n",
      "id_75  ([tensor(0.8405), tensor(0.9770), tensor(1.)],...  \n",
      "Epoch 015: | Loss: 0.11871 | Acc: 95.510\n",
      "       Accuracy       F1  Precision    Recall  \\\n",
      "id_76  0.931227  0.95825   0.978303  0.939002   \n",
      "\n",
      "                                  Precision-Recall Curve  \n",
      "id_76  ([tensor(0.8405), tensor(0.9783), tensor(1.)],...  \n",
      "Epoch 015: | Loss: 0.14131 | Acc: 94.408\n",
      "       Accuracy        F1  Precision    Recall  \\\n",
      "id_77  0.933092  0.959615   0.973861  0.945779   \n",
      "\n",
      "                                  Precision-Recall Curve  \n",
      "id_77  ([tensor(0.8405), tensor(0.9739), tensor(1.)],...  \n",
      "Epoch 015: | Loss: 0.12680 | Acc: 94.898\n",
      "       Accuracy        F1  Precision    Recall  \\\n",
      "id_78  0.932056  0.958418   0.986816  0.931608   \n",
      "\n",
      "                                  Precision-Recall Curve  \n",
      "id_78  ([tensor(0.8405), tensor(0.9868), tensor(1.)],...  \n",
      "Epoch 015: | Loss: 0.11250 | Acc: 95.653\n",
      "       Accuracy        F1  Precision    Recall  \\\n",
      "id_79  0.921077  0.951329   0.987535  0.917683   \n",
      "\n",
      "                                  Precision-Recall Curve  \n",
      "id_79  ([tensor(0.8405), tensor(0.9875), tensor(1.)],...  \n",
      "Epoch 015: | Loss: 0.12093 | Acc: 95.143\n",
      "       Accuracy        F1  Precision    Recall  \\\n",
      "id_80  0.924184  0.953125   0.992134  0.917067   \n",
      "\n",
      "                                  Precision-Recall Curve  \n",
      "id_80  ([tensor(0.8405), tensor(0.9921), tensor(1.)],...  \n",
      "Epoch 015: | Loss: 0.10799 | Acc: 95.796\n",
      "       Accuracy        F1  Precision    Recall  \\\n",
      "id_81  0.908752  0.943158   0.989843  0.900678   \n",
      "\n",
      "                                  Precision-Recall Curve  \n",
      "id_81  ([tensor(0.8405), tensor(0.9898), tensor(1.)],...  \n",
      "Epoch 015: | Loss: 0.11609 | Acc: 95.469\n",
      "       Accuracy      F1  Precision    Recall  \\\n",
      "id_82  0.932367  0.9586   0.987203  0.931608   \n",
      "\n",
      "                                  Precision-Recall Curve  \n",
      "id_82  ([tensor(0.8405), tensor(0.9872), tensor(1.)],...  \n",
      "Epoch 015: | Loss: 0.12448 | Acc: 94.939\n",
      "       Accuracy        F1  Precision    Recall  \\\n",
      "id_83  0.912066  0.945356   0.989491  0.904991   \n",
      "\n",
      "                                  Precision-Recall Curve  \n",
      "id_83  ([tensor(0.8405), tensor(0.9895), tensor(1.)],...  \n",
      "Epoch 015: | Loss: 0.10793 | Acc: 95.959\n",
      "       Accuracy        F1  Precision    Recall  \\\n",
      "id_84  0.943345  0.965738   0.982038  0.949969   \n",
      "\n",
      "                                  Precision-Recall Curve  \n",
      "id_84  ([tensor(0.8405), tensor(0.9820), tensor(1.)],...  \n",
      "Epoch 015: | Loss: 0.11920 | Acc: 95.449\n",
      "       Accuracy        F1  Precision    Recall  \\\n",
      "id_85  0.933402  0.959409   0.983562  0.936414   \n",
      "\n",
      "                                  Precision-Recall Curve  \n",
      "id_85  ([tensor(0.8405), tensor(0.9836), tensor(1.)],...  \n",
      "Epoch 015: | Loss: 0.10969 | Acc: 95.694\n",
      "       Accuracy       F1  Precision    Recall  \\\n",
      "id_86  0.925324  0.95494   0.968805  0.941466   \n",
      "\n",
      "                                  Precision-Recall Curve  \n",
      "id_86  ([tensor(0.8405), tensor(0.9688), tensor(1.)],...  \n",
      "Epoch 015: | Loss: 0.11776 | Acc: 95.469\n",
      "       Accuracy        F1  Precision    Recall  \\\n",
      "id_87  0.904298  0.940271   0.988851  0.896242   \n",
      "\n",
      "                                  Precision-Recall Curve  \n",
      "id_87  ([tensor(0.8405), tensor(0.9889), tensor(1.)],...  \n",
      "Epoch 015: | Loss: 0.11770 | Acc: 95.490\n",
      "       Accuracy        F1  Precision    Recall  \\\n",
      "id_88  0.933506  0.959316   0.987476  0.932717   \n",
      "\n",
      "                                  Precision-Recall Curve  \n",
      "id_88  ([tensor(0.8405), tensor(0.9875), tensor(1.)],...  \n",
      "Epoch 015: | Loss: 0.12740 | Acc: 95.082\n",
      "       Accuracy       F1  Precision    Recall  \\\n",
      "id_89  0.920249  0.95093    0.98469  0.919409   \n",
      "\n",
      "                                  Precision-Recall Curve  \n",
      "id_89  ([tensor(0.8405), tensor(0.9847), tensor(1.)],...  \n",
      "Epoch 015: | Loss: 0.10637 | Acc: 95.939\n",
      "       Accuracy        F1  Precision    Recall  \\\n",
      "id_90   0.93102  0.957784   0.986164  0.930992   \n",
      "\n",
      "                                  Precision-Recall Curve  \n",
      "id_90  ([tensor(0.8405), tensor(0.9862), tensor(1.)],...  \n",
      "Epoch 015: | Loss: 0.11671 | Acc: 95.347\n",
      "       Accuracy       F1  Precision    Recall  \\\n",
      "id_91   0.89622  0.93457   0.994027  0.881824   \n",
      "\n",
      "                                  Precision-Recall Curve  \n",
      "id_91  ([tensor(0.8405), tensor(0.9940), tensor(1.)],...  \n",
      "Epoch 015: | Loss: 0.12950 | Acc: 95.122\n",
      "       Accuracy        F1  Precision    Recall  \\\n",
      "id_92  0.900984  0.938283   0.985356  0.895502   \n",
      "\n",
      "                                  Precision-Recall Curve  \n",
      "id_92  ([tensor(0.8405), tensor(0.9854), tensor(1.)],...  \n",
      "Epoch 015: | Loss: 0.12132 | Acc: 95.102\n",
      "       Accuracy        F1  Precision    Recall  \\\n",
      "id_93  0.888555  0.929387   0.994104  0.872582   \n",
      "\n",
      "                                  Precision-Recall Curve  \n",
      "id_93  ([tensor(0.8405), tensor(0.9941), tensor(1.)],...  \n",
      "Epoch 015: | Loss: 0.10376 | Acc: 95.939\n",
      "       Accuracy        F1  Precision   Recall  \\\n",
      "id_94  0.942517  0.965202   0.982512  0.94849   \n",
      "\n",
      "                                  Precision-Recall Curve  \n",
      "id_94  ([tensor(0.8405), tensor(0.9825), tensor(1.)],...  \n",
      "Epoch 015: | Loss: 0.11781 | Acc: 95.469\n",
      "       Accuracy        F1  Precision    Recall  \\\n",
      "id_95  0.936613  0.961442   0.983628  0.940234   \n",
      "\n",
      "                                  Precision-Recall Curve  \n",
      "id_95  ([tensor(0.8405), tensor(0.9836), tensor(1.)],...  \n",
      "Epoch 015: | Loss: 0.10594 | Acc: 95.980\n",
      "       Accuracy        F1  Precision    Recall  \\\n",
      "id_96  0.931642  0.958005   0.990396  0.927665   \n",
      "\n",
      "                                  Precision-Recall Curve  \n",
      "id_96  ([tensor(0.8405), tensor(0.9904), tensor(1.)],...  \n",
      "Epoch 015: | Loss: 0.11416 | Acc: 95.551\n",
      "       Accuracy        F1  Precision    Recall  \\\n",
      "id_97  0.915588  0.947538   0.991914  0.906962   \n",
      "\n",
      "                                  Precision-Recall Curve  \n",
      "id_97  ([tensor(0.8405), tensor(0.9919), tensor(1.)],...  \n",
      "Epoch 015: | Loss: 0.11332 | Acc: 95.653\n",
      "       Accuracy        F1  Precision    Recall  \\\n",
      "id_98   0.93682  0.961505   0.985384  0.938755   \n",
      "\n",
      "                                  Precision-Recall Curve  \n",
      "id_98  ([tensor(0.8405), tensor(0.9854), tensor(1.)],...  \n",
      "Epoch 015: | Loss: 0.10875 | Acc: 95.918\n",
      "       Accuracy        F1  Precision    Recall  \\\n",
      "id_99   0.93972  0.963552   0.979626  0.947998   \n",
      "\n",
      "                                  Precision-Recall Curve  \n",
      "id_99  ([tensor(0.8405), tensor(0.9796), tensor(1.)],...  \n",
      "Epoch 015: | Loss: 0.12387 | Acc: 94.898\n",
      "        Accuracy      F1  Precision    Recall  \\\n",
      "id_100  0.929052  0.9564   0.989073  0.925816   \n",
      "\n",
      "                                   Precision-Recall Curve  \n",
      "id_100  ([tensor(0.8405), tensor(0.9891), tensor(1.)],...  \n",
      "Epoch 015: | Loss: 0.12333 | Acc: 95.286\n",
      "        Accuracy        F1  Precision  Recall  \\\n",
      "id_101  0.919834  0.950982   0.978241  0.9252   \n",
      "\n",
      "                                   Precision-Recall Curve  \n",
      "id_101  ([tensor(0.8405), tensor(0.9782), tensor(1.)],...  \n",
      "Epoch 015: | Loss: 0.12124 | Acc: 95.551\n",
      "        Accuracy        F1  Precision    Recall  \\\n",
      "id_102  0.884205  0.927128   0.984087  0.876402   \n",
      "\n",
      "                                   Precision-Recall Curve  \n",
      "id_102  ([tensor(0.8405), tensor(0.9841), tensor(1.)],...  \n",
      "Epoch 015: | Loss: 0.11406 | Acc: 95.388\n",
      "        Accuracy        F1  Precision    Recall  \\\n",
      "id_103  0.882134  0.925259   0.990578  0.868022   \n",
      "\n",
      "                                   Precision-Recall Curve  \n",
      "id_103  ([tensor(0.8405), tensor(0.9906), tensor(1.)],...  \n",
      "Epoch 015: | Loss: 0.12363 | Acc: 95.102\n",
      "        Accuracy       F1  Precision    Recall  \\\n",
      "id_104  0.918281  0.94951    0.98762  0.914233   \n",
      "\n",
      "                                   Precision-Recall Curve  \n",
      "id_104  ([tensor(0.8405), tensor(0.9876), tensor(1.)],...  \n",
      "Epoch 015: | Loss: 0.12345 | Acc: 95.102\n",
      "        Accuracy        F1  Precision    Recall  \\\n",
      "id_105  0.869394  0.916274   0.993378  0.850277   \n",
      "\n",
      "                                   Precision-Recall Curve  \n",
      "id_105  ([tensor(0.8405), tensor(0.9934), tensor(1.)],...  \n",
      "Epoch 015: | Loss: 0.11767 | Acc: 95.429\n",
      "        Accuracy        F1  Precision    Recall  \\\n",
      "id_106  0.934127  0.960205    0.97534  0.945533   \n",
      "\n",
      "                                   Precision-Recall Curve  \n",
      "id_106  ([tensor(0.8405), tensor(0.9753), tensor(1.)],...  \n",
      "Epoch 015: | Loss: 0.10353 | Acc: 96.041\n",
      "        Accuracy        F1  Precision    Recall  \\\n",
      "id_107  0.930709  0.957375   0.991161  0.925816   \n",
      "\n",
      "                                   Precision-Recall Curve  \n",
      "id_107  ([tensor(0.8405), tensor(0.9912), tensor(1.)],...  \n",
      "Epoch 015: | Loss: 0.10149 | Acc: 96.245\n",
      "        Accuracy        F1  Precision    Recall  \\\n",
      "id_108  0.929674  0.956963   0.985252  0.930253   \n",
      "\n",
      "                                   Precision-Recall Curve  \n",
      "id_108  ([tensor(0.8405), tensor(0.9853), tensor(1.)],...  \n",
      "Epoch 015: | Loss: 0.10795 | Acc: 95.878\n",
      "        Accuracy        F1  Precision    Recall  \\\n",
      "id_109  0.948628  0.969193   0.977082  0.961429   \n",
      "\n",
      "                                   Precision-Recall Curve  \n",
      "id_109  ([tensor(0.8405), tensor(0.9771), tensor(1.)],...  \n",
      "Epoch 015: | Loss: 0.10877 | Acc: 95.980\n",
      "        Accuracy        F1  Precision    Recall  \\\n",
      "id_110  0.915588  0.947827   0.986278  0.912261   \n",
      "\n",
      "                                   Precision-Recall Curve  \n",
      "id_110  ([tensor(0.8405), tensor(0.9863), tensor(1.)],...  \n",
      "Epoch 015: | Loss: 0.10073 | Acc: 96.245\n",
      "        Accuracy        F1  Precision    Recall  \\\n",
      "id_111  0.940445  0.963857   0.983705  0.944794   \n",
      "\n",
      "                                   Precision-Recall Curve  \n",
      "id_111  ([tensor(0.8405), tensor(0.9837), tensor(1.)],...  \n",
      "Epoch 015: | Loss: 0.12307 | Acc: 95.184\n",
      "        Accuracy        F1  Precision    Recall  \\\n",
      "id_112  0.901398  0.938126   0.992573  0.889341   \n",
      "\n",
      "                                   Precision-Recall Curve  \n",
      "id_112  ([tensor(0.8405), tensor(0.9926), tensor(1.)],...  \n",
      "Epoch 015: | Loss: 0.11381 | Acc: 95.633\n",
      "        Accuracy       F1  Precision    Recall  \\\n",
      "id_113   0.94086  0.96458   0.971147  0.958102   \n",
      "\n",
      "                                   Precision-Recall Curve  \n",
      "id_113  ([tensor(0.8405), tensor(0.9711), tensor(1.)],...  \n",
      "Epoch 015: | Loss: 0.12346 | Acc: 95.204\n",
      "        Accuracy        F1  Precision    Recall  \\\n",
      "id_114  0.921388  0.951542   0.987281  0.918299   \n",
      "\n",
      "                                   Precision-Recall Curve  \n",
      "id_114  ([tensor(0.8405), tensor(0.9873), tensor(1.)],...  \n",
      "Epoch 015: | Loss: 0.13505 | Acc: 94.755\n",
      "        Accuracy        F1  Precision    Recall  \\\n",
      "id_115  0.931435  0.958091   0.985158  0.932471   \n",
      "\n",
      "                                   Precision-Recall Curve  \n",
      "id_115  ([tensor(0.8405), tensor(0.9852), tensor(1.)],...  \n",
      "Epoch 015: | Loss: 0.12670 | Acc: 95.224\n",
      "        Accuracy        F1  Precision    Recall  \\\n",
      "id_116   0.86173  0.911184   0.990168  0.843869   \n",
      "\n",
      "                                   Precision-Recall Curve  \n",
      "id_116  ([tensor(0.8405), tensor(0.9902), tensor(1.)],...  \n",
      "Epoch 015: | Loss: 0.12804 | Acc: 95.184\n",
      "        Accuracy        F1  Precision    Recall  \\\n",
      "id_117  0.936199  0.961248   0.981879  0.941466   \n",
      "\n",
      "                                   Precision-Recall Curve  \n",
      "id_117  ([tensor(0.8405), tensor(0.9819), tensor(1.)],...  \n",
      "Epoch 015: | Loss: 0.11032 | Acc: 95.816\n",
      "        Accuracy        F1  Precision    Recall  \\\n",
      "id_118  0.888452  0.929483   0.991618  0.874677   \n",
      "\n",
      "                                   Precision-Recall Curve  \n",
      "id_118  ([tensor(0.8405), tensor(0.9916), tensor(1.)],...  \n",
      "Epoch 015: | Loss: 0.11437 | Acc: 95.429\n",
      "        Accuracy        F1  Precision    Recall  \\\n",
      "id_119  0.871466  0.917798   0.992266  0.853728   \n",
      "\n",
      "                                   Precision-Recall Curve  \n",
      "id_119  ([tensor(0.8405), tensor(0.9923), tensor(1.)],...  \n",
      "Epoch 015: | Loss: 0.11283 | Acc: 95.490\n",
      "        Accuracy        F1  Precision    Recall  \\\n",
      "id_120  0.919627  0.950479   0.985705  0.917683   \n",
      "\n",
      "                                   Precision-Recall Curve  \n",
      "id_120  ([tensor(0.8405), tensor(0.9857), tensor(1.)],...  \n",
      "Epoch 015: | Loss: 0.11081 | Acc: 95.551\n",
      "        Accuracy        F1  Precision    Recall  \\\n",
      "id_121  0.919834  0.950638   0.985195  0.918423   \n",
      "\n",
      "                                   Precision-Recall Curve  \n",
      "id_121  ([tensor(0.8405), tensor(0.9852), tensor(1.)],...  \n",
      "Epoch 015: | Loss: 0.11179 | Acc: 95.592\n",
      "        Accuracy        F1  Precision    Recall  \\\n",
      "id_122  0.927602  0.955441   0.989699  0.923475   \n",
      "\n",
      "                                   Precision-Recall Curve  \n",
      "id_122  ([tensor(0.8405), tensor(0.9897), tensor(1.)],...  \n",
      "Epoch 015: | Loss: 0.11629 | Acc: 95.327\n",
      "        Accuracy        F1  Precision    Recall  \\\n",
      "id_123  0.923149  0.952685   0.987181  0.920518   \n",
      "\n",
      "                                   Precision-Recall Curve  \n",
      "id_123  ([tensor(0.8405), tensor(0.9872), tensor(1.)],...  \n",
      "Epoch 015: | Loss: 0.11216 | Acc: 95.755\n",
      "        Accuracy        F1  Precision    Recall  \\\n",
      "id_124  0.882341  0.925194   0.993495  0.865681   \n",
      "\n",
      "                                   Precision-Recall Curve  \n",
      "id_124  ([tensor(0.8405), tensor(0.9935), tensor(1.)],...  \n",
      "Epoch 015: | Loss: 0.11401 | Acc: 95.796\n",
      "        Accuracy        F1  Precision    Recall  \\\n",
      "id_125  0.914552  0.946908   0.990975  0.906593   \n",
      "\n",
      "                                   Precision-Recall Curve  \n",
      "id_125  ([tensor(0.8405), tensor(0.9910), tensor(1.)],...  \n",
      "Epoch 015: | Loss: 0.11104 | Acc: 95.755\n",
      "        Accuracy        F1  Precision    Recall  \\\n",
      "id_126  0.922527  0.952284   0.987171  0.919778   \n",
      "\n",
      "                                   Precision-Recall Curve  \n",
      "id_126  ([tensor(0.8405), tensor(0.9872), tensor(1.)],...  \n",
      "Epoch 015: | Loss: 0.11264 | Acc: 95.714\n",
      "        Accuracy        F1  Precision    Recall  \\\n",
      "id_127  0.932885  0.958935   0.987084  0.932347   \n",
      "\n",
      "                                   Precision-Recall Curve  \n",
      "id_127  ([tensor(0.8405), tensor(0.9871), tensor(1.)],...  \n",
      "Epoch 015: | Loss: 0.10605 | Acc: 95.959\n",
      "        Accuracy        F1  Precision    Recall  \\\n",
      "id_128  0.908959  0.943367   0.988523  0.902156   \n",
      "\n",
      "                                   Precision-Recall Curve  \n",
      "id_128  ([tensor(0.8405), tensor(0.9885), tensor(1.)],...  \n",
      "Epoch 015: | Loss: 0.11503 | Acc: 95.592\n",
      "        Accuracy        F1  Precision    Recall  \\\n",
      "id_129  0.948317  0.968842   0.982025  0.956007   \n",
      "\n",
      "                                   Precision-Recall Curve  \n",
      "id_129  ([tensor(0.8405), tensor(0.9820), tensor(1.)],...  \n",
      "Epoch 015: | Loss: 0.11511 | Acc: 95.592\n",
      "        Accuracy        F1  Precision    Recall  \\\n",
      "id_130  0.912791  0.945768    0.99069  0.904744   \n",
      "\n",
      "                                   Precision-Recall Curve  \n",
      "id_130  ([tensor(0.8405), tensor(0.9907), tensor(1.)],...  \n",
      "Epoch 015: | Loss: 0.10929 | Acc: 95.735\n",
      "        Accuracy        F1  Precision    Recall  \\\n",
      "id_131  0.906888  0.942728   0.975864  0.911768   \n",
      "\n",
      "                                   Precision-Recall Curve  \n",
      "id_131  ([tensor(0.8405), tensor(0.9759), tensor(1.)],...  \n",
      "Epoch 015: | Loss: 0.10849 | Acc: 95.735\n",
      "        Accuracy        F1  Precision    Recall  \\\n",
      "id_132  0.943138  0.965504      0.985  0.946765   \n",
      "\n",
      "                                   Precision-Recall Curve  \n",
      "id_132  ([tensor(0.8405), tensor(0.9850), tensor(1.)],...  \n",
      "Epoch 015: | Loss: 0.13185 | Acc: 94.959\n",
      "        Accuracy        F1  Precision    Recall  \\\n",
      "id_133  0.904713  0.940515   0.989389  0.896242   \n",
      "\n",
      "                                   Precision-Recall Curve  \n",
      "id_133  ([tensor(0.8405), tensor(0.9894), tensor(1.)],...  \n",
      "Epoch 015: | Loss: 0.12314 | Acc: 95.224\n",
      "        Accuracy        F1  Precision    Recall  \\\n",
      "id_134  0.878819  0.922854   0.992483  0.862354   \n",
      "\n",
      "                                   Precision-Recall Curve  \n",
      "id_134  ([tensor(0.8405), tensor(0.9925), tensor(1.)],...  \n",
      "Epoch 015: | Loss: 0.11619 | Acc: 95.429\n",
      "        Accuracy        F1  Precision    Recall  \\\n",
      "id_135  0.930606  0.957686   0.982252  0.934319   \n",
      "\n",
      "                                   Precision-Recall Curve  \n",
      "id_135  ([tensor(0.8405), tensor(0.9823), tensor(1.)],...  \n",
      "Epoch 015: | Loss: 0.11125 | Acc: 95.694\n",
      "        Accuracy        F1  Precision    Recall  \\\n",
      "id_136  0.943553  0.965725   0.986129  0.946149   \n",
      "\n",
      "                                   Precision-Recall Curve  \n",
      "id_136  ([tensor(0.8405), tensor(0.9861), tensor(1.)],...  \n",
      "Epoch 015: | Loss: 0.12549 | Acc: 95.082\n",
      "        Accuracy        F1  Precision    Recall  \\\n",
      "id_137  0.931745  0.958383   0.982902  0.935059   \n",
      "\n",
      "                                   Precision-Recall Curve  \n",
      "id_137  ([tensor(0.8405), tensor(0.9829), tensor(1.)],...  \n",
      "Epoch 015: | Loss: 0.12037 | Acc: 95.286\n",
      "        Accuracy        F1  Precision    Recall  \\\n",
      "id_138  0.895287  0.934449   0.986043  0.887985   \n",
      "\n",
      "                                   Precision-Recall Curve  \n",
      "id_138  ([tensor(0.8405), tensor(0.9860), tensor(1.)],...  \n",
      "Epoch 015: | Loss: 0.11565 | Acc: 95.327\n",
      "        Accuracy        F1  Precision    Recall  \\\n",
      "id_139  0.890834  0.931003   0.993018  0.876279   \n",
      "\n",
      "                                   Precision-Recall Curve  \n",
      "id_139  ([tensor(0.8405), tensor(0.9930), tensor(1.)],...  \n",
      "Epoch 015: | Loss: 0.11417 | Acc: 95.633\n",
      "        Accuracy        F1  Precision    Recall  \\\n",
      "id_140  0.925945  0.954345   0.990326  0.920887   \n",
      "\n",
      "                                   Precision-Recall Curve  \n",
      "id_140  ([tensor(0.8405), tensor(0.9903), tensor(1.)],...  \n",
      "Epoch 015: | Loss: 0.12719 | Acc: 94.939\n",
      "        Accuracy        F1  Precision    Recall  \\\n",
      "id_141  0.910306  0.944158   0.990261  0.902156   \n",
      "\n",
      "                                   Precision-Recall Curve  \n",
      "id_141  ([tensor(0.8405), tensor(0.9903), tensor(1.)],...  \n",
      "Epoch 015: | Loss: 0.12921 | Acc: 94.837\n",
      "        Accuracy        F1  Precision   Recall  \\\n",
      "id_142  0.929674  0.956941   0.985759  0.92976   \n",
      "\n",
      "                                   Precision-Recall Curve  \n",
      "id_142  ([tensor(0.8405), tensor(0.9858), tensor(1.)],...  \n",
      "Epoch 015: | Loss: 0.10814 | Acc: 95.857\n",
      "        Accuracy        F1  Precision    Recall  \\\n",
      "id_143  0.908131  0.942652   0.991567  0.898336   \n",
      "\n",
      "                                   Precision-Recall Curve  \n",
      "id_143  ([tensor(0.8405), tensor(0.9916), tensor(1.)],...  \n",
      "Epoch 015: | Loss: 0.12398 | Acc: 95.184\n",
      "        Accuracy        F1  Precision    Recall  \\\n",
      "id_144  0.915381  0.948097   0.978495  0.919532   \n",
      "\n",
      "                                   Precision-Recall Curve  \n",
      "id_144  ([tensor(0.8405), tensor(0.9785), tensor(1.)],...  \n",
      "Epoch 015: | Loss: 0.11437 | Acc: 95.551\n",
      "        Accuracy        F1  Precision    Recall  \\\n",
      "id_145  0.927292  0.955474   0.984446  0.928158   \n",
      "\n",
      "                                   Precision-Recall Curve  \n",
      "id_145  ([tensor(0.8405), tensor(0.9844), tensor(1.)],...  \n",
      "Epoch 015: | Loss: 0.11548 | Acc: 95.429\n",
      "        Accuracy        F1  Precision    Recall  \\\n",
      "id_146  0.917141  0.948895   0.985144  0.915219   \n",
      "\n",
      "                                   Precision-Recall Curve  \n",
      "id_146  ([tensor(0.8405), tensor(0.9851), tensor(1.)],...  \n",
      "Epoch 015: | Loss: 0.09832 | Acc: 96.245\n",
      "        Accuracy        F1  Precision   Recall  \\\n",
      "id_147  0.924599  0.953577   0.988106  0.92138   \n",
      "\n",
      "                                   Precision-Recall Curve  \n",
      "id_147  ([tensor(0.8405), tensor(0.9881), tensor(1.)],...  \n",
      "Epoch 015: | Loss: 0.10493 | Acc: 95.816\n",
      "        Accuracy        F1  Precision    Recall  \\\n",
      "id_148  0.929052  0.956472   0.987405  0.927418   \n",
      "\n",
      "                                   Precision-Recall Curve  \n",
      "id_148  ([tensor(0.8405), tensor(0.9874), tensor(1.)],...  \n",
      "Epoch 015: | Loss: 0.11271 | Acc: 95.612\n",
      "        Accuracy        F1  Precision    Recall  \\\n",
      "id_149  0.916831  0.950685     0.9476  0.953789   \n",
      "\n",
      "                                   Precision-Recall Curve  \n",
      "id_149  ([tensor(0.8405), tensor(0.9476), tensor(1.)],...  \n",
      "Epoch 015: | Loss: 0.13238 | Acc: 94.694\n",
      "        Accuracy        F1  Precision    Recall  \\\n",
      "id_150  0.897566  0.935608   0.991855  0.885397   \n",
      "\n",
      "                                   Precision-Recall Curve  \n",
      "id_150  ([tensor(0.8405), tensor(0.9919), tensor(1.)],...  \n",
      "Epoch 015: | Loss: 0.11090 | Acc: 95.755\n",
      "        Accuracy        F1  Precision    Recall  \\\n",
      "id_151  0.916624  0.948381   0.988636  0.911275   \n",
      "\n",
      "                                   Precision-Recall Curve  \n",
      "id_151  ([tensor(0.8405), tensor(0.9886), tensor(1.)],...  \n",
      "Epoch 015: | Loss: 0.11579 | Acc: 95.469\n",
      "        Accuracy        F1  Precision    Recall  \\\n",
      "id_152  0.928431  0.956057   0.987779  0.926309   \n",
      "\n",
      "                                   Precision-Recall Curve  \n",
      "id_152  ([tensor(0.8405), tensor(0.9878), tensor(1.)],...  \n",
      "Epoch 015: | Loss: 0.11574 | Acc: 95.327\n",
      "        Accuracy       F1  Precision    Recall  \\\n",
      "id_153   0.93247  0.95854   0.990277  0.928774   \n",
      "\n",
      "                                   Precision-Recall Curve  \n",
      "id_153  ([tensor(0.8405), tensor(0.9903), tensor(1.)],...  \n",
      "Epoch 015: | Loss: 0.11224 | Acc: 95.694\n",
      "        Accuracy        F1  Precision    Recall  \\\n",
      "id_154  0.929777  0.957072   0.984243  0.931362   \n",
      "\n",
      "                                   Precision-Recall Curve  \n",
      "id_154  ([tensor(0.8405), tensor(0.9842), tensor(1.)],...  \n",
      "Epoch 015: | Loss: 0.11506 | Acc: 95.388\n",
      "        Accuracy        F1  Precision    Recall  \\\n",
      "id_155  0.893941  0.933255   0.990591  0.882193   \n",
      "\n",
      "                                   Precision-Recall Curve  \n",
      "id_155  ([tensor(0.8405), tensor(0.9906), tensor(1.)],...  \n",
      "Epoch 015: | Loss: 0.10848 | Acc: 96.000\n",
      "        Accuracy        F1  Precision    Recall  \\\n",
      "id_156  0.919938  0.950363   0.992223  0.911892   \n",
      "\n",
      "                                   Precision-Recall Curve  \n",
      "id_156  ([tensor(0.8405), tensor(0.9922), tensor(1.)],...  \n",
      "Epoch 015: | Loss: 0.11739 | Acc: 95.327\n",
      "        Accuracy        F1  Precision    Recall  \\\n",
      "id_157  0.899223  0.936658   0.992824  0.886506   \n",
      "\n",
      "                                   Precision-Recall Curve  \n",
      "id_157  ([tensor(0.8405), tensor(0.9928), tensor(1.)],...  \n",
      "Epoch 015: | Loss: 0.10764 | Acc: 95.633\n",
      "        Accuracy        F1  Precision    Recall  \\\n",
      "id_158  0.922734  0.952241   0.990939  0.916451   \n",
      "\n",
      "                                   Precision-Recall Curve  \n",
      "id_158  ([tensor(0.8405), tensor(0.9909), tensor(1.)],...  \n",
      "Epoch 015: | Loss: 0.12003 | Acc: 95.449\n",
      "        Accuracy        F1  Precision    Recall  \\\n",
      "id_159  0.892698  0.932649   0.987065  0.883919   \n",
      "\n",
      "                                   Precision-Recall Curve  \n",
      "id_159  ([tensor(0.8405), tensor(0.9871), tensor(1.)],...  \n",
      "Epoch 015: | Loss: 0.10097 | Acc: 96.224\n",
      "        Accuracy        F1  Precision    Recall  \\\n",
      "id_160  0.943449  0.965837    0.98106  0.951078   \n",
      "\n",
      "                                   Precision-Recall Curve  \n",
      "id_160  ([tensor(0.8405), tensor(0.9811), tensor(1.)],...  \n",
      "Epoch 015: | Loss: 0.10998 | Acc: 95.633\n",
      "        Accuracy        F1  Precision    Recall  \\\n",
      "id_161  0.927602  0.955446    0.98957  0.923598   \n",
      "\n",
      "                                   Precision-Recall Curve  \n",
      "id_161  ([tensor(0.8405), tensor(0.9896), tensor(1.)],...  \n",
      "Epoch 015: | Loss: 0.12754 | Acc: 94.939\n",
      "        Accuracy        F1  Precision    Recall  \\\n",
      "id_162  0.880787  0.924321   0.990837  0.866174   \n",
      "\n",
      "                                   Precision-Recall Curve  \n",
      "id_162  ([tensor(0.8405), tensor(0.9908), tensor(1.)],...  \n",
      "Epoch 015: | Loss: 0.11231 | Acc: 95.694\n",
      "        Accuracy        F1  Precision    Recall  \\\n",
      "id_163  0.919109  0.950809    0.97243  0.930129   \n",
      "\n",
      "                                   Precision-Recall Curve  \n",
      "id_163  ([tensor(0.8405), tensor(0.9724), tensor(1.)],...  \n",
      "Epoch 015: | Loss: 0.11835 | Acc: 95.388\n",
      "        Accuracy        F1  Precision    Recall  \\\n",
      "id_164  0.938995  0.962809   0.987309  0.939495   \n",
      "\n",
      "                                   Precision-Recall Curve  \n",
      "id_164  ([tensor(0.8405), tensor(0.9873), tensor(1.)],...  \n",
      "Epoch 015: | Loss: 0.10738 | Acc: 95.735\n",
      "        Accuracy        F1  Precision    Recall  \\\n",
      "id_165  0.930088  0.957222   0.985386  0.930622   \n",
      "\n",
      "                                   Precision-Recall Curve  \n",
      "id_165  ([tensor(0.8405), tensor(0.9854), tensor(1.)],...  \n",
      "Epoch 015: | Loss: 0.11556 | Acc: 95.408\n",
      "        Accuracy        F1  Precision    Recall  \\\n",
      "id_166  0.923252  0.952848   0.985132  0.922612   \n",
      "\n",
      "                                   Precision-Recall Curve  \n",
      "id_166  ([tensor(0.8405), tensor(0.9851), tensor(1.)],...  \n",
      "Epoch 015: | Loss: 0.12515 | Acc: 95.020\n",
      "        Accuracy        F1  Precision    Recall  \\\n",
      "id_167  0.913516  0.946216   0.991228  0.905114   \n",
      "\n",
      "                                   Precision-Recall Curve  \n",
      "id_167  ([tensor(0.8405), tensor(0.9912), tensor(1.)],...  \n",
      "Epoch 015: | Loss: 0.12118 | Acc: 95.286\n",
      "        Accuracy        F1  Precision   Recall  \\\n",
      "id_168  0.931227  0.957985   0.984523  0.93284   \n",
      "\n",
      "                                   Precision-Recall Curve  \n",
      "id_168  ([tensor(0.8405), tensor(0.9845), tensor(1.)],...  \n",
      "Epoch 015: | Loss: 0.10983 | Acc: 95.878\n",
      "        Accuracy        F1  Precision    Recall  \\\n",
      "id_169  0.930088  0.957194    0.98602  0.930006   \n",
      "\n",
      "                                   Precision-Recall Curve  \n",
      "id_169  ([tensor(0.8405), tensor(0.9860), tensor(1.)],...  \n",
      "Epoch 015: | Loss: 0.11544 | Acc: 95.551\n",
      "        Accuracy        F1  Precision    Recall  \\\n",
      "id_170  0.926463  0.954823   0.987107  0.924584   \n",
      "\n",
      "                                   Precision-Recall Curve  \n",
      "id_170  ([tensor(0.8405), tensor(0.9871), tensor(1.)],...  \n",
      "Epoch 015: | Loss: 0.12048 | Acc: 95.367\n",
      "        Accuracy        F1  Precision    Recall  \\\n",
      "id_171  0.930088  0.957411   0.980993  0.934935   \n",
      "\n",
      "                                   Precision-Recall Curve  \n",
      "id_171  ([tensor(0.8405), tensor(0.9810), tensor(1.)],...  \n",
      "Epoch 015: | Loss: 0.11834 | Acc: 95.245\n",
      "        Accuracy        F1  Precision    Recall  \\\n",
      "id_172  0.932885  0.958768   0.991185  0.928404   \n",
      "\n",
      "                                   Precision-Recall Curve  \n",
      "id_172  ([tensor(0.8405), tensor(0.9912), tensor(1.)],...  \n",
      "Epoch 015: | Loss: 0.11415 | Acc: 95.571\n",
      "        Accuracy        F1  Precision    Recall  \\\n",
      "id_173  0.911341  0.944838   0.990274  0.903389   \n",
      "\n",
      "                                   Precision-Recall Curve  \n",
      "id_173  ([tensor(0.8405), tensor(0.9903), tensor(1.)],...  \n",
      "Epoch 015: | Loss: 0.10873 | Acc: 95.816\n",
      "        Accuracy        F1  Precision    Recall  \\\n",
      "id_174  0.933195  0.959619   0.975312  0.944424   \n",
      "\n",
      "                                   Precision-Recall Curve  \n",
      "id_174  ([tensor(0.8405), tensor(0.9753), tensor(1.)],...  \n",
      "Epoch 015: | Loss: 0.11938 | Acc: 95.327\n",
      "        Accuracy        F1  Precision    Recall  \\\n",
      "id_175  0.923563  0.952916   0.987961  0.920271   \n",
      "\n",
      "                                   Precision-Recall Curve  \n",
      "id_175  ([tensor(0.8405), tensor(0.9880), tensor(1.)],...  \n",
      "Epoch 015: | Loss: 0.11828 | Acc: 95.347\n",
      "        Accuracy        F1  Precision    Recall  \\\n",
      "id_176  0.905852  0.941154   0.991408  0.895749   \n",
      "\n",
      "                                   Precision-Recall Curve  \n",
      "id_176  ([tensor(0.8405), tensor(0.9914), tensor(1.)],...  \n",
      "Epoch 015: | Loss: 0.11175 | Acc: 95.694\n",
      "        Accuracy        F1  Precision    Recall  \\\n",
      "id_177  0.926152  0.954356   0.993072  0.918546   \n",
      "\n",
      "                                   Precision-Recall Curve  \n",
      "id_177  ([tensor(0.8405), tensor(0.9931), tensor(1.)],...  \n",
      "Epoch 015: | Loss: 0.13255 | Acc: 94.735\n",
      "        Accuracy        F1  Precision    Recall  \\\n",
      "id_178  0.913723  0.947228   0.974707  0.921257   \n",
      "\n",
      "                                   Precision-Recall Curve  \n",
      "id_178  ([tensor(0.8405), tensor(0.9747), tensor(1.)],...  \n",
      "Epoch 015: | Loss: 0.11007 | Acc: 95.714\n",
      "        Accuracy        F1  Precision   Recall  \\\n",
      "id_179  0.924599  0.953577   0.988106  0.92138   \n",
      "\n",
      "                                   Precision-Recall Curve  \n",
      "id_179  ([tensor(0.8405), tensor(0.9881), tensor(1.)],...  \n",
      "Epoch 015: | Loss: 0.11507 | Acc: 95.776\n",
      "        Accuracy        F1  Precision    Recall  \\\n",
      "id_180  0.919524  0.950151   0.991033  0.912508   \n",
      "\n",
      "                                   Precision-Recall Curve  \n",
      "id_180  ([tensor(0.8405), tensor(0.9910), tensor(1.)],...  \n",
      "Epoch 015: | Loss: 0.11542 | Acc: 95.571\n",
      "        Accuracy        F1  Precision    Recall  \\\n",
      "id_181  0.940342  0.963851   0.982095  0.946272   \n",
      "\n",
      "                                   Precision-Recall Curve  \n",
      "id_181  ([tensor(0.8405), tensor(0.9821), tensor(1.)],...  \n",
      "Epoch 015: | Loss: 0.10502 | Acc: 95.898\n",
      "        Accuracy       F1  Precision    Recall  \\\n",
      "id_182  0.924909  0.95373   0.989145  0.920764   \n",
      "\n",
      "                                   Precision-Recall Curve  \n",
      "id_182  ([tensor(0.8405), tensor(0.9891), tensor(1.)],...  \n",
      "Epoch 015: | Loss: 0.12562 | Acc: 94.980\n",
      "        Accuracy       F1  Precision    Recall  \\\n",
      "id_183  0.918074  0.94924   0.990359  0.911399   \n",
      "\n",
      "                                   Precision-Recall Curve  \n",
      "id_183  ([tensor(0.8405), tensor(0.9904), tensor(1.)],...  \n",
      "Epoch 015: | Loss: 0.12190 | Acc: 95.327\n",
      "        Accuracy       F1  Precision    Recall  \\\n",
      "id_184  0.898187  0.93604   0.991591  0.886383   \n",
      "\n",
      "                                   Precision-Recall Curve  \n",
      "id_184  ([tensor(0.8405), tensor(0.9916), tensor(1.)],...  \n",
      "Epoch 015: | Loss: 0.10763 | Acc: 95.959\n",
      "        Accuracy        F1  Precision    Recall  \\\n",
      "id_185   0.88493  0.926922   0.994074  0.868269   \n",
      "\n",
      "                                   Precision-Recall Curve  \n",
      "id_185  ([tensor(0.8405), tensor(0.9941), tensor(1.)],...  \n",
      "Epoch 015: | Loss: 0.11330 | Acc: 95.878\n",
      "        Accuracy        F1  Precision    Recall  \\\n",
      "id_186  0.924909  0.953713   0.989534  0.920394   \n",
      "\n",
      "                                   Precision-Recall Curve  \n",
      "id_186  ([tensor(0.8405), tensor(0.9895), tensor(1.)],...  \n",
      "Epoch 015: | Loss: 0.11376 | Acc: 95.673\n",
      "        Accuracy        F1  Precision    Recall  \\\n",
      "id_187  0.921491  0.951448   0.990663  0.915219   \n",
      "\n",
      "                                   Precision-Recall Curve  \n",
      "id_187  ([tensor(0.8405), tensor(0.9907), tensor(1.)],...  \n",
      "Epoch 015: | Loss: 0.11543 | Acc: 95.490\n",
      "        Accuracy        F1  Precision    Recall  \\\n",
      "id_188  0.937545  0.962376   0.974722  0.950339   \n",
      "\n",
      "                                   Precision-Recall Curve  \n",
      "id_188  ([tensor(0.8405), tensor(0.9747), tensor(1.)],...  \n",
      "Epoch 015: | Loss: 0.13329 | Acc: 94.633\n",
      "        Accuracy        F1  Precision    Recall  \\\n",
      "id_189  0.927188  0.956202   0.966986  0.945656   \n",
      "\n",
      "                                   Precision-Recall Curve  \n",
      "id_189  ([tensor(0.8405), tensor(0.9670), tensor(1.)],...  \n",
      "Epoch 015: | Loss: 0.10836 | Acc: 96.163\n",
      "        Accuracy        F1  Precision    Recall  \\\n",
      "id_190  0.925738  0.954398   0.986199  0.924584   \n",
      "\n",
      "                                   Precision-Recall Curve  \n",
      "id_190  ([tensor(0.8405), tensor(0.9862), tensor(1.)],...  \n",
      "Epoch 015: | Loss: 0.11695 | Acc: 95.367\n",
      "        Accuracy       F1  Precision    Recall  \\\n",
      "id_191  0.919627  0.95039   0.987512  0.915958   \n",
      "\n",
      "                                   Precision-Recall Curve  \n",
      "id_191  ([tensor(0.8405), tensor(0.9875), tensor(1.)],...  \n",
      "Epoch 015: | Loss: 0.10894 | Acc: 95.959\n",
      "        Accuracy        F1  Precision    Recall  \\\n",
      "id_192  0.915899  0.947909   0.988626  0.910413   \n",
      "\n",
      "                                   Precision-Recall Curve  \n",
      "id_192  ([tensor(0.8405), tensor(0.9886), tensor(1.)],...  \n",
      "Epoch 015: | Loss: 0.11404 | Acc: 95.592\n",
      "        Accuracy        F1  Precision    Recall  \\\n",
      "id_193  0.887727  0.929104   0.989965  0.875293   \n",
      "\n",
      "                                   Precision-Recall Curve  \n",
      "id_193  ([tensor(0.8405), tensor(0.9900), tensor(1.)],...  \n",
      "Epoch 015: | Loss: 0.11064 | Acc: 95.694\n",
      "        Accuracy        F1  Precision    Recall  \\\n",
      "id_194  0.890627  0.931151   0.988647  0.879975   \n",
      "\n",
      "                                   Precision-Recall Curve  \n",
      "id_194  ([tensor(0.8405), tensor(0.9886), tensor(1.)],...  \n",
      "Epoch 015: | Loss: 0.11385 | Acc: 95.633\n",
      "        Accuracy        F1  Precision   Recall  \\\n",
      "id_195  0.926256  0.954551     0.9902  0.92138   \n",
      "\n",
      "                                   Precision-Recall Curve  \n",
      "id_195  ([tensor(0.8405), tensor(0.9902), tensor(1.)],...  \n",
      "Epoch 015: | Loss: 0.12151 | Acc: 95.143\n",
      "        Accuracy        F1  Precision    Recall  \\\n",
      "id_196  0.929156  0.956873   0.979729  0.935059   \n",
      "\n",
      "                                   Precision-Recall Curve  \n",
      "id_196  ([tensor(0.8405), tensor(0.9797), tensor(1.)],...  \n",
      "Epoch 015: | Loss: 0.10738 | Acc: 95.816\n",
      "        Accuracy       F1  Precision    Recall  \\\n",
      "id_197   0.92087  0.95156   0.980018  0.924707   \n",
      "\n",
      "                                   Precision-Recall Curve  \n",
      "id_197  ([tensor(0.8405), tensor(0.9800), tensor(1.)],...  \n",
      "Epoch 015: | Loss: 0.10535 | Acc: 95.959\n",
      "        Accuracy       F1  Precision    Recall  \\\n",
      "id_198  0.928431  0.95608   0.987267  0.926802   \n",
      "\n",
      "                                   Precision-Recall Curve  \n",
      "id_198  ([tensor(0.8405), tensor(0.9873), tensor(1.)],...  \n",
      "Epoch 015: | Loss: 0.11467 | Acc: 95.571\n",
      "        Accuracy       F1  Precision    Recall  \\\n",
      "id_199  0.911341  0.94476   0.991736  0.902033   \n",
      "\n",
      "                                   Precision-Recall Curve  \n",
      "id_199  ([tensor(0.8405), tensor(0.9917), tensor(1.)],...  \n",
      "Epoch 015: | Loss: 0.12390 | Acc: 94.959\n",
      "        Accuracy        F1  Precision    Recall  \\\n",
      "id_200  0.937442  0.962056   0.981289  0.943561   \n",
      "\n",
      "                                   Precision-Recall Curve  \n",
      "id_200  ([tensor(0.8405), tensor(0.9813), tensor(1.)],...  \n",
      "Epoch 015: | Loss: 0.10626 | Acc: 96.061\n",
      "        Accuracy        F1  Precision    Recall  \\\n",
      "id_201   0.85914  0.909418   0.989564  0.841282   \n",
      "\n",
      "                                   Precision-Recall Curve  \n",
      "id_201  ([tensor(0.8405), tensor(0.9896), tensor(1.)],...  \n",
      "Epoch 015: | Loss: 0.11032 | Acc: 95.857\n",
      "        Accuracy        F1  Precision    Recall  \\\n",
      "id_202  0.924288  0.953174   0.992529  0.916821   \n",
      "\n",
      "                                   Precision-Recall Curve  \n",
      "id_202  ([tensor(0.8405), tensor(0.9925), tensor(1.)],...  \n",
      "Epoch 015: | Loss: 0.10529 | Acc: 96.061\n",
      "        Accuracy        F1  Precision    Recall  \\\n",
      "id_203  0.936924  0.961351   0.991102  0.933333   \n",
      "\n",
      "                                   Precision-Recall Curve  \n",
      "id_203  ([tensor(0.8405), tensor(0.9911), tensor(1.)],...  \n",
      "Epoch 015: | Loss: 0.12165 | Acc: 95.245\n",
      "        Accuracy        F1  Precision    Recall  \\\n",
      "id_204  0.898084  0.935987   0.991319  0.886506   \n",
      "\n",
      "                                   Precision-Recall Curve  \n",
      "id_204  ([tensor(0.8405), tensor(0.9913), tensor(1.)],...  \n",
      "Epoch 015: | Loss: 0.10810 | Acc: 95.939\n",
      "        Accuracy        F1  Precision    Recall  \\\n",
      "id_205   0.93102  0.957693   0.988331  0.928897   \n",
      "\n",
      "                                   Precision-Recall Curve  \n",
      "id_205  ([tensor(0.8405), tensor(0.9883), tensor(1.)],...  \n",
      "Epoch 015: | Loss: 0.11962 | Acc: 95.388\n",
      "        Accuracy        F1  Precision    Recall  \\\n",
      "id_206  0.894666  0.933828   0.989247  0.884288   \n",
      "\n",
      "                                   Precision-Recall Curve  \n",
      "id_206  ([tensor(0.8405), tensor(0.9892), tensor(1.)],...  \n",
      "Epoch 015: | Loss: 0.11943 | Acc: 95.184\n",
      "        Accuracy        F1  Precision    Recall  \\\n",
      "id_207  0.914863  0.947159   0.990055  0.907825   \n",
      "\n",
      "                                   Precision-Recall Curve  \n",
      "id_207  ([tensor(0.8405), tensor(0.9901), tensor(1.)],...  \n",
      "Epoch 015: | Loss: 0.10897 | Acc: 95.633\n",
      "        Accuracy        F1  Precision    Recall  \\\n",
      "id_208  0.896116  0.934534   0.993478  0.882193   \n",
      "\n",
      "                                   Precision-Recall Curve  \n",
      "id_208  ([tensor(0.8405), tensor(0.9935), tensor(1.)],...  \n",
      "Epoch 015: | Loss: 0.11258 | Acc: 95.837\n",
      "        Accuracy        F1  Precision    Recall  \\\n",
      "id_209  0.935474  0.960637   0.985736  0.936784   \n",
      "\n",
      "                                   Precision-Recall Curve  \n",
      "id_209  ([tensor(0.8405), tensor(0.9857), tensor(1.)],...  \n",
      "Epoch 015: | Loss: 0.12266 | Acc: 95.143\n",
      "        Accuracy       F1  Precision    Recall  \\\n",
      "id_210  0.937856  0.96224    0.98328  0.942083   \n",
      "\n",
      "                                   Precision-Recall Curve  \n",
      "id_210  ([tensor(0.8405), tensor(0.9833), tensor(1.)],...  \n",
      "Epoch 015: | Loss: 0.13973 | Acc: 94.286\n",
      "        Accuracy        F1  Precision    Recall  \\\n",
      "id_211  0.904298  0.940678   0.981906  0.902773   \n",
      "\n",
      "                                   Precision-Recall Curve  \n",
      "id_211  ([tensor(0.8405), tensor(0.9819), tensor(1.)],...  \n",
      "Epoch 015: | Loss: 0.11496 | Acc: 95.490\n",
      "        Accuracy        F1  Precision    Recall  \\\n",
      "id_212  0.938477  0.962623   0.983541  0.942575   \n",
      "\n",
      "                                   Precision-Recall Curve  \n",
      "id_212  ([tensor(0.8405), tensor(0.9835), tensor(1.)],...  \n",
      "Epoch 015: | Loss: 0.11505 | Acc: 95.714\n",
      "        Accuracy        F1  Precision    Recall  \\\n",
      "id_213  0.939824  0.963794   0.974912  0.952927   \n",
      "\n",
      "                                   Precision-Recall Curve  \n",
      "id_213  ([tensor(0.8405), tensor(0.9749), tensor(1.)],...  \n",
      "Epoch 015: | Loss: 0.11410 | Acc: 95.510\n",
      "        Accuracy        F1  Precision    Recall  \\\n",
      "id_214   0.93682  0.961659   0.981398  0.942699   \n",
      "\n",
      "                                   Precision-Recall Curve  \n",
      "id_214  ([tensor(0.8405), tensor(0.9814), tensor(1.)],...  \n",
      "Epoch 015: | Loss: 0.10540 | Acc: 95.857\n",
      "        Accuracy        F1  Precision    Recall  \\\n",
      "id_215  0.946556  0.967926   0.976546  0.959458   \n",
      "\n",
      "                                   Precision-Recall Curve  \n",
      "id_215  ([tensor(0.8405), tensor(0.9765), tensor(1.)],...  \n",
      "Epoch 015: | Loss: 0.10927 | Acc: 95.939\n",
      "        Accuracy        F1  Precision   Recall  \\\n",
      "id_216  0.914552  0.947489   0.979858  0.91719   \n",
      "\n",
      "                                   Precision-Recall Curve  \n",
      "id_216  ([tensor(0.8405), tensor(0.9799), tensor(1.)],...  \n",
      "Epoch 015: | Loss: 0.12072 | Acc: 94.959\n",
      "        Accuracy        F1  Precision    Recall  \\\n",
      "id_217  0.931952  0.958357   0.986688  0.931608   \n",
      "\n",
      "                                   Precision-Recall Curve  \n",
      "id_217  ([tensor(0.8405), tensor(0.9867), tensor(1.)],...  \n",
      "Epoch 015: | Loss: 0.11718 | Acc: 95.449\n",
      "        Accuracy        F1  Precision    Recall  \\\n",
      "id_218  0.928224  0.956114   0.983455  0.930253   \n",
      "\n",
      "                                   Precision-Recall Curve  \n",
      "id_218  ([tensor(0.8405), tensor(0.9835), tensor(1.)],...  \n",
      "Epoch 015: | Loss: 0.11186 | Acc: 95.490\n",
      "        Accuracy        F1  Precision    Recall  \\\n",
      "id_219  0.920041  0.950564   0.989468  0.914603   \n",
      "\n",
      "                                   Precision-Recall Curve  \n",
      "id_219  ([tensor(0.8405), tensor(0.9895), tensor(1.)],...  \n",
      "Epoch 015: | Loss: 0.11827 | Acc: 95.408\n",
      "        Accuracy        F1  Precision    Recall  \\\n",
      "id_220   0.93361  0.959489   0.984821  0.935428   \n",
      "\n",
      "                                   Precision-Recall Curve  \n",
      "id_220  ([tensor(0.8405), tensor(0.9848), tensor(1.)],...  \n",
      "Epoch 015: | Loss: 0.11478 | Acc: 95.592\n",
      "        Accuracy        F1  Precision    Recall  \\\n",
      "id_221  0.926152  0.954415   0.991762  0.919778   \n",
      "\n",
      "                                   Precision-Recall Curve  \n",
      "id_221  ([tensor(0.8405), tensor(0.9918), tensor(1.)],...  \n",
      "Epoch 015: | Loss: 0.11650 | Acc: 95.612\n",
      "        Accuracy        F1  Precision    Recall  \\\n",
      "id_222  0.920974  0.951249   0.987792  0.917314   \n",
      "\n",
      "                                   Precision-Recall Curve  \n",
      "id_222  ([tensor(0.8405), tensor(0.9878), tensor(1.)],...  \n",
      "Epoch 015: | Loss: 0.09890 | Acc: 96.163\n",
      "        Accuracy        F1  Precision    Recall  \\\n",
      "id_223  0.936199  0.960924   0.990195  0.933333   \n",
      "\n",
      "                                   Precision-Recall Curve  \n",
      "id_223  ([tensor(0.8405), tensor(0.9902), tensor(1.)],...  \n",
      "Epoch 015: | Loss: 0.13637 | Acc: 94.531\n",
      "        Accuracy        F1  Precision    Recall  \\\n",
      "id_224   0.91507  0.947804    0.98025  0.917437   \n",
      "\n",
      "                                   Precision-Recall Curve  \n",
      "id_224  ([tensor(0.8405), tensor(0.9803), tensor(1.)],...  \n",
      "Epoch 015: | Loss: 0.11810 | Acc: 95.429\n",
      "        Accuracy        F1  Precision    Recall  \\\n",
      "id_225  0.943656  0.966316   0.971126  0.961553   \n",
      "\n",
      "                                   Precision-Recall Curve  \n",
      "id_225  ([tensor(0.8405), tensor(0.9711), tensor(1.)],...  \n",
      "Epoch 015: | Loss: 0.11590 | Acc: 95.694\n",
      "        Accuracy        F1  Precision    Recall  \\\n",
      "id_226  0.942103  0.964955   0.982134  0.948367   \n",
      "\n",
      "                                   Precision-Recall Curve  \n",
      "id_226  ([tensor(0.8405), tensor(0.9821), tensor(1.)],...  \n",
      "Epoch 015: | Loss: 0.12167 | Acc: 95.367\n",
      "        Accuracy        F1  Precision    Recall  \\\n",
      "id_227  0.925427  0.954058   0.989281  0.921257   \n",
      "\n",
      "                                   Precision-Recall Curve  \n",
      "id_227  ([tensor(0.8405), tensor(0.9893), tensor(1.)],...  \n",
      "Epoch 015: | Loss: 0.11033 | Acc: 95.694\n",
      "        Accuracy        F1  Precision    Recall  \\\n",
      "id_228  0.910823  0.944548   0.989342  0.903635   \n",
      "\n",
      "                                   Precision-Recall Curve  \n",
      "id_228  ([tensor(0.8405), tensor(0.9893), tensor(1.)],...  \n",
      "Epoch 015: | Loss: 0.11390 | Acc: 95.592\n",
      "        Accuracy        F1  Precision    Recall  \\\n",
      "id_229  0.936406  0.961768   0.972058  0.951694   \n",
      "\n",
      "                                   Precision-Recall Curve  \n",
      "id_229  ([tensor(0.8405), tensor(0.9721), tensor(1.)],...  \n",
      "Epoch 015: | Loss: 0.10739 | Acc: 95.857\n",
      "        Accuracy        F1  Precision    Recall  \\\n",
      "id_230  0.924909  0.953695   0.989923  0.920025   \n",
      "\n",
      "                                   Precision-Recall Curve  \n",
      "id_230  ([tensor(0.8405), tensor(0.9899), tensor(1.)],...  \n",
      "Epoch 015: | Loss: 0.10053 | Acc: 96.163\n",
      "        Accuracy        F1  Precision    Recall  \\\n",
      "id_231  0.930813  0.958597   0.964335  0.952927   \n",
      "\n",
      "                                   Precision-Recall Curve  \n",
      "id_231  ([tensor(0.8405), tensor(0.9643), tensor(1.)],...  \n",
      "Epoch 015: | Loss: 0.13599 | Acc: 94.633\n",
      "        Accuracy        F1  Precision    Recall  \\\n",
      "id_232  0.934956  0.960319   0.985475  0.936414   \n",
      "\n",
      "                                   Precision-Recall Curve  \n",
      "id_232  ([tensor(0.8405), tensor(0.9855), tensor(1.)],...  \n",
      "Epoch 015: | Loss: 0.11863 | Acc: 95.306\n",
      "        Accuracy        F1  Precision    Recall  \\\n",
      "id_233  0.943967  0.966316   0.976592  0.956254   \n",
      "\n",
      "                                   Precision-Recall Curve  \n",
      "id_233  ([tensor(0.8405), tensor(0.9766), tensor(1.)],...  \n",
      "Epoch 015: | Loss: 0.12125 | Acc: 95.265\n",
      "        Accuracy       F1  Precision    Recall  \\\n",
      "id_234  0.930709  0.95765   0.984639  0.932101   \n",
      "\n",
      "                                   Precision-Recall Curve  \n",
      "id_234  ([tensor(0.8405), tensor(0.9846), tensor(1.)],...  \n",
      "Epoch 015: | Loss: 0.12198 | Acc: 95.408\n",
      "        Accuracy        F1  Precision   Recall  \\\n",
      "id_235  0.928949  0.956483   0.985619  0.92902   \n",
      "\n",
      "                                   Precision-Recall Curve  \n",
      "id_235  ([tensor(0.8405), tensor(0.9856), tensor(1.)],...  \n",
      "Epoch 015: | Loss: 0.12746 | Acc: 94.837\n",
      "        Accuracy        F1  Precision    Recall  \\\n",
      "id_236  0.930606  0.957547   0.985522  0.931115   \n",
      "\n",
      "                                   Precision-Recall Curve  \n",
      "id_236  ([tensor(0.8405), tensor(0.9855), tensor(1.)],...  \n",
      "Epoch 015: | Loss: 0.12285 | Acc: 95.122\n",
      "        Accuracy        F1  Precision    Recall  \\\n",
      "id_237  0.939617  0.963506   0.979135  0.948367   \n",
      "\n",
      "                                   Precision-Recall Curve  \n",
      "id_237  ([tensor(0.8405), tensor(0.9791), tensor(1.)],...  \n",
      "Epoch 015: | Loss: 0.11236 | Acc: 95.633\n",
      "        Accuracy        F1  Precision    Recall  \\\n",
      "id_238  0.914863  0.947179    0.98966  0.908195   \n",
      "\n",
      "                                   Precision-Recall Curve  \n",
      "id_238  ([tensor(0.8405), tensor(0.9897), tensor(1.)],...  \n",
      "Epoch 015: | Loss: 0.11462 | Acc: 95.408\n",
      "        Accuracy        F1  Precision    Recall  \\\n",
      "id_239  0.934645  0.959944   0.989919  0.931731   \n",
      "\n",
      "                                   Precision-Recall Curve  \n",
      "id_239  ([tensor(0.8405), tensor(0.9899), tensor(1.)],...  \n",
      "Epoch 015: | Loss: 0.11768 | Acc: 95.367\n",
      "        Accuracy        F1  Precision    Recall  \\\n",
      "id_240  0.930192  0.957086    0.99012  0.926186   \n",
      "\n",
      "                                   Precision-Recall Curve  \n",
      "id_240  ([tensor(0.8405), tensor(0.9901), tensor(1.)],...  \n",
      "Epoch 015: | Loss: 0.12058 | Acc: 95.327\n",
      "        Accuracy        F1  Precision    Recall  \\\n",
      "id_241  0.923356  0.953265   0.977717  0.930006   \n",
      "\n",
      "                                   Precision-Recall Curve  \n",
      "id_241  ([tensor(0.8405), tensor(0.9777), tensor(1.)],...  \n",
      "Epoch 015: | Loss: 0.11910 | Acc: 95.531\n",
      "        Accuracy        F1  Precision    Recall  \\\n",
      "id_242  0.920249  0.950912   0.985075  0.919039   \n",
      "\n",
      "                                   Precision-Recall Curve  \n",
      "id_242  ([tensor(0.8405), tensor(0.9851), tensor(1.)],...  \n",
      "Epoch 015: | Loss: 0.11843 | Acc: 95.245\n",
      "        Accuracy        F1  Precision    Recall  \\\n",
      "id_243  0.922734  0.952532   0.984739  0.922366   \n",
      "\n",
      "                                   Precision-Recall Curve  \n",
      "id_243  ([tensor(0.8405), tensor(0.9847), tensor(1.)],...  \n",
      "Epoch 015: | Loss: 0.13496 | Acc: 94.898\n",
      "        Accuracy        F1  Precision    Recall  \\\n",
      "id_244  0.903988  0.939887   0.991924  0.893038   \n",
      "\n",
      "                                   Precision-Recall Curve  \n",
      "id_244  ([tensor(0.8405), tensor(0.9919), tensor(1.)],...  \n",
      "Epoch 015: | Loss: 0.10726 | Acc: 95.735\n",
      "        Accuracy        F1  Precision    Recall  \\\n",
      "id_245  0.930502  0.957454   0.986155  0.930376   \n",
      "\n",
      "                                   Precision-Recall Curve  \n",
      "id_245  ([tensor(0.8405), tensor(0.9862), tensor(1.)],...  \n",
      "Epoch 015: | Loss: 0.11727 | Acc: 95.163\n",
      "        Accuracy        F1  Precision    Recall  \\\n",
      "id_246  0.865873  0.914096   0.989943  0.849045   \n",
      "\n",
      "                                   Precision-Recall Curve  \n",
      "id_246  ([tensor(0.8405), tensor(0.9899), tensor(1.)],...  \n",
      "Epoch 015: | Loss: 0.11425 | Acc: 95.449\n",
      "        Accuracy        F1  Precision    Recall  \\\n",
      "id_247  0.923459  0.952801   0.988995  0.919162   \n",
      "\n",
      "                                   Precision-Recall Curve  \n",
      "id_247  ([tensor(0.8405), tensor(0.9890), tensor(1.)],...  \n",
      "Epoch 015: | Loss: 0.12327 | Acc: 95.286\n",
      "        Accuracy        F1  Precision    Recall  \\\n",
      "id_248   0.92812  0.955751   0.990223  0.923598   \n",
      "\n",
      "                                   Precision-Recall Curve  \n",
      "id_248  ([tensor(0.8405), tensor(0.9902), tensor(1.)],...  \n",
      "Epoch 015: | Loss: 0.10996 | Acc: 95.755\n",
      "        Accuracy        F1  Precision    Recall  \\\n",
      "id_249  0.940342  0.963892   0.980988  0.947381   \n",
      "\n",
      "                                   Precision-Recall Curve  \n",
      "id_249  ([tensor(0.8405), tensor(0.9810), tensor(1.)],...  \n",
      "Epoch 015: | Loss: 0.12460 | Acc: 95.061\n",
      "        Accuracy        F1  Precision    Recall  \\\n",
      "id_250  0.861212  0.910488   0.994165  0.839803   \n",
      "\n",
      "                                   Precision-Recall Curve  \n",
      "id_250  ([tensor(0.8405), tensor(0.9942), tensor(1.)],...  \n",
      "Epoch 015: | Loss: 0.12874 | Acc: 95.000\n",
      "        Accuracy    F1  Precision    Recall  \\\n",
      "id_251  0.934024  0.96   0.978745  0.941959   \n",
      "\n",
      "                                   Precision-Recall Curve  \n",
      "id_251  ([tensor(0.8405), tensor(0.9787), tensor(1.)],...  \n",
      "Epoch 015: | Loss: 0.11073 | Acc: 95.714\n",
      "        Accuracy        F1  Precision    Recall  \\\n",
      "id_252  0.945831  0.967286   0.982215  0.952803   \n",
      "\n",
      "                                   Precision-Recall Curve  \n",
      "id_252  ([tensor(0.8405), tensor(0.9822), tensor(1.)],...  \n",
      "Epoch 015: | Loss: 0.12384 | Acc: 95.020\n",
      "        Accuracy        F1  Precision    Recall  \\\n",
      "id_253  0.942931  0.965261   0.988252  0.943315   \n",
      "\n",
      "                                   Precision-Recall Curve  \n",
      "id_253  ([tensor(0.8405), tensor(0.9883), tensor(1.)],...  \n",
      "Epoch 015: | Loss: 0.11268 | Acc: 95.612\n",
      "        Accuracy        F1  Precision    Recall  \\\n",
      "id_254  0.908545  0.943051    0.98931  0.900924   \n",
      "\n",
      "                                   Precision-Recall Curve  \n",
      "id_254  ([tensor(0.8405), tensor(0.9893), tensor(1.)],...  \n",
      "Epoch 015: | Loss: 0.12051 | Acc: 95.592\n",
      "        Accuracy       F1  Precision    Recall  \\\n",
      "id_255  0.935888  0.96085   0.987006  0.936044   \n",
      "\n",
      "                                   Precision-Recall Curve  \n",
      "id_255  ([tensor(0.8405), tensor(0.9870), tensor(1.)],...  \n",
      "Epoch 015: | Loss: 0.10948 | Acc: 95.714\n",
      "        Accuracy        F1  Precision    Recall  \\\n",
      "id_256  0.926359  0.954963   0.982534  0.928897   \n",
      "\n",
      "                                   Precision-Recall Curve  \n",
      "id_256  ([tensor(0.8405), tensor(0.9825), tensor(1.)],...  \n",
      "Epoch 015: | Loss: 0.11791 | Acc: 95.224\n",
      "        Accuracy        F1  Precision   Recall  \\\n",
      "id_257  0.912066  0.945441   0.987913  0.90647   \n",
      "\n",
      "                                   Precision-Recall Curve  \n",
      "id_257  ([tensor(0.8405), tensor(0.9879), tensor(1.)],...  \n",
      "Epoch 015: | Loss: 0.11727 | Acc: 95.327\n",
      "        Accuracy        F1  Precision    Recall  \\\n",
      "id_258  0.934542  0.960701   0.969625  0.951941   \n",
      "\n",
      "                                   Precision-Recall Curve  \n",
      "id_258  ([tensor(0.8405), tensor(0.9696), tensor(1.)],...  \n",
      "Epoch 015: | Loss: 0.11639 | Acc: 95.429\n",
      "        Accuracy        F1  Precision   Recall  \\\n",
      "id_259  0.929674  0.956754   0.990113  0.92557   \n",
      "\n",
      "                                   Precision-Recall Curve  \n",
      "id_259  ([tensor(0.8405), tensor(0.9901), tensor(1.)],...  \n",
      "Epoch 015: | Loss: 0.12208 | Acc: 95.204\n",
      "        Accuracy        F1  Precision    Recall  \\\n",
      "id_260  0.921699  0.951804   0.985999  0.919901   \n",
      "\n",
      "                                   Precision-Recall Curve  \n",
      "id_260  ([tensor(0.8405), tensor(0.9860), tensor(1.)],...  \n",
      "Epoch 015: | Loss: 0.11843 | Acc: 95.429\n",
      "        Accuracy        F1  Precision    Recall  \\\n",
      "id_261  0.919731  0.950285   0.991036  0.912754   \n",
      "\n",
      "                                   Precision-Recall Curve  \n",
      "id_261  ([tensor(0.8405), tensor(0.9910), tensor(1.)],...  \n",
      "Epoch 015: | Loss: 0.11199 | Acc: 95.694\n",
      "        Accuracy        F1  Precision    Recall  \\\n",
      "id_262  0.923874  0.953158   0.987064  0.921503   \n",
      "\n",
      "                                   Precision-Recall Curve  \n",
      "id_262  ([tensor(0.8405), tensor(0.9871), tensor(1.)],...  \n",
      "Epoch 015: | Loss: 0.12044 | Acc: 95.082\n",
      "        Accuracy        F1  Precision    Recall  \\\n",
      "id_263  0.897152  0.935457   0.989821  0.886753   \n",
      "\n",
      "                                   Precision-Recall Curve  \n",
      "id_263  ([tensor(0.8405), tensor(0.9898), tensor(1.)],...  \n",
      "Epoch 015: | Loss: 0.11518 | Acc: 95.490\n",
      "        Accuracy        F1  Precision    Recall  \\\n",
      "id_264  0.914759  0.948559   0.962456  0.935059   \n",
      "\n",
      "                                   Precision-Recall Curve  \n",
      "id_264  ([tensor(0.8405), tensor(0.9625), tensor(1.)],...  \n",
      "Epoch 015: | Loss: 0.10901 | Acc: 95.755\n",
      "        Accuracy        F1  Precision    Recall  \\\n",
      "id_265  0.927706  0.956337    0.97116  0.941959   \n",
      "\n",
      "                                   Precision-Recall Curve  \n",
      "id_265  ([tensor(0.8405), tensor(0.9712), tensor(1.)],...  \n",
      "Epoch 015: | Loss: 0.11746 | Acc: 95.347\n",
      "        Accuracy        F1  Precision    Recall  \\\n",
      "id_266  0.914966  0.947165   0.991245  0.906839   \n",
      "\n",
      "                                   Precision-Recall Curve  \n",
      "id_266  ([tensor(0.8405), tensor(0.9912), tensor(1.)],...  \n",
      "Epoch 015: | Loss: 0.10430 | Acc: 95.959\n",
      "        Accuracy       F1  Precision    Recall  \\\n",
      "id_267  0.917245  0.94866   0.991139  0.909673   \n",
      "\n",
      "                                   Precision-Recall Curve  \n",
      "id_267  ([tensor(0.8405), tensor(0.9911), tensor(1.)],...  \n",
      "Epoch 015: | Loss: 0.12955 | Acc: 95.000\n",
      "        Accuracy        F1  Precision   Recall  \\\n",
      "id_268  0.923459  0.952909   0.986672  0.92138   \n",
      "\n",
      "                                   Precision-Recall Curve  \n",
      "id_268  ([tensor(0.8405), tensor(0.9867), tensor(1.)],...  \n",
      "Epoch 015: | Loss: 0.11572 | Acc: 95.265\n",
      "        Accuracy        F1  Precision    Recall  \\\n",
      "id_269  0.935474  0.960687    0.98448  0.938016   \n",
      "\n",
      "                                   Precision-Recall Curve  \n",
      "id_269  ([tensor(0.8405), tensor(0.9845), tensor(1.)],...  \n",
      "Epoch 015: | Loss: 0.11944 | Acc: 95.429\n",
      "        Accuracy        F1  Precision    Recall  \\\n",
      "id_270  0.896945  0.935352    0.98928  0.886999   \n",
      "\n",
      "                                   Precision-Recall Curve  \n",
      "id_270  ([tensor(0.8405), tensor(0.9893), tensor(1.)],...  \n",
      "Epoch 015: | Loss: 0.12391 | Acc: 95.306\n",
      "        Accuracy        F1  Precision    Recall  \\\n",
      "id_271  0.896945  0.935603   0.985278  0.890696   \n",
      "\n",
      "                                   Precision-Recall Curve  \n",
      "id_271  ([tensor(0.8405), tensor(0.9853), tensor(1.)],...  \n",
      "Epoch 015: | Loss: 0.11688 | Acc: 95.469\n",
      "        Accuracy        F1  Precision    Recall  \\\n",
      "id_272  0.916727  0.948402   0.989554  0.910536   \n",
      "\n",
      "                                   Precision-Recall Curve  \n",
      "id_272  ([tensor(0.8405), tensor(0.9896), tensor(1.)],...  \n",
      "Epoch 015: | Loss: 0.10836 | Acc: 95.796\n",
      "        Accuracy        F1  Precision   Recall  \\\n",
      "id_273  0.943656  0.966157   0.975625  0.95687   \n",
      "\n",
      "                                   Precision-Recall Curve  \n",
      "id_273  ([tensor(0.8405), tensor(0.9756), tensor(1.)],...  \n",
      "Epoch 015: | Loss: 0.11487 | Acc: 95.592\n",
      "        Accuracy        F1  Precision    Recall  \\\n",
      "id_274  0.905023  0.940651   0.990594  0.895502   \n",
      "\n",
      "                                   Precision-Recall Curve  \n",
      "id_274  ([tensor(0.8405), tensor(0.9906), tensor(1.)],...  \n",
      "Epoch 015: | Loss: 0.11616 | Acc: 95.469\n",
      "        Accuracy        F1  Precision    Recall  \\\n",
      "id_275   0.89363  0.932933   0.992359  0.880222   \n",
      "\n",
      "                                   Precision-Recall Curve  \n",
      "id_275  ([tensor(0.8405), tensor(0.9924), tensor(1.)],...  \n",
      "Epoch 015: | Loss: 0.10680 | Acc: 95.673\n",
      "        Accuracy        F1  Precision    Recall  \\\n",
      "id_276  0.940342  0.963723   0.985573  0.942822   \n",
      "\n",
      "                                   Precision-Recall Curve  \n",
      "id_276  ([tensor(0.8405), tensor(0.9856), tensor(1.)],...  \n",
      "Epoch 015: | Loss: 0.11568 | Acc: 95.327\n",
      "        Accuracy        F1  Precision    Recall  \\\n",
      "id_277  0.950596  0.970623   0.970204  0.971041   \n",
      "\n",
      "                                   Precision-Recall Curve  \n",
      "id_277  ([tensor(0.8405), tensor(0.9702), tensor(1.)],...  \n",
      "Epoch 015: | Loss: 0.12398 | Acc: 94.959\n",
      "        Accuracy        F1  Precision    Recall  \\\n",
      "id_278  0.920456  0.950989   0.986234  0.918176   \n",
      "\n",
      "                                   Precision-Recall Curve  \n",
      "id_278  ([tensor(0.8405), tensor(0.9862), tensor(1.)],...  \n",
      "Epoch 015: | Loss: 0.11941 | Acc: 95.327\n",
      "        Accuracy        F1  Precision    Recall  \\\n",
      "id_279  0.868358  0.915867   0.989416  0.852495   \n",
      "\n",
      "                                   Precision-Recall Curve  \n",
      "id_279  ([tensor(0.8405), tensor(0.9894), tensor(1.)],...  \n",
      "Epoch 015: | Loss: 0.12221 | Acc: 95.184\n",
      "        Accuracy        F1  Precision    Recall  \\\n",
      "id_280  0.915691  0.947927   0.985633  0.913001   \n",
      "\n",
      "                                   Precision-Recall Curve  \n",
      "id_280  ([tensor(0.8405), tensor(0.9856), tensor(1.)],...  \n",
      "Epoch 015: | Loss: 0.11739 | Acc: 95.367\n",
      "        Accuracy        F1  Precision    Recall  \\\n",
      "id_281  0.917038  0.949448   0.973092  0.926925   \n",
      "\n",
      "                                   Precision-Recall Curve  \n",
      "id_281  ([tensor(0.8405), tensor(0.9731), tensor(1.)],...  \n",
      "Epoch 015: | Loss: 0.13209 | Acc: 94.939\n",
      "        Accuracy        F1  Precision    Recall  \\\n",
      "id_282  0.932677  0.958871   0.985434  0.933703   \n",
      "\n",
      "                                   Precision-Recall Curve  \n",
      "id_282  ([tensor(0.8405), tensor(0.9854), tensor(1.)],...  \n",
      "Epoch 015: | Loss: 0.10286 | Acc: 96.000\n",
      "        Accuracy        F1  Precision    Recall  \\\n",
      "id_283  0.931435  0.958059   0.985917  0.931731   \n",
      "\n",
      "                                   Precision-Recall Curve  \n",
      "id_283  ([tensor(0.8405), tensor(0.9859), tensor(1.)],...  \n",
      "Epoch 015: | Loss: 0.13018 | Acc: 94.918\n",
      "        Accuracy        F1  Precision    Recall  \\\n",
      "id_284  0.942103  0.965483   0.967574  0.963401   \n",
      "\n",
      "                                   Precision-Recall Curve  \n",
      "id_284  ([tensor(0.8405), tensor(0.9676), tensor(1.)],...  \n",
      "Epoch 015: | Loss: 0.11798 | Acc: 95.469\n",
      "        Accuracy       F1  Precision    Recall  \\\n",
      "id_285  0.929881  0.95722   0.982361  0.933333   \n",
      "\n",
      "                                   Precision-Recall Curve  \n",
      "id_285  ([tensor(0.8405), tensor(0.9824), tensor(1.)],...  \n",
      "Epoch 015: | Loss: 0.11508 | Acc: 95.490\n",
      "        Accuracy        F1  Precision    Recall  \\\n",
      "id_286  0.902538  0.938852   0.993126  0.890203   \n",
      "\n",
      "                                   Precision-Recall Curve  \n",
      "id_286  ([tensor(0.8405), tensor(0.9931), tensor(1.)],...  \n",
      "Epoch 015: | Loss: 0.12945 | Acc: 95.000\n",
      "        Accuracy        F1  Precision    Recall  \\\n",
      "id_287  0.902123  0.938799   0.989353  0.893161   \n",
      "\n",
      "                                   Precision-Recall Curve  \n",
      "id_287  ([tensor(0.8405), tensor(0.9894), tensor(1.)],...  \n",
      "Epoch 015: | Loss: 0.11542 | Acc: 95.571\n",
      "        Accuracy       F1  Precision    Recall  \\\n",
      "id_288  0.913206  0.94604   0.990695  0.905237   \n",
      "\n",
      "                                   Precision-Recall Curve  \n",
      "id_288  ([tensor(0.8405), tensor(0.9907), tensor(1.)],...  \n",
      "Epoch 015: | Loss: 0.11866 | Acc: 95.408\n",
      "        Accuracy        F1  Precision    Recall  \\\n",
      "id_289  0.917866  0.949345   0.985544  0.915712   \n",
      "\n",
      "                                   Precision-Recall Curve  \n",
      "id_289  ([tensor(0.8405), tensor(0.9855), tensor(1.)],...  \n",
      "Epoch 015: | Loss: 0.11450 | Acc: 95.408\n",
      "        Accuracy        F1  Precision    Recall  \\\n",
      "id_290  0.927084  0.955466   0.981672  0.930622   \n",
      "\n",
      "                                   Precision-Recall Curve  \n",
      "id_290  ([tensor(0.8405), tensor(0.9817), tensor(1.)],...  \n",
      "Epoch 015: | Loss: 0.11102 | Acc: 95.633\n",
      "        Accuracy       F1  Precision   Recall  \\\n",
      "id_291  0.911238  0.94467   0.992135  0.90154   \n",
      "\n",
      "                                   Precision-Recall Curve  \n",
      "id_291  ([tensor(0.8405), tensor(0.9921), tensor(1.)],...  \n",
      "Epoch 015: | Loss: 0.09989 | Acc: 96.082\n",
      "        Accuracy        F1  Precision    Recall  \\\n",
      "id_292  0.928534  0.956029    0.98997  0.924338   \n",
      "\n",
      "                                   Precision-Recall Curve  \n",
      "id_292  ([tensor(0.8405), tensor(0.9900), tensor(1.)],...  \n",
      "Epoch 015: | Loss: 0.11818 | Acc: 95.510\n",
      "        Accuracy       F1  Precision    Recall  \\\n",
      "id_293  0.935267  0.96059     0.9836  0.938632   \n",
      "\n",
      "                                   Precision-Recall Curve  \n",
      "id_293  ([tensor(0.8405), tensor(0.9836), tensor(1.)],...  \n",
      "Epoch 015: | Loss: 0.12259 | Acc: 95.306\n",
      "        Accuracy        F1  Precision   Recall  \\\n",
      "id_294  0.904816  0.940668   0.987931  0.89772   \n",
      "\n",
      "                                   Precision-Recall Curve  \n",
      "id_294  ([tensor(0.8405), tensor(0.9879), tensor(1.)],...  \n",
      "Epoch 015: | Loss: 0.11318 | Acc: 95.531\n",
      "        Accuracy        F1  Precision    Recall  \\\n",
      "id_295  0.924081  0.953728   0.977737  0.930869   \n",
      "\n",
      "                                   Precision-Recall Curve  \n",
      "id_295  ([tensor(0.8405), tensor(0.9777), tensor(1.)],...  \n",
      "Epoch 015: | Loss: 0.10911 | Acc: 95.837\n",
      "        Accuracy        F1  Precision    Recall  \\\n",
      "id_296  0.877576  0.922206   0.989688  0.863339   \n",
      "\n",
      "                                   Precision-Recall Curve  \n",
      "id_296  ([tensor(0.8405), tensor(0.9897), tensor(1.)],...  \n",
      "Epoch 015: | Loss: 0.10939 | Acc: 95.857\n",
      "        Accuracy       F1  Precision    Recall  \\\n",
      "id_297  0.930192  0.95745   0.981618  0.934442   \n",
      "\n",
      "                                   Precision-Recall Curve  \n",
      "id_297  ([tensor(0.8405), tensor(0.9816), tensor(1.)],...  \n",
      "Epoch 015: | Loss: 0.11336 | Acc: 95.531\n",
      "        Accuracy        F1  Precision    Recall  \\\n",
      "id_298  0.900052  0.937301   0.991341  0.888848   \n",
      "\n",
      "                                   Precision-Recall Curve  \n",
      "id_298  ([tensor(0.8405), tensor(0.9913), tensor(1.)],...  \n",
      "Epoch 015: | Loss: 0.11398 | Acc: 95.531\n",
      "        Accuracy        F1  Precision    Recall  \\\n",
      "id_299  0.929467  0.956677   0.988822  0.926556   \n",
      "\n",
      "                                   Precision-Recall Curve  \n",
      "id_299  ([tensor(0.8405), tensor(0.9888), tensor(1.)],...  \n",
      "Epoch 015: | Loss: 0.11012 | Acc: 95.612\n",
      "        Accuracy        F1  Precision    Recall  \\\n",
      "id_300  0.916313  0.948443   0.983459  0.915835   \n",
      "\n",
      "                                   Precision-Recall Curve  \n",
      "id_300  ([tensor(0.8405), tensor(0.9835), tensor(1.)],...  \n",
      "Epoch 015: | Loss: 0.11928 | Acc: 95.367\n",
      "        Accuracy        F1  Precision    Recall  \\\n",
      "id_301  0.927188  0.955237   0.988274  0.924338   \n",
      "\n",
      "                                   Precision-Recall Curve  \n",
      "id_301  ([tensor(0.8405), tensor(0.9883), tensor(1.)],...  \n",
      "Epoch 015: | Loss: 0.12012 | Acc: 95.245\n",
      "        Accuracy        F1  Precision    Recall  \\\n",
      "id_302  0.912895  0.946155   0.984675  0.910536   \n",
      "\n",
      "                                   Precision-Recall Curve  \n",
      "id_302  ([tensor(0.8405), tensor(0.9847), tensor(1.)],...  \n",
      "Epoch 015: | Loss: 0.13573 | Acc: 94.633\n",
      "        Accuracy        F1  Precision    Recall  \\\n",
      "id_303  0.920145  0.950807   0.985843  0.918176   \n",
      "\n",
      "                                   Precision-Recall Curve  \n",
      "id_303  ([tensor(0.8405), tensor(0.9858), tensor(1.)],...  \n",
      "Epoch 015: | Loss: 0.12485 | Acc: 95.020\n",
      "        Accuracy        F1  Precision    Recall  \\\n",
      "id_304  0.917452  0.948782   0.991405  0.909673   \n",
      "\n",
      "                                   Precision-Recall Curve  \n",
      "id_304  ([tensor(0.8405), tensor(0.9914), tensor(1.)],...  \n",
      "Epoch 015: | Loss: 0.10494 | Acc: 96.041\n",
      "        Accuracy        F1  Precision    Recall  \\\n",
      "id_305  0.927499  0.955334   0.990605  0.922489   \n",
      "\n",
      "                                   Precision-Recall Curve  \n",
      "id_305  ([tensor(0.8405), tensor(0.9906), tensor(1.)],...  \n",
      "Epoch 015: | Loss: 0.12697 | Acc: 95.020\n",
      "        Accuracy        F1  Precision    Recall  \\\n",
      "id_306  0.932574  0.959121   0.977849  0.941097   \n",
      "\n",
      "                                   Precision-Recall Curve  \n",
      "id_306  ([tensor(0.8405), tensor(0.9778), tensor(1.)],...  \n",
      "Epoch 015: | Loss: 0.11766 | Acc: 95.490\n",
      "        Accuracy       F1  Precision    Recall  \\\n",
      "id_307   0.86639  0.91416   0.993635  0.846457   \n",
      "\n",
      "                                   Precision-Recall Curve  \n",
      "id_307  ([tensor(0.8405), tensor(0.9936), tensor(1.)],...  \n",
      "Epoch 015: | Loss: 0.12625 | Acc: 95.327\n",
      "        Accuracy        F1  Precision   Recall  \\\n",
      "id_308  0.918902  0.949869   0.988539  0.91411   \n",
      "\n",
      "                                   Precision-Recall Curve  \n",
      "id_308  ([tensor(0.8405), tensor(0.9885), tensor(1.)],...  \n",
      "Epoch 015: | Loss: 0.10591 | Acc: 95.878\n",
      "        Accuracy        F1  Precision    Recall  \\\n",
      "id_309  0.929052  0.956439   0.988173  0.926679   \n",
      "\n",
      "                                   Precision-Recall Curve  \n",
      "id_309  ([tensor(0.8405), tensor(0.9882), tensor(1.)],...  \n",
      "Epoch 015: | Loss: 0.11194 | Acc: 95.755\n",
      "        Accuracy        F1  Precision    Recall  \\\n",
      "id_310   0.86784  0.915553   0.988849  0.852372   \n",
      "\n",
      "                                   Precision-Recall Curve  \n",
      "id_310  ([tensor(0.8405), tensor(0.9888), tensor(1.)],...  \n",
      "Epoch 015: | Loss: 0.11286 | Acc: 95.653\n",
      "        Accuracy        F1  Precision    Recall  \\\n",
      "id_311   0.87623  0.921075   0.992457  0.859273   \n",
      "\n",
      "                                   Precision-Recall Curve  \n",
      "id_311  ([tensor(0.8405), tensor(0.9925), tensor(1.)],...  \n",
      "Epoch 015: | Loss: 0.12680 | Acc: 95.082\n",
      "        Accuracy        F1  Precision    Recall  \\\n",
      "id_312  0.925013  0.954096    0.98263  0.927172   \n",
      "\n",
      "                                   Precision-Recall Curve  \n",
      "id_312  ([tensor(0.8405), tensor(0.9826), tensor(1.)],...  \n",
      "Epoch 015: | Loss: 0.12032 | Acc: 95.367\n",
      "        Accuracy       F1  Precision    Recall  \\\n",
      "id_313  0.929259  0.95709   0.976288  0.938632   \n",
      "\n",
      "                                   Precision-Recall Curve  \n",
      "id_313  ([tensor(0.8405), tensor(0.9763), tensor(1.)],...  \n",
      "Epoch 015: | Loss: 0.10016 | Acc: 96.102\n",
      "        Accuracy        F1  Precision    Recall  \\\n",
      "id_314  0.863905  0.912482   0.992898  0.844116   \n",
      "\n",
      "                                   Precision-Recall Curve  \n",
      "id_314  ([tensor(0.8405), tensor(0.9929), tensor(1.)],...  \n",
      "Epoch 015: | Loss: 0.12458 | Acc: 95.286\n",
      "        Accuracy        F1  Precision   Recall  \\\n",
      "id_315  0.940135  0.963992   0.974802  0.95342   \n",
      "\n",
      "                                   Precision-Recall Curve  \n",
      "id_315  ([tensor(0.8405), tensor(0.9748), tensor(1.)],...  \n",
      "Epoch 015: | Loss: 0.11156 | Acc: 95.592\n",
      "        Accuracy        F1  Precision    Recall  \\\n",
      "id_316  0.937856  0.962155   0.985528  0.939864   \n",
      "\n",
      "                                   Precision-Recall Curve  \n",
      "id_316  ([tensor(0.8405), tensor(0.9855), tensor(1.)],...  \n",
      "Epoch 015: | Loss: 0.10702 | Acc: 95.694\n",
      "        Accuracy        F1  Precision    Recall  \\\n",
      "id_317  0.943967  0.966024   0.985015  0.947751   \n",
      "\n",
      "                                   Precision-Recall Curve  \n",
      "id_317  ([tensor(0.8405), tensor(0.9850), tensor(1.)],...  \n",
      "Epoch 015: | Loss: 0.10405 | Acc: 96.000\n",
      "        Accuracy        F1  Precision    Recall  \\\n",
      "id_318  0.914656  0.947037   0.989789  0.907825   \n",
      "\n",
      "                                   Precision-Recall Curve  \n",
      "id_318  ([tensor(0.8405), tensor(0.9898), tensor(1.)],...  \n",
      "Epoch 015: | Loss: 0.12922 | Acc: 95.122\n",
      "        Accuracy       F1  Precision    Recall  \\\n",
      "id_319  0.889591  0.93049    0.98809  0.879236   \n",
      "\n",
      "                                   Precision-Recall Curve  \n",
      "id_319  ([tensor(0.8405), tensor(0.9881), tensor(1.)],...  \n",
      "Epoch 015: | Loss: 0.12348 | Acc: 95.347\n",
      "        Accuracy        F1  Precision    Recall  \\\n",
      "id_320  0.850026  0.902465   0.995246  0.825508   \n",
      "\n",
      "                                   Precision-Recall Curve  \n",
      "id_320  ([tensor(0.8405), tensor(0.9952), tensor(1.)],...  \n",
      "Epoch 015: | Loss: 0.11785 | Acc: 95.367\n",
      "        Accuracy        F1  Precision    Recall  \\\n",
      "id_321   0.93361  0.959459   0.985577  0.934689   \n",
      "\n",
      "                                   Precision-Recall Curve  \n",
      "id_321  ([tensor(0.8405), tensor(0.9856), tensor(1.)],...  \n",
      "Epoch 015: | Loss: 0.11364 | Acc: 95.449\n",
      "        Accuracy        F1  Precision   Recall  \\\n",
      "id_322  0.918488  0.949587   0.988794  0.91337   \n",
      "\n",
      "                                   Precision-Recall Curve  \n",
      "id_322  ([tensor(0.8405), tensor(0.9888), tensor(1.)],...  \n",
      "Epoch 015: | Loss: 0.12269 | Acc: 95.143\n",
      "        Accuracy        F1  Precision    Recall  \\\n",
      "id_323  0.920352  0.950727   0.990256  0.914233   \n",
      "\n",
      "                                   Precision-Recall Curve  \n",
      "id_323  ([tensor(0.8405), tensor(0.9903), tensor(1.)],...  \n",
      "Epoch 015: | Loss: 0.12156 | Acc: 95.204\n",
      "        Accuracy        F1  Precision    Recall  \\\n",
      "id_324  0.931849  0.958611   0.979057  0.939002   \n",
      "\n",
      "                                   Precision-Recall Curve  \n",
      "id_324  ([tensor(0.8405), tensor(0.9791), tensor(1.)],...  \n",
      "Epoch 015: | Loss: 0.12141 | Acc: 95.388\n",
      "        Accuracy       F1  Precision    Recall  \\\n",
      "id_325  0.861315  0.91062   0.993446  0.840542   \n",
      "\n",
      "                                   Precision-Recall Curve  \n",
      "id_325  ([tensor(0.8405), tensor(0.9934), tensor(1.)],...  \n",
      "Epoch 015: | Loss: 0.11626 | Acc: 95.510\n",
      "        Accuracy        F1  Precision    Recall  \\\n",
      "id_326  0.942103  0.965143     0.9769  0.953666   \n",
      "\n",
      "                                   Precision-Recall Curve  \n",
      "id_326  ([tensor(0.8405), tensor(0.9769), tensor(1.)],...  \n",
      "Epoch 015: | Loss: 0.11351 | Acc: 95.367\n",
      "        Accuracy        F1  Precision    Recall  \\\n",
      "id_327  0.932056  0.958507   0.984665  0.933703   \n",
      "\n",
      "                                   Precision-Recall Curve  \n",
      "id_327  ([tensor(0.8405), tensor(0.9847), tensor(1.)],...  \n",
      "Epoch 015: | Loss: 0.11296 | Acc: 95.673\n",
      "        Accuracy        F1  Precision    Recall  \\\n",
      "id_328  0.942724  0.965701   0.972153  0.959335   \n",
      "\n",
      "                                   Precision-Recall Curve  \n",
      "id_328  ([tensor(0.8405), tensor(0.9722), tensor(1.)],...  \n",
      "Epoch 015: | Loss: 0.11012 | Acc: 95.735\n",
      "        Accuracy      F1  Precision    Recall  \\\n",
      "id_329  0.929156  0.9565   0.988303  0.926679   \n",
      "\n",
      "                                   Precision-Recall Curve  \n",
      "id_329  ([tensor(0.8405), tensor(0.9883), tensor(1.)],...  \n",
      "Epoch 015: | Loss: 0.12459 | Acc: 95.163\n",
      "        Accuracy        F1  Precision    Recall  \\\n",
      "id_330  0.921802  0.951859   0.986258  0.919778   \n",
      "\n",
      "                                   Precision-Recall Curve  \n",
      "id_330  ([tensor(0.8405), tensor(0.9863), tensor(1.)],...  \n",
      "Epoch 015: | Loss: 0.10968 | Acc: 95.878\n",
      "        Accuracy        F1  Precision    Recall  \\\n",
      "id_331  0.943553  0.965974   0.978993  0.953296   \n",
      "\n",
      "                                   Precision-Recall Curve  \n",
      "id_331  ([tensor(0.8405), tensor(0.9790), tensor(1.)],...  \n",
      "Epoch 015: | Loss: 0.11288 | Acc: 95.551\n",
      "        Accuracy        F1  Precision    Recall  \\\n",
      "id_332  0.935681  0.960763   0.985866  0.936907   \n",
      "\n",
      "                                   Precision-Recall Curve  \n",
      "id_332  ([tensor(0.8405), tensor(0.9859), tensor(1.)],...  \n",
      "Epoch 015: | Loss: 0.10647 | Acc: 96.020\n",
      "        Accuracy        F1  Precision    Recall  \\\n",
      "id_333  0.915381  0.947314   0.993642  0.905114   \n",
      "\n",
      "                                   Precision-Recall Curve  \n",
      "id_333  ([tensor(0.8405), tensor(0.9936), tensor(1.)],...  \n",
      "Epoch 015: | Loss: 0.12745 | Acc: 94.980\n",
      "        Accuracy        F1  Precision    Recall  \\\n",
      "id_334  0.927913  0.956353   0.973694  0.939618   \n",
      "\n",
      "                                   Precision-Recall Curve  \n",
      "id_334  ([tensor(0.8405), tensor(0.9737), tensor(1.)],...  \n",
      "Epoch 015: | Loss: 0.11391 | Acc: 95.694\n",
      "        Accuracy        F1  Precision    Recall  \\\n",
      "id_335  0.934749  0.959995   0.990305  0.931485   \n",
      "\n",
      "                                   Precision-Recall Curve  \n",
      "id_335  ([tensor(0.8405), tensor(0.9903), tensor(1.)],...  \n",
      "Epoch 015: | Loss: 0.12401 | Acc: 95.000\n",
      "        Accuracy        F1  Precision    Recall  \\\n",
      "id_336  0.904505  0.940432   0.988456  0.896858   \n",
      "\n",
      "                                   Precision-Recall Curve  \n",
      "id_336  ([tensor(0.8405), tensor(0.9885), tensor(1.)],...  \n",
      "Epoch 015: | Loss: 0.11932 | Acc: 95.367\n",
      "        Accuracy        F1  Precision    Recall  \\\n",
      "id_337  0.932677  0.958782    0.98759  0.931608   \n",
      "\n",
      "                                   Precision-Recall Curve  \n",
      "id_337  ([tensor(0.8405), tensor(0.9876), tensor(1.)],...  \n",
      "Epoch 015: | Loss: 0.12154 | Acc: 95.224\n",
      "        Accuracy        F1  Precision    Recall  \\\n",
      "id_338  0.934749  0.960202   0.985094  0.936537   \n",
      "\n",
      "                                   Precision-Recall Curve  \n",
      "id_338  ([tensor(0.8405), tensor(0.9851), tensor(1.)],...  \n",
      "Epoch 015: | Loss: 0.10798 | Acc: 95.837\n",
      "        Accuracy        F1  Precision    Recall  \\\n",
      "id_339  0.927084  0.955324   0.984823  0.927542   \n",
      "\n",
      "                                   Precision-Recall Curve  \n",
      "id_339  ([tensor(0.8405), tensor(0.9848), tensor(1.)],...  \n",
      "Epoch 015: | Loss: 0.11762 | Acc: 95.429\n",
      "        Accuracy       F1  Precision    Recall  \\\n",
      "id_340  0.901191  0.93806   0.991354  0.890203   \n",
      "\n",
      "                                   Precision-Recall Curve  \n",
      "id_340  ([tensor(0.8405), tensor(0.9914), tensor(1.)],...  \n",
      "Epoch 015: | Loss: 0.10475 | Acc: 95.939\n",
      "        Accuracy        F1  Precision    Recall  \\\n",
      "id_341  0.928949  0.956361   0.988429  0.926309   \n",
      "\n",
      "                                   Precision-Recall Curve  \n",
      "id_341  ([tensor(0.8405), tensor(0.9884), tensor(1.)],...  \n",
      "Epoch 015: | Loss: 0.10862 | Acc: 95.837\n",
      "        Accuracy       F1  Precision    Recall  \\\n",
      "id_342  0.929984  0.95703   0.988316  0.927665   \n",
      "\n",
      "                                   Precision-Recall Curve  \n",
      "id_342  ([tensor(0.8405), tensor(0.9883), tensor(1.)],...  \n",
      "Epoch 015: | Loss: 0.13326 | Acc: 94.776\n",
      "        Accuracy       F1  Precision    Recall  \\\n",
      "id_343  0.938995  0.96313   0.978753  0.947998   \n",
      "\n",
      "                                   Precision-Recall Curve  \n",
      "id_343  ([tensor(0.8405), tensor(0.9788), tensor(1.)],...  \n",
      "Epoch 015: | Loss: 0.10167 | Acc: 96.041\n",
      "        Accuracy        F1  Precision    Recall  \\\n",
      "id_344  0.934749  0.960287   0.982966  0.938632   \n",
      "\n",
      "                                   Precision-Recall Curve  \n",
      "id_344  ([tensor(0.8405), tensor(0.9830), tensor(1.)],...  \n",
      "Epoch 015: | Loss: 0.11619 | Acc: 95.367\n",
      "        Accuracy        F1  Precision    Recall  \\\n",
      "id_345   0.93827  0.962402   0.985912  0.939988   \n",
      "\n",
      "                                   Precision-Recall Curve  \n",
      "id_345  ([tensor(0.8405), tensor(0.9859), tensor(1.)],...  \n",
      "Epoch 015: | Loss: 0.11489 | Acc: 95.592\n",
      "        Accuracy        F1  Precision    Recall  \\\n",
      "id_346  0.887209  0.928828   0.988867  0.875662   \n",
      "\n",
      "                                   Precision-Recall Curve  \n",
      "id_346  ([tensor(0.8405), tensor(0.9889), tensor(1.)],...  \n",
      "Epoch 015: | Loss: 0.10945 | Acc: 95.755\n",
      "        Accuracy        F1  Precision    Recall  \\\n",
      "id_347  0.937442  0.961912   0.985019  0.939864   \n",
      "\n",
      "                                   Precision-Recall Curve  \n",
      "id_347  ([tensor(0.8405), tensor(0.9850), tensor(1.)],...  \n",
      "Epoch 015: | Loss: 0.11487 | Acc: 95.265\n",
      "        Accuracy        F1  Precision    Recall  \\\n",
      "id_348  0.924392  0.953367   0.989786  0.919532   \n",
      "\n",
      "                                   Precision-Recall Curve  \n",
      "id_348  ([tensor(0.8405), tensor(0.9898), tensor(1.)],...  \n",
      "Epoch 015: | Loss: 0.10872 | Acc: 95.898\n",
      "        Accuracy        F1  Precision    Recall  \\\n",
      "id_349  0.923459  0.952686   0.991471  0.916821   \n",
      "\n",
      "                                   Precision-Recall Curve  \n",
      "id_349  ([tensor(0.8405), tensor(0.9915), tensor(1.)],...  \n",
      "Epoch 015: | Loss: 0.11268 | Acc: 95.694\n",
      "        Accuracy        F1  Precision    Recall  \\\n",
      "id_350  0.924599  0.953554   0.988623  0.920887   \n",
      "\n",
      "                                   Precision-Recall Curve  \n",
      "id_350  ([tensor(0.8405), tensor(0.9886), tensor(1.)],...  \n",
      "Epoch 015: | Loss: 0.10869 | Acc: 95.633\n",
      "        Accuracy        F1  Precision    Recall  \\\n",
      "id_351  0.913102  0.945944   0.991223  0.904621   \n",
      "\n",
      "                                   Precision-Recall Curve  \n",
      "id_351  ([tensor(0.8405), tensor(0.9912), tensor(1.)],...  \n",
      "Epoch 015: | Loss: 0.10956 | Acc: 95.612\n",
      "        Accuracy        F1  Precision    Recall  \\\n",
      "id_352  0.932781  0.958864    0.98721  0.932101   \n",
      "\n",
      "                                   Precision-Recall Curve  \n",
      "id_352  ([tensor(0.8405), tensor(0.9872), tensor(1.)],...  \n",
      "Epoch 015: | Loss: 0.11916 | Acc: 95.245\n",
      "        Accuracy        F1  Precision    Recall  \\\n",
      "id_353  0.932056  0.958376   0.987835  0.930622   \n",
      "\n",
      "                                   Precision-Recall Curve  \n",
      "id_353  ([tensor(0.8405), tensor(0.9878), tensor(1.)],...  \n",
      "Epoch 015: | Loss: 0.11646 | Acc: 95.510\n",
      "        Accuracy        F1  Precision    Recall  \\\n",
      "id_354  0.898291  0.936109   0.991592  0.886506   \n",
      "\n",
      "                                   Precision-Recall Curve  \n",
      "id_354  ([tensor(0.8405), tensor(0.9916), tensor(1.)],...  \n",
      "Epoch 015: | Loss: 0.11773 | Acc: 95.347\n",
      "        Accuracy        F1  Precision    Recall  \\\n",
      "id_355  0.928845  0.956245   0.989586  0.925077   \n",
      "\n",
      "                                   Precision-Recall Curve  \n",
      "id_355  ([tensor(0.8405), tensor(0.9896), tensor(1.)],...  \n",
      "Epoch 015: | Loss: 0.12002 | Acc: 95.408\n",
      "        Accuracy        F1  Precision    Recall  \\\n",
      "id_356  0.912481  0.945523   0.991482  0.903635   \n",
      "\n",
      "                                   Precision-Recall Curve  \n",
      "id_356  ([tensor(0.8405), tensor(0.9915), tensor(1.)],...  \n",
      "Epoch 015: | Loss: 0.11377 | Acc: 95.816\n",
      "        Accuracy        F1  Precision    Recall  \\\n",
      "id_357  0.913723  0.946878   0.981232  0.914849   \n",
      "\n",
      "                                   Precision-Recall Curve  \n",
      "id_357  ([tensor(0.8405), tensor(0.9812), tensor(1.)],...  \n",
      "Epoch 015: | Loss: 0.10523 | Acc: 95.878\n",
      "        Accuracy       F1  Precision    Recall  \\\n",
      "id_358  0.940445  0.96423   0.973618  0.955022   \n",
      "\n",
      "                                   Precision-Recall Curve  \n",
      "id_358  ([tensor(0.8405), tensor(0.9736), tensor(1.)],...  \n",
      "Epoch 015: | Loss: 0.11284 | Acc: 95.694\n",
      "        Accuracy        F1  Precision    Recall  \\\n",
      "id_359  0.923252  0.952631   0.989772  0.918176   \n",
      "\n",
      "                                   Precision-Recall Curve  \n",
      "id_359  ([tensor(0.8405), tensor(0.9898), tensor(1.)],...  \n",
      "Epoch 015: | Loss: 0.11056 | Acc: 95.694\n",
      "        Accuracy        F1  Precision    Recall  \\\n",
      "id_360  0.928017  0.955583   0.992565  0.921257   \n",
      "\n",
      "                                   Precision-Recall Curve  \n",
      "id_360  ([tensor(0.8405), tensor(0.9926), tensor(1.)],...  \n",
      "Epoch 015: | Loss: 0.11956 | Acc: 95.265\n",
      "        Accuracy        F1  Precision    Recall  \\\n",
      "id_361  0.907302  0.942217   0.989558  0.899199   \n",
      "\n",
      "                                   Precision-Recall Curve  \n",
      "id_361  ([tensor(0.8405), tensor(0.9896), tensor(1.)],...  \n",
      "Epoch 015: | Loss: 0.10987 | Acc: 95.735\n",
      "        Accuracy        F1  Precision    Recall  \\\n",
      "id_362  0.932263  0.958518   0.987583  0.931115   \n",
      "\n",
      "                                   Precision-Recall Curve  \n",
      "id_362  ([tensor(0.8405), tensor(0.9876), tensor(1.)],...  \n",
      "Epoch 015: | Loss: 0.12196 | Acc: 95.245\n",
      "        Accuracy        F1  Precision    Recall  \\\n",
      "id_363  0.935163  0.960435   0.985857  0.936291   \n",
      "\n",
      "                                   Precision-Recall Curve  \n",
      "id_363  ([tensor(0.8405), tensor(0.9859), tensor(1.)],...  \n",
      "Epoch 015: | Loss: 0.11187 | Acc: 95.510\n",
      "        Accuracy        F1  Precision    Recall  \\\n",
      "id_364  0.898187  0.936347   0.986627  0.890943   \n",
      "\n",
      "                                   Precision-Recall Curve  \n",
      "id_364  ([tensor(0.8405), tensor(0.9866), tensor(1.)],...  \n",
      "Epoch 015: | Loss: 0.12029 | Acc: 95.265\n",
      "        Accuracy       F1  Precision    Recall  \\\n",
      "id_365  0.927084  0.95505    0.99099  0.921627   \n",
      "\n",
      "                                   Precision-Recall Curve  \n",
      "id_365  ([tensor(0.8405), tensor(0.9910), tensor(1.)],...  \n",
      "Epoch 015: | Loss: 0.11244 | Acc: 95.612\n",
      "        Accuracy        F1  Precision    Recall  \\\n",
      "id_366  0.920559  0.951012   0.987139  0.917437   \n",
      "\n",
      "                                   Precision-Recall Curve  \n",
      "id_366  ([tensor(0.8405), tensor(0.9871), tensor(1.)],...  \n",
      "Epoch 015: | Loss: 0.12725 | Acc: 95.143\n",
      "        Accuracy        F1  Precision    Recall  \\\n",
      "id_367  0.914863  0.947179    0.98966  0.908195   \n",
      "\n",
      "                                   Precision-Recall Curve  \n",
      "id_367  ([tensor(0.8405), tensor(0.9897), tensor(1.)],...  \n",
      "Epoch 015: | Loss: 0.11207 | Acc: 95.633\n",
      "        Accuracy       F1  Precision    Recall  \\\n",
      "id_368  0.908441  0.94318   0.985758  0.904128   \n",
      "\n",
      "                                   Precision-Recall Curve  \n",
      "id_368  ([tensor(0.8405), tensor(0.9858), tensor(1.)],...  \n",
      "Epoch 015: | Loss: 0.11206 | Acc: 95.510\n",
      "        Accuracy        F1  Precision    Recall  \\\n",
      "id_369  0.931331  0.957811   0.990263  0.927418   \n",
      "\n",
      "                                   Precision-Recall Curve  \n",
      "id_369  ([tensor(0.8405), tensor(0.9903), tensor(1.)],...  \n",
      "Epoch 015: | Loss: 0.10677 | Acc: 95.755\n",
      "        Accuracy        F1  Precision    Recall  \\\n",
      "id_370  0.923149  0.952582    0.98938  0.918423   \n",
      "\n",
      "                                   Precision-Recall Curve  \n",
      "id_370  ([tensor(0.8405), tensor(0.9894), tensor(1.)],...  \n",
      "Epoch 015: | Loss: 0.11854 | Acc: 95.306\n",
      "        Accuracy        F1  Precision  Recall  \\\n",
      "id_371  0.925427  0.954245   0.985173  0.9252   \n",
      "\n",
      "                                   Precision-Recall Curve  \n",
      "id_371  ([tensor(0.8405), tensor(0.9852), tensor(1.)],...  \n",
      "Epoch 015: | Loss: 0.12438 | Acc: 95.286\n",
      "        Accuracy        F1  Precision   Recall  \\\n",
      "id_372  0.937545  0.961891   0.987286  0.93777   \n",
      "\n",
      "                                   Precision-Recall Curve  \n",
      "id_372  ([tensor(0.8405), tensor(0.9873), tensor(1.)],...  \n"
=======
=======
=======
=======
   "execution_count": 62,
   "id": "7427b23f-5784-4d73-97c7-7234d561b855",
   "metadata": {},
   "outputs": [],
   "source": [
    "# make simple pytorch neural network\n",
    "import torch\n",
>>>>>>> f1c5f298babad4687b3d045ca88352e1eccfc0ed
    "import torch\n",
    "import torch.nn as nn\n",
    "from sklearn.model_selection import train_test_split\n",
    "from torch.optim import Adam\n",
    "#import resample\n",
    "from sklearn.utils import resample\n",
    "from torch.utils.data import Dataset, DataLoader\n",
    "from sklearn.metrics import confusion_matrix, classification_report\n",
    "from tqdm import tqdm\n",
    "import numpy as np"
   ]
  },
  {
   "cell_type": "code",
   "execution_count": 63,
   "id": "761adeda-12aa-4ac2-9901-3e625c7323da",
   "metadata": {},
   "outputs": [],
   "source": [
    "#load data\n",
    "data = np.load('data/processed/concatenated_features.npy')\n",
    "\n",
    "SEED = 1706\n",
    "LEARNING_RATE = 0.001\n",
    "EPOCHS = 50\n",
    "BATCH_SIZE = 64"
   ]
  },
  {
   "cell_type": "code",
   "execution_count": 64,
   "id": "1c1f47c1-8dcd-44be-8ee6-ff0f74a14dcf",
   "metadata": {},
   "outputs": [
    {
     "data": {
      "text/plain": [
       "5.247169200905856"
      ]
     },
     "execution_count": 64,
     "metadata": {},
     "output_type": "execute_result"
    }
   ],
   "source": [
    "x_majority.shape[0] / x_minority.shape[0]"
   ]
  },
  {
   "cell_type": "code",
   "execution_count": 161,
   "id": "06096dd1-4ae3-4696-8145-8f223326f123",
   "metadata": {},
   "outputs": [],
   "source": [
    "# split into training and test set\n",
    "x_train, x_test, y_train, y_test = train_test_split(data[:, :-1], data[:, -1], test_size=0.2, random_state=SEED, shuffle=True)\n",
    "\n",
    "# upsample minority class\n",
    "x_minority = x_train[y_train == 0]\n",
    "y_minority = y_train[y_train == 0]\n",
    "x_majority = x_train[y_train == 1]\n",
    "y_majority = y_train[y_train == 1]\n",
    "\n",
    "x_majority_subsample, y_majority_subsample = resample(x_majority, y_majority, replace=False, n_samples=x_minority.shape[0], random_state=SEED)\n",
    "\n",
    "x_train_balanced = np.concatenate((x_majority_subsample, x_minority))\n",
    "y_train_balanced = np.concatenate((y_majority_subsample, y_minority))\n"
   ]
  },
  {
   "cell_type": "code",
   "execution_count": 162,
   "id": "e27a40a6-8ad5-4684-86f8-ff8b03206bcb",
   "metadata": {},
   "outputs": [
    {
     "name": "stdout",
     "output_type": "stream",
     "text": [
      "1.10.1+cu113\n",
      "Using cuda device\n",
      "Fri Dec 24 00:18:13 2021       \n",
      "+-----------------------------------------------------------------------------+\n",
      "| NVIDIA-SMI 470.82.01    Driver Version: 470.82.01    CUDA Version: 11.4     |\n",
      "|-------------------------------+----------------------+----------------------+\n",
      "| GPU  Name        Persistence-M| Bus-Id        Disp.A | Volatile Uncorr. ECC |\n",
      "| Fan  Temp  Perf  Pwr:Usage/Cap|         Memory-Usage | GPU-Util  Compute M. |\n",
      "|                               |                      |               MIG M. |\n",
      "|===============================+======================+======================|\n",
      "|   0  NVIDIA A100-SXM...  On   | 00000000:07:00.0 Off |                    0 |\n",
      "| N/A   21C    P0    55W / 400W |   6368MiB / 40536MiB |      0%      Default |\n",
      "|                               |                      |             Disabled |\n",
      "+-------------------------------+----------------------+----------------------+\n",
      "|   1  NVIDIA A100-SXM...  On   | 00000000:0F:00.0 Off |                    0 |\n",
      "| N/A   20C    P0    50W / 400W |      3MiB / 40536MiB |      0%      Default |\n",
      "|                               |                      |             Disabled |\n",
      "+-------------------------------+----------------------+----------------------+\n",
      "|   2  NVIDIA A100-SXM...  On   | 00000000:47:00.0 Off |                    0 |\n",
      "| N/A   20C    P0    49W / 400W |      3MiB / 40536MiB |      0%      Default |\n",
      "|                               |                      |             Disabled |\n",
      "+-------------------------------+----------------------+----------------------+\n",
      "|   3  NVIDIA A100-SXM...  On   | 00000000:4E:00.0 Off |                    0 |\n",
      "| N/A   21C    P0    51W / 400W |      3MiB / 40536MiB |      0%      Default |\n",
      "|                               |                      |             Disabled |\n",
      "+-------------------------------+----------------------+----------------------+\n",
      "|   4  NVIDIA A100-SXM...  On   | 00000000:87:00.0 Off |                    0 |\n",
      "| N/A   25C    P0    51W / 400W |      3MiB / 40536MiB |      0%      Default |\n",
      "|                               |                      |             Disabled |\n",
      "+-------------------------------+----------------------+----------------------+\n",
      "|   5  NVIDIA A100-SXM...  On   | 00000000:90:00.0 Off |                    0 |\n",
      "| N/A   23C    P0    51W / 400W |      3MiB / 40536MiB |      0%      Default |\n",
      "|                               |                      |             Disabled |\n",
      "+-------------------------------+----------------------+----------------------+\n",
      "|   6  NVIDIA A100-SXM...  On   | 00000000:B7:00.0 Off |                    0 |\n",
      "| N/A   24C    P0    49W / 400W |      3MiB / 40536MiB |      0%      Default |\n",
      "|                               |                      |             Disabled |\n",
      "+-------------------------------+----------------------+----------------------+\n",
      "|   7  NVIDIA A100-SXM...  On   | 00000000:BD:00.0 Off |                    0 |\n",
      "| N/A   24C    P0    49W / 400W |      3MiB / 40536MiB |      0%      Default |\n",
      "|                               |                      |             Disabled |\n",
      "+-------------------------------+----------------------+----------------------+\n",
      "                                                                               \n",
      "+-----------------------------------------------------------------------------+\n",
      "| Processes:                                                                  |\n",
      "|  GPU   GI   CI        PID   Type   Process name                  GPU Memory |\n",
      "|        ID   ID                                                   Usage      |\n",
      "|=============================================================================|\n",
      "|    0   N/A  N/A    241726      C   ...vs/pedestrians/bin/python     6365MiB |\n",
      "+-----------------------------------------------------------------------------+\n"
     ]
    }
   ],
   "source": [
    "print(torch.__version__)\n",
    "\n",
    "\n",
    "device = 'cuda' if torch.cuda.is_available() else 'cpu'\n",
    "print(f'Using {device} device')\n",
    "\n",
    "\n",
    "if torch.cuda.is_available():\n",
    "    !nvidia-smi"
   ]
  },
  {
   "cell_type": "code",
   "execution_count": 163,
   "id": "358a3bb3-fd59-4145-8514-2e9ffa89bf33",
   "metadata": {},
   "outputs": [],
   "source": [
    "class TrainData(Dataset):\n",
    "    \n",
    "    def __init__(self, X_data, y_data):\n",
    "        self.X_data = X_data\n",
    "        self.y_data = y_data\n",
    "        \n",
    "    def __getitem__(self, index):\n",
    "        return self.X_data[index], self.y_data[index]\n",
    "        \n",
    "    def __len__ (self):\n",
    "        return len(self.X_data)\n",
    "\n",
    "\n",
    "train_data = TrainData(torch.FloatTensor(x_train_balanced), \n",
    "                       torch.FloatTensor(y_train_balanced))\n",
    "## test data    \n",
    "class TestData(Dataset):\n",
    "    \n",
    "    def __init__(self, X_data):\n",
<<<<<<< HEAD
>>>>>>> f1c5f298babad4687b3d045ca88352e1eccfc0ed
=======
>>>>>>> f1c5f298babad4687b3d045ca88352e1eccfc0ed
    "        self.X_data = X_data\n",
    "        \n",
    "    def __getitem__(self, index):\n",
    "        return self.X_data[index]\n",
    "        \n",
    "    def __len__ (self):\n",
    "        return len(self.X_data)\n",
    "    \n",
    "\n",
    "test_data = TestData(torch.FloatTensor(x_test))\n",
    "\n",
    "train_dataloader = DataLoader(train_data, batch_size=BATCH_SIZE, shuffle=True)\n",
    "test_dataloader = DataLoader(test_data, batch_size=1)"
   ]
  },
  {
   "cell_type": "code",
   "execution_count": 164,
   "id": "8a39b3c1-7a33-470a-926b-fc939a34603d",
   "metadata": {},
   "outputs": [],
   "source": [
    "class NeuralNetwork(nn.Module):\n",
    "    def __init__(self):\n",
    "        super(NeuralNetwork, self).__init__()\n",
    "        \n",
    "        self.linear_1 = nn.Linear(5595, 10024)\n",
    "        self.linear_2 = nn.Linear(10024, 1024)\n",
    "        self.linear_3 = nn.Linear(1024, 256)\n",
    "        self.output_layer = nn.Linear(256, 1)\n",
    "        \n",
    "        self.relu = nn.ReLU()\n",
    "        self.dropout = nn.Dropout(p=0.3)\n",
    "        self.batch_norm1 = nn.BatchNorm1d(10024)\n",
    "        self.batch_norm2 = nn.BatchNorm1d(1024)\n",
    "        self.batch_norm3 = nn.BatchNorm1d(256)\n",
    "\n",
    "    def forward(self, x):\n",
    "        x = self.linear_1(x)\n",
    "        x = self.relu(x)\n",
    "        x = self.batch_norm1(x)\n",
    "        x = self.dropout(x)\n",
    "        x = self.linear_2(x)\n",
    "        x = self.relu(x)\n",
    "        x = self.batch_norm2(x)\n",
    "        x = self.dropout(x)\n",
    "        x = self.linear_3(x)\n",
    "        x = self.relu(x)\n",
    "        x = self.batch_norm3(x)\n",
    "        x = self.dropout(x)\n",
    "        x = self.output_layer(x)\n",
    "        \n",
    "        return x\n",
    "    "
   ]
  },
  {
   "cell_type": "code",
   "execution_count": 165,
   "id": "67a575cf-9101-4df8-899f-3b95e4ccc298",
   "metadata": {},
   "outputs": [
    {
     "name": "stdout",
     "output_type": "stream",
     "text": [
      "NeuralNetwork(\n",
      "  (linear_1): Linear(in_features=5595, out_features=10024, bias=True)\n",
      "  (linear_2): Linear(in_features=10024, out_features=1024, bias=True)\n",
      "  (linear_3): Linear(in_features=1024, out_features=256, bias=True)\n",
      "  (output_layer): Linear(in_features=256, out_features=1, bias=True)\n",
      "  (relu): ReLU()\n",
      "  (dropout): Dropout(p=0.3, inplace=False)\n",
      "  (batch_norm1): BatchNorm1d(10024, eps=1e-05, momentum=0.1, affine=True, track_running_stats=True)\n",
      "  (batch_norm2): BatchNorm1d(1024, eps=1e-05, momentum=0.1, affine=True, track_running_stats=True)\n",
      "  (batch_norm3): BatchNorm1d(256, eps=1e-05, momentum=0.1, affine=True, track_running_stats=True)\n",
      ")\n"
     ]
    }
   ],
   "source": [
    "model = NeuralNetwork()\n",
    "model.to(device)\n",
    "print(model)"
   ]
  },
  {
   "cell_type": "code",
   "execution_count": 166,
   "id": "2b87112f-166d-407e-8107-d10a1f3b201a",
   "metadata": {},
   "outputs": [],
   "source": [
    "criterion = nn.BCEWithLogitsLoss()\n",
    "optimizer = Adam(model.parameters(), lr=LEARNING_RATE)"
   ]
  },
  {
   "cell_type": "code",
   "execution_count": 167,
   "id": "cfbdf475-87a9-4ce6-aac8-b023ffe494a2",
   "metadata": {},
   "outputs": [],
   "source": [
    "def binary_acc(y_pred, y_test):\n",
    "    y_pred_tag = torch.round(torch.sigmoid(y_pred))\n",
    "\n",
    "    correct_results_sum = (y_pred_tag == y_test).sum().float()\n",
    "    acc = correct_results_sum/y_test.shape[0]\n",
    "    acc = torch.round(acc * 100)\n",
    "    \n",
    "    return acc"
   ]
  },
  {
   "cell_type": "code",
   "execution_count": 108,
   "id": "ccd63a55-1b53-43e1-8ed2-8708038872cb",
   "metadata": {},
   "outputs": [
    {
     "name": "stderr",
     "output_type": "stream",
     "text": [
      "100%|██████████| 194/194 [00:01<00:00, 133.15it/s]\n"
     ]
    },
    {
     "name": "stdout",
     "output_type": "stream",
     "text": [
      "Epoch 001: | Loss: 0.44791 | Acc: 79.263\n"
     ]
    },
    {
     "name": "stderr",
     "output_type": "stream",
     "text": [
      "100%|██████████| 194/194 [00:01<00:00, 132.68it/s]\n"
     ]
    },
    {
     "name": "stdout",
     "output_type": "stream",
     "text": [
      "Epoch 002: | Loss: 0.36266 | Acc: 83.835\n"
     ]
    },
    {
     "name": "stderr",
     "output_type": "stream",
     "text": [
      "100%|██████████| 194/194 [00:01<00:00, 123.84it/s]\n"
     ]
    },
    {
     "name": "stdout",
     "output_type": "stream",
     "text": [
      "Epoch 003: | Loss: 0.31784 | Acc: 86.227\n"
     ]
    },
    {
     "name": "stderr",
     "output_type": "stream",
     "text": [
      "100%|██████████| 194/194 [00:01<00:00, 134.07it/s]\n"
     ]
    },
    {
     "name": "stdout",
     "output_type": "stream",
     "text": [
<<<<<<< HEAD
<<<<<<< HEAD
>>>>>>> f1c5f298babad4687b3d045ca88352e1eccfc0ed
=======
>>>>>>> f1c5f298babad4687b3d045ca88352e1eccfc0ed
=======
>>>>>>> f1c5f298babad4687b3d045ca88352e1eccfc0ed
      "Epoch 004: | Loss: 0.27637 | Acc: 88.387\n"
     ]
    },
    {
     "name": "stderr",
     "output_type": "stream",
     "text": [
      "100%|██████████| 194/194 [00:01<00:00, 133.57it/s]\n"
     ]
    },
    {
     "name": "stdout",
     "output_type": "stream",
     "text": [
      "Epoch 005: | Loss: 0.24337 | Acc: 90.021\n"
     ]
    },
    {
     "name": "stderr",
     "output_type": "stream",
     "text": [
      "100%|██████████| 194/194 [00:01<00:00, 131.56it/s]\n"
     ]
    },
    {
     "name": "stdout",
     "output_type": "stream",
     "text": [
      "Epoch 006: | Loss: 0.22148 | Acc: 91.077\n"
     ]
    },
    {
     "name": "stderr",
     "output_type": "stream",
     "text": [
      "100%|██████████| 194/194 [00:01<00:00, 121.12it/s]\n"
     ]
    },
    {
     "name": "stdout",
     "output_type": "stream",
     "text": [
      "Epoch 007: | Loss: 0.19399 | Acc: 92.289\n"
     ]
    },
    {
     "name": "stderr",
     "output_type": "stream",
     "text": [
      "100%|██████████| 194/194 [00:01<00:00, 131.74it/s]\n"
     ]
    },
    {
     "name": "stdout",
     "output_type": "stream",
     "text": [
      "Epoch 008: | Loss: 0.16809 | Acc: 93.330\n"
     ]
    },
    {
     "name": "stderr",
     "output_type": "stream",
     "text": [
      "100%|██████████| 194/194 [00:01<00:00, 135.00it/s]\n"
     ]
    },
    {
     "name": "stdout",
     "output_type": "stream",
     "text": [
      "Epoch 009: | Loss: 0.15665 | Acc: 93.660\n"
     ]
    },
    {
     "name": "stderr",
     "output_type": "stream",
     "text": [
      "100%|██████████| 194/194 [00:01<00:00, 135.14it/s]\n"
     ]
    },
    {
     "name": "stdout",
     "output_type": "stream",
     "text": [
      "Epoch 010: | Loss: 0.15975 | Acc: 93.742\n"
     ]
    },
    {
     "name": "stderr",
     "output_type": "stream",
     "text": [
      "100%|██████████| 194/194 [00:01<00:00, 135.18it/s]\n"
     ]
    },
    {
     "name": "stdout",
     "output_type": "stream",
     "text": [
      "Epoch 011: | Loss: 0.15154 | Acc: 93.876\n"
     ]
    },
    {
     "name": "stderr",
     "output_type": "stream",
     "text": [
      "100%|██████████| 194/194 [00:01<00:00, 135.17it/s]\n"
     ]
    },
    {
     "name": "stdout",
     "output_type": "stream",
     "text": [
      "Epoch 012: | Loss: 0.14091 | Acc: 94.572\n"
     ]
    },
    {
     "name": "stderr",
     "output_type": "stream",
     "text": [
      "100%|██████████| 194/194 [00:01<00:00, 135.01it/s]\n"
     ]
    },
    {
     "name": "stdout",
     "output_type": "stream",
     "text": [
      "Epoch 013: | Loss: 0.13768 | Acc: 94.546\n"
     ]
    },
    {
     "name": "stderr",
     "output_type": "stream",
     "text": [
      "100%|██████████| 194/194 [00:01<00:00, 135.07it/s]\n"
     ]
    },
    {
     "name": "stdout",
     "output_type": "stream",
     "text": [
      "Epoch 014: | Loss: 0.11424 | Acc: 95.655\n"
     ]
    },
    {
     "name": "stderr",
     "output_type": "stream",
     "text": [
      "100%|██████████| 194/194 [00:01<00:00, 135.21it/s]\n"
     ]
    },
    {
     "name": "stdout",
     "output_type": "stream",
     "text": [
      "Epoch 015: | Loss: 0.12145 | Acc: 95.222\n"
     ]
    },
    {
     "name": "stderr",
     "output_type": "stream",
     "text": [
      "100%|██████████| 194/194 [00:01<00:00, 135.06it/s]\n"
     ]
    },
    {
     "name": "stdout",
     "output_type": "stream",
     "text": [
      "Epoch 016: | Loss: 0.12131 | Acc: 95.376\n"
     ]
    },
    {
     "name": "stderr",
     "output_type": "stream",
     "text": [
      "100%|██████████| 194/194 [00:01<00:00, 134.98it/s]\n"
     ]
    },
    {
     "name": "stdout",
     "output_type": "stream",
     "text": [
      "Epoch 017: | Loss: 0.10053 | Acc: 95.918\n"
     ]
    },
    {
     "name": "stderr",
     "output_type": "stream",
     "text": [
      "100%|██████████| 194/194 [00:01<00:00, 134.97it/s]\n"
     ]
    },
    {
     "name": "stdout",
     "output_type": "stream",
     "text": [
      "Epoch 018: | Loss: 0.09483 | Acc: 96.129\n"
     ]
    },
    {
     "name": "stderr",
     "output_type": "stream",
     "text": [
      "100%|██████████| 194/194 [00:01<00:00, 134.97it/s]\n"
     ]
    },
    {
     "name": "stdout",
     "output_type": "stream",
     "text": [
      "Epoch 019: | Loss: 0.09055 | Acc: 96.680\n"
     ]
    },
    {
     "name": "stderr",
     "output_type": "stream",
     "text": [
      "100%|██████████| 194/194 [00:01<00:00, 135.09it/s]\n"
     ]
    },
    {
     "name": "stdout",
     "output_type": "stream",
     "text": [
      "Epoch 020: | Loss: 0.09747 | Acc: 96.371\n"
     ]
    },
    {
     "name": "stderr",
     "output_type": "stream",
     "text": [
      "100%|██████████| 194/194 [00:01<00:00, 134.85it/s]\n"
     ]
    },
    {
     "name": "stdout",
     "output_type": "stream",
     "text": [
      "Epoch 021: | Loss: 0.07763 | Acc: 96.948\n"
     ]
    },
    {
     "name": "stderr",
     "output_type": "stream",
     "text": [
      "100%|██████████| 194/194 [00:01<00:00, 135.04it/s]\n"
     ]
    },
    {
     "name": "stdout",
     "output_type": "stream",
     "text": [
      "Epoch 022: | Loss: 0.08448 | Acc: 96.675\n"
     ]
    },
    {
     "name": "stderr",
     "output_type": "stream",
     "text": [
      "100%|██████████| 194/194 [00:01<00:00, 135.21it/s]\n"
     ]
    },
    {
     "name": "stdout",
     "output_type": "stream",
     "text": [
      "Epoch 023: | Loss: 0.10712 | Acc: 96.139\n"
     ]
    },
    {
     "name": "stderr",
     "output_type": "stream",
     "text": [
      "100%|██████████| 194/194 [00:01<00:00, 135.06it/s]\n"
     ]
    },
    {
     "name": "stdout",
     "output_type": "stream",
     "text": [
      "Epoch 024: | Loss: 0.09756 | Acc: 96.258\n"
     ]
    },
    {
     "name": "stderr",
     "output_type": "stream",
     "text": [
      "100%|██████████| 194/194 [00:01<00:00, 134.83it/s]\n"
     ]
    },
    {
     "name": "stdout",
     "output_type": "stream",
     "text": [
      "Epoch 025: | Loss: 0.10796 | Acc: 95.742\n"
     ]
    },
    {
     "name": "stderr",
     "output_type": "stream",
     "text": [
      "100%|██████████| 194/194 [00:01<00:00, 124.22it/s]\n"
     ]
    },
    {
     "name": "stdout",
     "output_type": "stream",
     "text": [
      "Epoch 026: | Loss: 0.09286 | Acc: 96.546\n"
     ]
    },
    {
     "name": "stderr",
     "output_type": "stream",
     "text": [
      "100%|██████████| 194/194 [00:01<00:00, 134.76it/s]\n"
     ]
    },
    {
     "name": "stdout",
     "output_type": "stream",
     "text": [
      "Epoch 027: | Loss: 0.08625 | Acc: 96.531\n"
     ]
    },
    {
     "name": "stderr",
     "output_type": "stream",
     "text": [
      "100%|██████████| 194/194 [00:01<00:00, 134.99it/s]\n"
     ]
    },
    {
     "name": "stdout",
     "output_type": "stream",
     "text": [
      "Epoch 028: | Loss: 0.08550 | Acc: 96.809\n"
     ]
    },
    {
     "name": "stderr",
     "output_type": "stream",
     "text": [
      "100%|██████████| 194/194 [00:01<00:00, 134.82it/s]\n"
     ]
    },
    {
     "name": "stdout",
     "output_type": "stream",
     "text": [
      "Epoch 029: | Loss: 0.07762 | Acc: 96.979\n"
     ]
    },
    {
     "name": "stderr",
     "output_type": "stream",
     "text": [
      "100%|██████████| 194/194 [00:01<00:00, 135.09it/s]\n"
     ]
    },
    {
     "name": "stdout",
     "output_type": "stream",
     "text": [
      "Epoch 030: | Loss: 0.07076 | Acc: 97.186\n"
     ]
    },
    {
     "name": "stderr",
     "output_type": "stream",
     "text": [
      "100%|██████████| 194/194 [00:01<00:00, 132.18it/s]\n"
     ]
    },
    {
     "name": "stdout",
     "output_type": "stream",
     "text": [
      "Epoch 031: | Loss: 0.07085 | Acc: 97.155\n"
     ]
    },
    {
     "name": "stderr",
     "output_type": "stream",
     "text": [
      "100%|██████████| 194/194 [00:01<00:00, 133.62it/s]\n"
     ]
    },
    {
     "name": "stdout",
     "output_type": "stream",
     "text": [
      "Epoch 032: | Loss: 0.06104 | Acc: 97.546\n"
     ]
    },
    {
     "name": "stderr",
     "output_type": "stream",
     "text": [
      "100%|██████████| 194/194 [00:01<00:00, 134.60it/s]\n"
     ]
    },
    {
     "name": "stdout",
     "output_type": "stream",
     "text": [
      "Epoch 033: | Loss: 0.07325 | Acc: 97.284\n"
     ]
    },
    {
     "name": "stderr",
     "output_type": "stream",
     "text": [
      "100%|██████████| 194/194 [00:01<00:00, 134.58it/s]\n"
     ]
    },
    {
     "name": "stdout",
     "output_type": "stream",
     "text": [
      "Epoch 034: | Loss: 0.07052 | Acc: 97.170\n"
     ]
    },
    {
     "name": "stderr",
     "output_type": "stream",
     "text": [
      "100%|██████████| 194/194 [00:01<00:00, 134.91it/s]\n"
     ]
    },
    {
     "name": "stdout",
     "output_type": "stream",
     "text": [
      "Epoch 035: | Loss: 0.06536 | Acc: 97.619\n"
     ]
    },
    {
     "name": "stderr",
     "output_type": "stream",
     "text": [
      "100%|██████████| 194/194 [00:01<00:00, 134.83it/s]\n"
     ]
    },
    {
     "name": "stdout",
     "output_type": "stream",
     "text": [
      "Epoch 036: | Loss: 0.07305 | Acc: 97.191\n"
     ]
    },
    {
     "name": "stderr",
     "output_type": "stream",
     "text": [
      "100%|██████████| 194/194 [00:01<00:00, 134.74it/s]\n"
     ]
    },
    {
     "name": "stdout",
     "output_type": "stream",
     "text": [
      "Epoch 037: | Loss: 0.06545 | Acc: 97.526\n"
     ]
    },
    {
     "name": "stderr",
     "output_type": "stream",
     "text": [
      "100%|██████████| 194/194 [00:01<00:00, 134.99it/s]\n"
     ]
    },
    {
     "name": "stdout",
     "output_type": "stream",
     "text": [
      "Epoch 038: | Loss: 0.05730 | Acc: 97.572\n"
     ]
    },
    {
     "name": "stderr",
     "output_type": "stream",
     "text": [
      "100%|██████████| 194/194 [00:01<00:00, 135.03it/s]\n"
     ]
    },
    {
     "name": "stdout",
     "output_type": "stream",
     "text": [
      "Epoch 039: | Loss: 0.04980 | Acc: 98.062\n"
     ]
    },
    {
     "name": "stderr",
     "output_type": "stream",
     "text": [
      "100%|██████████| 194/194 [00:01<00:00, 134.89it/s]\n"
     ]
    },
    {
     "name": "stdout",
     "output_type": "stream",
     "text": [
      "Epoch 040: | Loss: 0.05709 | Acc: 97.768\n"
     ]
    },
    {
     "name": "stderr",
     "output_type": "stream",
     "text": [
      "100%|██████████| 194/194 [00:01<00:00, 135.05it/s]\n"
     ]
    },
    {
     "name": "stdout",
     "output_type": "stream",
     "text": [
      "Epoch 041: | Loss: 0.06108 | Acc: 97.732\n"
     ]
    },
    {
     "name": "stderr",
     "output_type": "stream",
     "text": [
      "100%|██████████| 194/194 [00:01<00:00, 135.03it/s]\n"
     ]
    },
    {
     "name": "stdout",
     "output_type": "stream",
     "text": [
      "Epoch 042: | Loss: 0.05918 | Acc: 97.552\n"
     ]
    },
    {
     "name": "stderr",
     "output_type": "stream",
     "text": [
      "100%|██████████| 194/194 [00:01<00:00, 134.97it/s]\n"
     ]
    },
    {
     "name": "stdout",
     "output_type": "stream",
     "text": [
      "Epoch 043: | Loss: 0.05933 | Acc: 97.722\n"
     ]
    },
    {
     "name": "stderr",
     "output_type": "stream",
     "text": [
      "100%|██████████| 194/194 [00:01<00:00, 134.08it/s]\n"
     ]
    },
    {
     "name": "stdout",
     "output_type": "stream",
     "text": [
      "Epoch 044: | Loss: 0.05615 | Acc: 97.887\n"
     ]
    },
    {
     "name": "stderr",
     "output_type": "stream",
     "text": [
      "100%|██████████| 194/194 [00:01<00:00, 133.26it/s]\n"
     ]
    },
    {
     "name": "stdout",
     "output_type": "stream",
     "text": [
      "Epoch 045: | Loss: 0.06482 | Acc: 97.639\n"
     ]
    },
    {
     "name": "stderr",
     "output_type": "stream",
     "text": [
      "100%|██████████| 194/194 [00:01<00:00, 132.75it/s]\n"
     ]
    },
    {
     "name": "stdout",
     "output_type": "stream",
     "text": [
      "Epoch 046: | Loss: 0.07202 | Acc: 97.216\n"
     ]
    },
    {
     "name": "stderr",
     "output_type": "stream",
     "text": [
      "100%|██████████| 194/194 [00:01<00:00, 134.36it/s]\n"
     ]
    },
    {
     "name": "stdout",
     "output_type": "stream",
     "text": [
      "Epoch 047: | Loss: 0.06662 | Acc: 97.526\n"
     ]
    },
    {
     "name": "stderr",
     "output_type": "stream",
     "text": [
      "100%|██████████| 194/194 [00:01<00:00, 134.78it/s]\n"
     ]
    },
    {
     "name": "stdout",
     "output_type": "stream",
     "text": [
      "Epoch 048: | Loss: 0.05712 | Acc: 97.753\n"
     ]
    },
    {
     "name": "stderr",
     "output_type": "stream",
     "text": [
      "100%|██████████| 194/194 [00:01<00:00, 134.88it/s]\n"
     ]
    },
    {
     "name": "stdout",
     "output_type": "stream",
     "text": [
      "Epoch 049: | Loss: 0.05289 | Acc: 97.845\n"
     ]
    },
    {
     "name": "stderr",
     "output_type": "stream",
     "text": [
      "100%|██████████| 194/194 [00:01<00:00, 124.46it/s]"
     ]
    },
    {
     "name": "stdout",
     "output_type": "stream",
     "text": [
      "Epoch 050: | Loss: 0.05193 | Acc: 98.041\n"
     ]
    },
    {
     "name": "stderr",
     "output_type": "stream",
     "text": [
      "\n"
     ]
    }
   ],
   "source": [
    "model.train()\n",
    "for e in range(1, EPOCHS+1):\n",
    "    epoch_loss = 0\n",
    "    epoch_acc = 0\n",
    "    for X_batch, y_batch in tqdm(train_dataloader):\n",
    "        X_batch, y_batch = X_batch.to(device), y_batch.to(device)\n",
    "        optimizer.zero_grad()\n",
    "        \n",
    "        y_pred = model(X_batch)\n",
    "        \n",
    "        loss = criterion(y_pred, y_batch.unsqueeze(1))\n",
    "        acc = binary_acc(y_pred, y_batch.unsqueeze(1))\n",
    "        \n",
    "        loss.backward()\n",
    "        optimizer.step()\n",
    "        \n",
    "        epoch_loss += loss.item()\n",
    "        epoch_acc += acc.item()\n",
    "        \n",
    "\n",
    "    print(f'Epoch {e+0:03}: | Loss: {epoch_loss/len(train_dataloader):.5f} | Acc: {epoch_acc/len(train_dataloader):.3f}')"
   ]
  },
  {
   "cell_type": "code",
   "execution_count": 109,
   "id": "b32b7921-32ff-4961-ab15-525d848f36b8",
   "metadata": {},
   "outputs": [],
   "source": [
    "y_pred_list = []\n",
    "model.eval()\n",
    "with torch.no_grad():\n",
    "    for X_batch in test_dataloader:\n",
    "        X_batch = X_batch.to(device)\n",
    "        y_test_pred = model(X_batch)\n",
    "        y_test_pred = torch.sigmoid(y_test_pred)\n",
    "        y_pred_tag = torch.round(y_test_pred)\n",
    "        y_pred_list.append(y_pred_tag.cpu().numpy())\n",
    "\n",
    "y_pred_list = [a.squeeze().tolist() for a in y_pred_list]"
   ]
  },
  {
   "cell_type": "code",
   "execution_count": 110,
   "id": "89853d51-1e6f-478b-a13b-d78e2fccd5ea",
   "metadata": {},
   "outputs": [
    {
     "data": {
      "text/plain": [
       "array([[1506,   34],\n",
       "       [ 503, 7612]])"
      ]
     },
     "execution_count": 110,
     "metadata": {},
     "output_type": "execute_result"
    }
   ],
   "source": [
    "confusion_matrix(y_test, y_pred_list)"
   ]
  },
  {
   "cell_type": "code",
   "execution_count": 111,
   "id": "6f1e4a0e-d56c-450a-9b97-7db5741f2cd1",
   "metadata": {},
   "outputs": [
    {
     "name": "stdout",
     "output_type": "stream",
     "text": [
      "              precision    recall  f1-score   support\n",
      "\n",
      "         0.0       0.75      0.98      0.85      1540\n",
      "         1.0       1.00      0.94      0.97      8115\n",
      "\n",
      "    accuracy                           0.94      9655\n",
      "   macro avg       0.87      0.96      0.91      9655\n",
      "weighted avg       0.96      0.94      0.95      9655\n",
      "\n"
     ]
    }
   ],
   "source": [
    "print(classification_report(y_test, y_pred_list))"
   ]
  },
  {
   "cell_type": "markdown",
   "id": "3b4313ba-48cb-422e-b376-970a7e7e6995",
   "metadata": {},
   "source": [
    "## Shuffle a column at a time"
   ]
  },
  {
   "cell_type": "code",
   "execution_count": 173,
   "id": "564eed3b-3c72-4d9b-827c-45cac7de931e",
   "metadata": {},
   "outputs": [
    {
     "name": "stderr",
     "output_type": "stream",
     "text": [
      "  0%|          | 0/5595 [00:01<?, ?it/s]"
     ]
    },
    {
     "name": "stdout",
     "output_type": "stream",
     "text": [
      "Epoch 001: | Loss: 0.04220 | Acc: 98.418\n"
     ]
    },
    {
     "name": "stderr",
     "output_type": "stream",
     "text": [
      "  0%|          | 0/5595 [00:02<?, ?it/s]"
     ]
    },
    {
     "name": "stdout",
     "output_type": "stream",
     "text": [
      "Epoch 002: | Loss: 0.04663 | Acc: 98.088\n"
     ]
    },
    {
     "name": "stderr",
     "output_type": "stream",
     "text": [
      "  0%|          | 0/5595 [00:04<?, ?it/s]"
     ]
    },
    {
     "name": "stdout",
     "output_type": "stream",
     "text": [
      "Epoch 003: | Loss: 0.04527 | Acc: 98.273\n"
     ]
    },
    {
     "name": "stderr",
     "output_type": "stream",
     "text": [
      "  0%|          | 0/5595 [00:05<?, ?it/s]"
     ]
    },
    {
     "name": "stdout",
     "output_type": "stream",
     "text": [
      "Epoch 004: | Loss: 0.04440 | Acc: 98.284\n"
     ]
    },
    {
     "name": "stderr",
     "output_type": "stream",
     "text": [
      "  0%|          | 0/5595 [00:07<?, ?it/s]"
     ]
    },
    {
     "name": "stdout",
     "output_type": "stream",
     "text": [
      "Epoch 005: | Loss: 0.03983 | Acc: 98.521\n"
     ]
    },
    {
     "name": "stderr",
     "output_type": "stream",
     "text": [
      "  0%|          | 0/5595 [00:08<?, ?it/s]"
     ]
    },
    {
     "name": "stdout",
     "output_type": "stream",
     "text": [
      "Epoch 006: | Loss: 0.04616 | Acc: 98.211\n"
     ]
    },
    {
     "name": "stderr",
     "output_type": "stream",
     "text": [
      "  0%|          | 0/5595 [00:10<?, ?it/s]"
     ]
    },
    {
     "name": "stdout",
     "output_type": "stream",
     "text": [
      "Epoch 007: | Loss: 0.04965 | Acc: 98.082\n"
     ]
    },
    {
     "name": "stderr",
     "output_type": "stream",
     "text": [
      "  0%|          | 0/5595 [00:11<?, ?it/s]"
     ]
    },
    {
     "name": "stdout",
     "output_type": "stream",
     "text": [
      "Epoch 008: | Loss: 0.03645 | Acc: 98.546\n"
     ]
    },
    {
     "name": "stderr",
     "output_type": "stream",
     "text": [
      "  0%|          | 0/5595 [00:13<?, ?it/s]"
     ]
    },
    {
     "name": "stdout",
     "output_type": "stream",
     "text": [
      "Epoch 009: | Loss: 0.03414 | Acc: 98.624\n"
     ]
    },
    {
     "name": "stderr",
     "output_type": "stream",
     "text": [
      "  0%|          | 0/5595 [00:14<?, ?it/s]"
     ]
    },
    {
     "name": "stdout",
     "output_type": "stream",
     "text": [
      "Epoch 010: | Loss: 0.04203 | Acc: 98.191\n"
     ]
    },
    {
     "name": "stderr",
     "output_type": "stream",
     "text": [
      "  0%|          | 0/5595 [00:16<?, ?it/s]"
     ]
    },
    {
     "name": "stdout",
     "output_type": "stream",
     "text": [
      "Epoch 011: | Loss: 0.03945 | Acc: 98.495\n"
     ]
    },
    {
     "name": "stderr",
     "output_type": "stream",
     "text": [
      "  0%|          | 0/5595 [00:17<?, ?it/s]"
     ]
    },
    {
     "name": "stdout",
     "output_type": "stream",
     "text": [
      "Epoch 012: | Loss: 0.03833 | Acc: 98.443\n"
     ]
    },
    {
     "name": "stderr",
     "output_type": "stream",
     "text": [
      "  0%|          | 0/5595 [00:19<?, ?it/s]"
     ]
    },
    {
     "name": "stdout",
     "output_type": "stream",
     "text": [
      "Epoch 013: | Loss: 0.04276 | Acc: 98.278\n"
     ]
    },
    {
     "name": "stderr",
     "output_type": "stream",
     "text": [
      "  0%|          | 0/5595 [00:20<?, ?it/s]"
     ]
    },
    {
     "name": "stdout",
     "output_type": "stream",
     "text": [
      "Epoch 014: | Loss: 0.03655 | Acc: 98.495\n"
     ]
    },
    {
     "name": "stderr",
     "output_type": "stream",
     "text": [
      "  0%|          | 0/5595 [00:22<?, ?it/s]"
     ]
    },
    {
     "name": "stdout",
     "output_type": "stream",
     "text": [
      "Epoch 015: | Loss: 0.03504 | Acc: 98.624\n"
     ]
    },
    {
     "name": "stderr",
     "output_type": "stream",
     "text": [
      "  0%|          | 0/5595 [00:23<?, ?it/s]"
     ]
    },
    {
     "name": "stdout",
     "output_type": "stream",
     "text": [
      "Epoch 016: | Loss: 0.03584 | Acc: 98.629\n"
     ]
    },
    {
     "name": "stderr",
     "output_type": "stream",
     "text": [
      "  0%|          | 0/5595 [00:25<?, ?it/s]"
     ]
    },
    {
     "name": "stdout",
     "output_type": "stream",
     "text": [
      "Epoch 017: | Loss: 0.03159 | Acc: 98.706\n"
     ]
    },
    {
     "name": "stderr",
     "output_type": "stream",
     "text": [
      "  0%|          | 0/5595 [00:26<?, ?it/s]"
     ]
    },
    {
     "name": "stdout",
     "output_type": "stream",
     "text": [
      "Epoch 018: | Loss: 0.03197 | Acc: 98.773\n"
     ]
    },
    {
     "name": "stderr",
     "output_type": "stream",
     "text": [
      "  0%|          | 0/5595 [00:28<?, ?it/s]"
     ]
    },
    {
     "name": "stdout",
     "output_type": "stream",
     "text": [
      "Epoch 019: | Loss: 0.03877 | Acc: 98.598\n"
     ]
    },
    {
     "name": "stderr",
     "output_type": "stream",
     "text": [
      "  0%|          | 0/5595 [00:29<?, ?it/s]"
     ]
    },
    {
     "name": "stdout",
     "output_type": "stream",
     "text": [
      "Epoch 020: | Loss: 0.03296 | Acc: 98.552\n"
     ]
    },
    {
     "name": "stderr",
     "output_type": "stream",
     "text": [
      "  0%|          | 0/5595 [00:31<?, ?it/s]"
     ]
    },
    {
     "name": "stdout",
     "output_type": "stream",
     "text": [
      "Epoch 021: | Loss: 0.03090 | Acc: 98.784\n"
     ]
    },
    {
     "name": "stderr",
     "output_type": "stream",
     "text": [
      "  0%|          | 0/5595 [00:32<?, ?it/s]"
     ]
    },
    {
     "name": "stdout",
     "output_type": "stream",
     "text": [
      "Epoch 022: | Loss: 0.03805 | Acc: 98.531\n"
     ]
    },
    {
     "name": "stderr",
     "output_type": "stream",
     "text": [
      "  0%|          | 0/5595 [00:33<?, ?it/s]"
     ]
    },
    {
     "name": "stdout",
     "output_type": "stream",
     "text": [
      "Epoch 023: | Loss: 0.03266 | Acc: 98.742\n"
     ]
    },
    {
     "name": "stderr",
     "output_type": "stream",
     "text": [
      "  0%|          | 0/5595 [00:35<?, ?it/s]"
     ]
    },
    {
     "name": "stdout",
     "output_type": "stream",
     "text": [
      "Epoch 024: | Loss: 0.03496 | Acc: 98.521\n"
     ]
    },
    {
     "name": "stderr",
     "output_type": "stream",
     "text": [
      "  0%|          | 0/5595 [00:36<?, ?it/s]"
     ]
    },
    {
     "name": "stdout",
     "output_type": "stream",
     "text": [
      "Epoch 025: | Loss: 0.03581 | Acc: 98.716\n"
     ]
    },
    {
     "name": "stderr",
     "output_type": "stream",
     "text": [
      "  0%|          | 0/5595 [00:38<?, ?it/s]"
     ]
    },
    {
     "name": "stdout",
     "output_type": "stream",
     "text": [
      "Epoch 026: | Loss: 0.05318 | Acc: 97.943\n"
     ]
    },
    {
     "name": "stderr",
     "output_type": "stream",
     "text": [
      "  0%|          | 0/5595 [00:39<?, ?it/s]"
     ]
    },
    {
     "name": "stdout",
     "output_type": "stream",
     "text": [
      "Epoch 027: | Loss: 0.03810 | Acc: 98.479\n"
     ]
    },
    {
     "name": "stderr",
     "output_type": "stream",
     "text": [
      "  0%|          | 0/5595 [00:41<?, ?it/s]"
     ]
    },
    {
     "name": "stdout",
     "output_type": "stream",
     "text": [
      "Epoch 028: | Loss: 0.02885 | Acc: 98.799\n"
     ]
    },
    {
     "name": "stderr",
     "output_type": "stream",
     "text": [
      "  0%|          | 0/5595 [00:42<?, ?it/s]"
     ]
    },
    {
     "name": "stdout",
     "output_type": "stream",
     "text": [
      "Epoch 029: | Loss: 0.02451 | Acc: 99.057\n"
     ]
    },
    {
     "name": "stderr",
     "output_type": "stream",
     "text": [
      "  0%|          | 0/5595 [00:44<?, ?it/s]"
     ]
    },
    {
     "name": "stdout",
     "output_type": "stream",
     "text": [
      "Epoch 030: | Loss: 0.02738 | Acc: 98.897\n"
     ]
    },
    {
     "name": "stderr",
     "output_type": "stream",
     "text": [
      "  0%|          | 0/5595 [00:45<?, ?it/s]"
     ]
    },
    {
     "name": "stdout",
     "output_type": "stream",
     "text": [
      "Epoch 031: | Loss: 0.03945 | Acc: 98.639\n"
     ]
    },
    {
     "name": "stderr",
     "output_type": "stream",
     "text": [
      "  0%|          | 0/5595 [00:46<?, ?it/s]"
     ]
    },
    {
     "name": "stdout",
     "output_type": "stream",
     "text": [
      "Epoch 032: | Loss: 0.03573 | Acc: 98.474\n"
     ]
    },
    {
     "name": "stderr",
     "output_type": "stream",
     "text": [
      "  0%|          | 0/5595 [00:48<?, ?it/s]"
     ]
    },
    {
     "name": "stdout",
     "output_type": "stream",
     "text": [
      "Epoch 033: | Loss: 0.03495 | Acc: 98.588\n"
     ]
    },
    {
     "name": "stderr",
     "output_type": "stream",
     "text": [
      "  0%|          | 0/5595 [00:49<?, ?it/s]"
     ]
    },
    {
     "name": "stdout",
     "output_type": "stream",
     "text": [
      "Epoch 034: | Loss: 0.04557 | Acc: 98.474\n"
     ]
    },
    {
     "name": "stderr",
     "output_type": "stream",
     "text": [
      "  0%|          | 0/5595 [00:51<?, ?it/s]"
     ]
    },
    {
     "name": "stdout",
     "output_type": "stream",
     "text": [
      "Epoch 035: | Loss: 0.03412 | Acc: 98.598\n"
     ]
    },
    {
     "name": "stderr",
     "output_type": "stream",
     "text": [
      "  0%|          | 0/5595 [00:52<?, ?it/s]"
     ]
    },
    {
     "name": "stdout",
     "output_type": "stream",
     "text": [
      "Epoch 036: | Loss: 0.04054 | Acc: 98.320\n"
     ]
    },
    {
     "name": "stderr",
     "output_type": "stream",
     "text": [
      "  0%|          | 0/5595 [00:54<?, ?it/s]"
     ]
    },
    {
     "name": "stdout",
     "output_type": "stream",
     "text": [
      "Epoch 037: | Loss: 0.03612 | Acc: 98.562\n"
     ]
    },
    {
     "name": "stderr",
     "output_type": "stream",
     "text": [
      "  0%|          | 0/5595 [00:55<?, ?it/s]"
     ]
    },
    {
     "name": "stdout",
     "output_type": "stream",
     "text": [
      "Epoch 038: | Loss: 0.02641 | Acc: 98.892\n"
     ]
    },
    {
     "name": "stderr",
     "output_type": "stream",
     "text": [
      "  0%|          | 0/5595 [00:57<?, ?it/s]"
     ]
    },
    {
     "name": "stdout",
     "output_type": "stream",
     "text": [
      "Epoch 039: | Loss: 0.03902 | Acc: 98.716\n"
     ]
    },
    {
     "name": "stderr",
     "output_type": "stream",
     "text": [
      "  0%|          | 0/5595 [00:58<?, ?it/s]"
     ]
    },
    {
     "name": "stdout",
     "output_type": "stream",
     "text": [
      "Epoch 040: | Loss: 0.04358 | Acc: 98.314\n"
     ]
    },
    {
     "name": "stderr",
     "output_type": "stream",
     "text": [
      "  0%|          | 0/5595 [00:59<?, ?it/s]"
     ]
    },
    {
     "name": "stdout",
     "output_type": "stream",
     "text": [
      "Epoch 041: | Loss: 0.03350 | Acc: 98.536\n"
     ]
    },
    {
     "name": "stderr",
     "output_type": "stream",
     "text": [
      "  0%|          | 0/5595 [01:01<?, ?it/s]"
     ]
    },
    {
     "name": "stdout",
     "output_type": "stream",
     "text": [
      "Epoch 042: | Loss: 0.03503 | Acc: 98.758\n"
     ]
    },
    {
     "name": "stderr",
     "output_type": "stream",
     "text": [
      "  0%|          | 0/5595 [01:02<?, ?it/s]"
     ]
    },
    {
     "name": "stdout",
     "output_type": "stream",
     "text": [
      "Epoch 043: | Loss: 0.03135 | Acc: 98.711\n"
     ]
    },
    {
     "name": "stderr",
     "output_type": "stream",
     "text": [
      "  0%|          | 0/5595 [01:03<?, ?it/s]\n"
     ]
    },
    {
     "ename": "KeyboardInterrupt",
     "evalue": "",
     "output_type": "error",
     "traceback": [
      "\u001b[0;31m---------------------------------------------------------------------------\u001b[0m",
      "\u001b[0;31mKeyboardInterrupt\u001b[0m                         Traceback (most recent call last)",
      "\u001b[0;32m/tmp/ipykernel_241726/3985001549.py\u001b[0m in \u001b[0;36m<module>\u001b[0;34m\u001b[0m\n\u001b[1;32m     28\u001b[0m \u001b[0;34m\u001b[0m\u001b[0m\n\u001b[1;32m     29\u001b[0m                 \u001b[0mloss\u001b[0m \u001b[0;34m=\u001b[0m \u001b[0mcriterion\u001b[0m\u001b[0;34m(\u001b[0m\u001b[0my_pred\u001b[0m\u001b[0;34m,\u001b[0m \u001b[0my_batch\u001b[0m\u001b[0;34m.\u001b[0m\u001b[0munsqueeze\u001b[0m\u001b[0;34m(\u001b[0m\u001b[0;36m1\u001b[0m\u001b[0;34m)\u001b[0m\u001b[0;34m)\u001b[0m\u001b[0;34m\u001b[0m\u001b[0;34m\u001b[0m\u001b[0m\n\u001b[0;32m---> 30\u001b[0;31m                 \u001b[0macc\u001b[0m \u001b[0;34m=\u001b[0m \u001b[0mbinary_acc\u001b[0m\u001b[0;34m(\u001b[0m\u001b[0my_pred\u001b[0m\u001b[0;34m,\u001b[0m \u001b[0my_batch\u001b[0m\u001b[0;34m.\u001b[0m\u001b[0munsqueeze\u001b[0m\u001b[0;34m(\u001b[0m\u001b[0;36m1\u001b[0m\u001b[0;34m)\u001b[0m\u001b[0;34m)\u001b[0m\u001b[0;34m\u001b[0m\u001b[0;34m\u001b[0m\u001b[0m\n\u001b[0m\u001b[1;32m     31\u001b[0m \u001b[0;34m\u001b[0m\u001b[0m\n\u001b[1;32m     32\u001b[0m                 \u001b[0mloss\u001b[0m\u001b[0;34m.\u001b[0m\u001b[0mbackward\u001b[0m\u001b[0;34m(\u001b[0m\u001b[0;34m)\u001b[0m\u001b[0;34m\u001b[0m\u001b[0;34m\u001b[0m\u001b[0m\n",
      "\u001b[0;32m/tmp/ipykernel_241726/364576122.py\u001b[0m in \u001b[0;36mbinary_acc\u001b[0;34m(y_pred, y_test)\u001b[0m\n\u001b[1;32m      2\u001b[0m     \u001b[0my_pred_tag\u001b[0m \u001b[0;34m=\u001b[0m \u001b[0mtorch\u001b[0m\u001b[0;34m.\u001b[0m\u001b[0mround\u001b[0m\u001b[0;34m(\u001b[0m\u001b[0mtorch\u001b[0m\u001b[0;34m.\u001b[0m\u001b[0msigmoid\u001b[0m\u001b[0;34m(\u001b[0m\u001b[0my_pred\u001b[0m\u001b[0;34m)\u001b[0m\u001b[0;34m)\u001b[0m\u001b[0;34m\u001b[0m\u001b[0;34m\u001b[0m\u001b[0m\n\u001b[1;32m      3\u001b[0m \u001b[0;34m\u001b[0m\u001b[0m\n\u001b[0;32m----> 4\u001b[0;31m     \u001b[0mcorrect_results_sum\u001b[0m \u001b[0;34m=\u001b[0m \u001b[0;34m(\u001b[0m\u001b[0my_pred_tag\u001b[0m \u001b[0;34m==\u001b[0m \u001b[0my_test\u001b[0m\u001b[0;34m)\u001b[0m\u001b[0;34m.\u001b[0m\u001b[0msum\u001b[0m\u001b[0;34m(\u001b[0m\u001b[0;34m)\u001b[0m\u001b[0;34m.\u001b[0m\u001b[0mfloat\u001b[0m\u001b[0;34m(\u001b[0m\u001b[0;34m)\u001b[0m\u001b[0;34m\u001b[0m\u001b[0;34m\u001b[0m\u001b[0m\n\u001b[0m\u001b[1;32m      5\u001b[0m     \u001b[0macc\u001b[0m \u001b[0;34m=\u001b[0m \u001b[0mcorrect_results_sum\u001b[0m\u001b[0;34m/\u001b[0m\u001b[0my_test\u001b[0m\u001b[0;34m.\u001b[0m\u001b[0mshape\u001b[0m\u001b[0;34m[\u001b[0m\u001b[0;36m0\u001b[0m\u001b[0;34m]\u001b[0m\u001b[0;34m\u001b[0m\u001b[0;34m\u001b[0m\u001b[0m\n\u001b[1;32m      6\u001b[0m     \u001b[0macc\u001b[0m \u001b[0;34m=\u001b[0m \u001b[0mtorch\u001b[0m\u001b[0;34m.\u001b[0m\u001b[0mround\u001b[0m\u001b[0;34m(\u001b[0m\u001b[0macc\u001b[0m \u001b[0;34m*\u001b[0m \u001b[0;36m100\u001b[0m\u001b[0;34m)\u001b[0m\u001b[0;34m\u001b[0m\u001b[0;34m\u001b[0m\u001b[0m\n",
      "\u001b[0;31mKeyboardInterrupt\u001b[0m: "
<<<<<<< HEAD
<<<<<<< HEAD
<<<<<<< HEAD
>>>>>>> f1c5f298babad4687b3d045ca88352e1eccfc0ed
=======
>>>>>>> f1c5f298babad4687b3d045ca88352e1eccfc0ed
=======
>>>>>>> f1c5f298babad4687b3d045ca88352e1eccfc0ed
=======
>>>>>>> f1c5f298babad4687b3d045ca88352e1eccfc0ed
     ]
    }
   ],
   "source": [
<<<<<<< HEAD
<<<<<<< HEAD
<<<<<<< HEAD
<<<<<<< HEAD
    "EPOCHS_shuffle = 15\n",
    "BATCH_SIZE = 256\n",
    "\n",
    "manager = enlighten.get_manager()\n",
    "row_tick = manager.counter(total=373, desc='Shuffle', unit='Shuffles')\n",
    "\n",
    "df_main = pd.DataFrame()\n",
    "\n",
    "\n",
    "# copy x_train_balanced\n",
    "   \n",
    "for m, i in enumerate(iter_list(same_characteristic)):\n",
    "    x_train_shuffle = x_train_balanced.copy()\n",
    "    for j in i:\n",
    "        np.random.shuffle(x_train_shuffle[:, i])\n",
    "\n",
    "    for layer in model.children():\n",
    "        if hasattr(layer, 'reset_parameters'):\n",
    "            layer.reset_parameters()\n",
    "    \n",
    "    epoch_tick = manager.counter(total=EPOCHS_shuffle, desc='Epoch', unit='Epochs', leave=False)\n",
    "    \n",
    "    model.train()\n",
    "    for e in range(1, EPOCHS_shuffle+1):\n",
    "        epoch_loss = 0\n",
    "        epoch_acc = 0\n",
    "        batch_tick = manager.counter(total=len(train_dataloader), desc='Batch', unit='Batch', leave=False)\n",
    "        for X_batch, y_batch in train_dataloader:\n",
    "            X_batch, y_batch = X_batch.to(device), y_batch.to(device)\n",
    "            optimizer.zero_grad()\n",
    "\n",
    "            y_pred = model(X_batch)\n",
    "\n",
    "            loss = criterion(y_pred, y_batch.unsqueeze(1))\n",
    "            acc = binary_acc(y_pred, y_batch.unsqueeze(1))\n",
    "\n",
    "            loss.backward()\n",
    "            optimizer.step()\n",
    "\n",
    "            epoch_loss += loss.item()\n",
    "            epoch_acc += acc.item()\n",
    "            batch_tick.update()\n",
    "        batch_tick.close()\n",
    "        epoch_tick.update()\n",
    "    epoch_tick.close()\n",
    "    row_tick.update()\n",
    "    print(f'Epoch {e+0:03}: | Loss: {epoch_loss/len(train_dataloader):.5f} | Acc: {epoch_acc/len(train_dataloader):.3f}')\n",
    "    \n",
    "    y_pred_list = []\n",
    "    model.eval()\n",
    "    with torch.no_grad():\n",
    "        for X_batch in test_dataloader:\n",
    "            X_batch = X_batch.to(device)\n",
    "            y_test_pred = model(X_batch)\n",
    "            y_test_pred = torch.sigmoid(y_test_pred)\n",
    "            y_pred_tag = torch.round(y_test_pred)\n",
    "            y_pred_list.append(y_pred_tag)\n",
    "        \n",
    "        y_pred_list = torch.concat(y_pred_list)\n",
    "            \n",
    "        acc = torchmetrics.functional.accuracy(y_pred_list.cpu(), torch.Tensor(y_test).int().cpu())\n",
    "        f1 = torchmetrics.functional.f1(y_pred_list.cpu(), torch.Tensor(y_test).int().cpu())\n",
    "        pre = torchmetrics.functional.precision(y_pred_list.cpu(), torch.Tensor(y_test).int().cpu())\n",
    "        recall = torchmetrics.functional.recall(y_pred_list.cpu(), torch.Tensor(y_test).int().cpu())\n",
    "        prcu = torchmetrics.functional.precision_recall_curve(y_pred_list.cpu(), torch.Tensor(y_test).int().cpu(), num_classes=1)\n",
    "        \n",
    "        single_dict = {f'id_{m}': [{\"Accuracy\": float(acc), \"F1\": float(f1), \"Precision\": float(pre), \"Recall\": float(recall), \"Precision-Recall Curve\": prcu}]}\n",
    "        \n",
    "        \n",
    "        df = pd.DataFrame.from_dict(single_dict[list(single_dict.keys())[0]])\n",
    "        df.index =list(single_dict.keys())\n",
    "        print(df)\n",
    "        df_main = pd.concat([df_main, df])\n",
    "        pickle.dump(df_main, open(f\"models/{m}_shuffle_results.pkl\", \"wb\"))\n",
    "        \n",
    "manager.stop()\n"
   ]
  },
  {
   "cell_type": "code",
   "execution_count": 108,
   "id": "c93a5ed5-f46c-484c-8a38-9c369c4d4e7a",
   "metadata": {},
   "outputs": [
    {
     "data": {
      "text/plain": [
       "tensor([0, 1, 1,  ..., 1, 1, 0], dtype=torch.int32)"
      ]
     },
     "execution_count": 108,
     "metadata": {},
     "output_type": "execute_result"
    }
   ],
   "source": [
    "torch.Tensor(y_test).int()"
   ]
  },
  {
   "cell_type": "code",
   "execution_count": 128,
   "id": "fdae5a69-a7ad-4b43-b0b2-d00a3fb83eff",
   "metadata": {},
   "outputs": [],
   "source": [
    "import pandas as pd\n",
    "\n",
    "df = pd.DataFrame.from_dict(single_dict[list(single_dict.keys())[0]])\n",
    "df.index =list(single_dict.keys())"
   ]
  },
  {
   "cell_type": "code",
   "execution_count": 129,
   "id": "9a0590d0-c76a-418b-ad7e-c04e027e5e9f",
   "metadata": {},
   "outputs": [
    {
     "data": {
      "text/html": [
       "<div>\n",
       "<style scoped>\n",
       "    .dataframe tbody tr th:only-of-type {\n",
       "        vertical-align: middle;\n",
       "    }\n",
       "\n",
       "    .dataframe tbody tr th {\n",
       "        vertical-align: top;\n",
       "    }\n",
       "\n",
       "    .dataframe thead th {\n",
       "        text-align: right;\n",
       "    }\n",
       "</style>\n",
       "<table border=\"1\" class=\"dataframe\">\n",
       "  <thead>\n",
       "    <tr style=\"text-align: right;\">\n",
       "      <th></th>\n",
       "      <th>Accuracy</th>\n",
       "      <th>F1</th>\n",
       "      <th>Precision</th>\n",
       "      <th>Recall</th>\n",
       "      <th>Precision-Recall Curve</th>\n",
       "    </tr>\n",
       "  </thead>\n",
       "  <tbody>\n",
       "    <tr>\n",
       "      <th>id_2</th>\n",
       "      <td>tensor(0.9243)</td>\n",
       "      <td>tensor(0.9534)</td>\n",
       "      <td>tensor(0.9886)</td>\n",
       "      <td>tensor(0.9205)</td>\n",
       "      <td>([tensor(0.8405), tensor(0.9886), tensor(1.)],...</td>\n",
       "    </tr>\n",
       "  </tbody>\n",
       "</table>\n",
       "</div>"
      ],
      "text/plain": [
       "            Accuracy              F1       Precision          Recall  \\\n",
       "id_2  tensor(0.9243)  tensor(0.9534)  tensor(0.9886)  tensor(0.9205)   \n",
       "\n",
       "                                 Precision-Recall Curve  \n",
       "id_2  ([tensor(0.8405), tensor(0.9886), tensor(1.)],...  "
      ]
     },
     "execution_count": 129,
     "metadata": {},
     "output_type": "execute_result"
    }
   ],
   "source": [
    "df"
   ]
  },
  {
   "cell_type": "code",
   "execution_count": 135,
   "id": "30ea8c47-4c00-4939-bdb5-69af47ae0dea",
   "metadata": {},
   "outputs": [
    {
     "data": {
      "text/plain": [
       "91.0"
      ]
     },
     "execution_count": 135,
     "metadata": {},
     "output_type": "execute_result"
    }
   ],
   "source": [
    "float(acc)"
   ]
  },
  {
   "cell_type": "code",
   "execution_count": 145,
   "id": "25ed88eb-ce26-4c93-b6ea-8f65c66f0031",
   "metadata": {},
   "outputs": [],
   "source": [
    "df_main.sort_values(by='F1', ascending=True).to_csv('dataframe.csv')"
=======
=======
>>>>>>> f1c5f298babad4687b3d045ca88352e1eccfc0ed
=======
>>>>>>> f1c5f298babad4687b3d045ca88352e1eccfc0ed
=======
>>>>>>> f1c5f298babad4687b3d045ca88352e1eccfc0ed
    "# single-column shuffle iterator\n",
    "def sc(x):\n",
    "    p = X.shape[1]\n",
    "    for i in range(p):\n",
    "        hold = np.array(x[:,i])\n",
    "        np.random.shuffle(x[:,i])\n",
    "        yield x\n",
    "        x[:,i] = hold\n",
    "\n",
    "\n",
    "# copy x_train_balanced\n",
    "x_train_shuffle = x_train_balanced.copy()\n",
    "\n",
    "with tqdm(total=x_train_shuffle.shape[1]) as pbar:\n",
    "    for i, shuffled_data in enumerate(sc(x_train_shuffle)):\n",
    "        train_data = TrainData(torch.FloatTensor(shuffled_data), torch.FloatTensor(y_train_balanced))\n",
    "        train_dataloader = DataLoader(train_data, batch_size=BATCH_SIZE, shuffle=True)\n",
    "\n",
    "        model.train()\n",
    "        for e in range(1, EPOCHS+1):\n",
    "            epoch_loss = 0\n",
    "            epoch_acc = 0\n",
    "            for X_batch, y_batch in train_dataloader:\n",
    "                X_batch, y_batch = X_batch.to(device), y_batch.to(device)\n",
    "                optimizer.zero_grad()\n",
    "\n",
    "                y_pred = model(X_batch)\n",
    "\n",
    "                loss = criterion(y_pred, y_batch.unsqueeze(1))\n",
    "                acc = binary_acc(y_pred, y_batch.unsqueeze(1))\n",
    "\n",
    "                loss.backward()\n",
    "                optimizer.step()\n",
    "\n",
    "                epoch_loss += loss.item()\n",
    "                epoch_acc += acc.item()\n",
    "            tqdm.write(f'Epoch {e+0:03}: | Loss: {epoch_loss/len(train_dataloader):.5f} | Acc: {epoch_acc/len(train_dataloader):.3f}')\n",
    "                \n",
    "        pbar.update(1)\n",
    "\n"
<<<<<<< HEAD
<<<<<<< HEAD
<<<<<<< HEAD
>>>>>>> f1c5f298babad4687b3d045ca88352e1eccfc0ed
=======
>>>>>>> f1c5f298babad4687b3d045ca88352e1eccfc0ed
=======
>>>>>>> f1c5f298babad4687b3d045ca88352e1eccfc0ed
=======
>>>>>>> f1c5f298babad4687b3d045ca88352e1eccfc0ed
   ]
  },
  {
   "cell_type": "code",
   "execution_count": null,
<<<<<<< HEAD
<<<<<<< HEAD
<<<<<<< HEAD
<<<<<<< HEAD
   "id": "c7379880-80b0-431b-b181-e2953e50fcad",
=======
   "id": "c93a5ed5-f46c-484c-8a38-9c369c4d4e7a",
>>>>>>> f1c5f298babad4687b3d045ca88352e1eccfc0ed
=======
   "id": "c93a5ed5-f46c-484c-8a38-9c369c4d4e7a",
>>>>>>> f1c5f298babad4687b3d045ca88352e1eccfc0ed
=======
   "id": "c93a5ed5-f46c-484c-8a38-9c369c4d4e7a",
>>>>>>> f1c5f298babad4687b3d045ca88352e1eccfc0ed
=======
   "id": "c93a5ed5-f46c-484c-8a38-9c369c4d4e7a",
>>>>>>> f1c5f298babad4687b3d045ca88352e1eccfc0ed
   "metadata": {},
   "outputs": [],
   "source": []
  }
 ],
 "metadata": {
  "kernelspec": {
   "display_name": "pedestrians",
   "language": "python",
   "name": "pedestrians"
  },
  "language_info": {
   "codemirror_mode": {
    "name": "ipython",
    "version": 3
   },
   "file_extension": ".py",
   "mimetype": "text/x-python",
   "name": "python",
   "nbconvert_exporter": "python",
   "pygments_lexer": "ipython3",
   "version": "3.9.7"
  }
 },
 "nbformat": 4,
 "nbformat_minor": 5
}
