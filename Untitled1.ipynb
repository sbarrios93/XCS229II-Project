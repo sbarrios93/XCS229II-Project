{
 "cells": [
  {
   "cell_type": "code",
   "execution_count": 28,
   "id": "ad639acf",
   "metadata": {},
   "outputs": [
    {
     "ename": "ModuleNotFoundError",
     "evalue": "No module named 'cv2'",
     "output_type": "error",
     "traceback": [
      "\u001b[0;31m---------------------------------------------------------------------------\u001b[0m",
      "\u001b[0;31mModuleNotFoundError\u001b[0m                       Traceback (most recent call last)",
      "\u001b[0;32m/tmp/ipykernel_2003437/1109031832.py\u001b[0m in \u001b[0;36m<module>\u001b[0;34m\u001b[0m\n\u001b[0;32m----> 1\u001b[0;31m \u001b[0;32mfrom\u001b[0m \u001b[0mdata\u001b[0m\u001b[0;34m.\u001b[0m\u001b[0mjaad\u001b[0m\u001b[0;34m.\u001b[0m\u001b[0mjaad_data\u001b[0m \u001b[0;32mimport\u001b[0m \u001b[0mJAAD\u001b[0m\u001b[0;34m\u001b[0m\u001b[0;34m\u001b[0m\u001b[0m\n\u001b[0m\u001b[1;32m      2\u001b[0m \u001b[0;32mfrom\u001b[0m \u001b[0msrc\u001b[0m \u001b[0;32mimport\u001b[0m \u001b[0mdata_utils\u001b[0m\u001b[0;34m,\u001b[0m \u001b[0mskeleton_pipeline\u001b[0m\u001b[0;34m\u001b[0m\u001b[0;34m\u001b[0m\u001b[0m\n\u001b[1;32m      3\u001b[0m \u001b[0;32mimport\u001b[0m \u001b[0margparse\u001b[0m\u001b[0;34m\u001b[0m\u001b[0;34m\u001b[0m\u001b[0m\n\u001b[1;32m      4\u001b[0m \u001b[0;34m\u001b[0m\u001b[0m\n\u001b[1;32m      5\u001b[0m \u001b[0mRUN_INFERENCE\u001b[0m \u001b[0;34m=\u001b[0m \u001b[0;32mFalse\u001b[0m\u001b[0;34m\u001b[0m\u001b[0;34m\u001b[0m\u001b[0m\n",
      "\u001b[0;32m/gpfs/mira-home/sbarrios/pedestrians/data/jaad/jaad_data.py\u001b[0m in \u001b[0;36m<module>\u001b[0;34m\u001b[0m\n\u001b[1;32m     41\u001b[0m \u001b[0;32mimport\u001b[0m \u001b[0msys\u001b[0m\u001b[0;34m\u001b[0m\u001b[0;34m\u001b[0m\u001b[0m\n\u001b[1;32m     42\u001b[0m \u001b[0;32mimport\u001b[0m \u001b[0mpickle\u001b[0m\u001b[0;34m\u001b[0m\u001b[0;34m\u001b[0m\u001b[0m\n\u001b[0;32m---> 43\u001b[0;31m \u001b[0;32mimport\u001b[0m \u001b[0mcv2\u001b[0m\u001b[0;34m\u001b[0m\u001b[0;34m\u001b[0m\u001b[0m\n\u001b[0m\u001b[1;32m     44\u001b[0m \u001b[0;34m\u001b[0m\u001b[0m\n\u001b[1;32m     45\u001b[0m \u001b[0;32mimport\u001b[0m \u001b[0mnumpy\u001b[0m \u001b[0;32mas\u001b[0m \u001b[0mnp\u001b[0m\u001b[0;34m\u001b[0m\u001b[0;34m\u001b[0m\u001b[0m\n",
      "\u001b[0;31mModuleNotFoundError\u001b[0m: No module named 'cv2'"
     ]
    }
   ],
   "source": [
    "from data.jaad.jaad_data import JAAD\n",
    "from src import data_utils, skeleton_pipeline\n",
    "import argparse\n",
    "\n",
    "RUN_INFERENCE = False\n",
    "parser = argparse.ArgumentParser(description=\"Image pipeline\")\n",
    "\n",
    "# take as argument the value RUN_INFERENCE as --run-inference\n",
    "parser.add_argument(\"--run-inference\", dest=\"run_inference\", action=\"store_true\", help=\"Run inference\")\n",
    "args = parser.parse_args()\n",
    "\n",
    "# %%\n",
    "jaad_dir = \"data/jaad\"\n",
    "\n",
    "jaad = JAAD(jaad_dir)\n",
    "\n",
    "jaad_db = data_utils.JaadDatabase(jaad)\n",
    "jaad_db.run_database_generator()\n",
    "\n",
    "jaad_db.add_cropped_bbox()\n",
    "\n",
    "jaad_db.append_keypoints()\n",
    "\n",
    "\n",
    "if args.run_inference or RUN_INFERENCE:\n",
    "    print(\"Running inference because\", f\"{'--run-inference, = True' * args.run_inference}\", f\"{'RUN_INFERENCE = True' * RUN_INFERENCE}\")\n",
    "    pipeline = skeleton_pipeline.SkeletonPipeline(jaad_db)\n",
    "    pipeline.prepare_images()\n",
    "    jaad_db.append_keypoints()\n"
   ]
  },
  {
   "cell_type": "code",
   "execution_count": null,
   "id": "124f4215",
   "metadata": {},
   "outputs": [],
   "source": []
  }
 ],
 "metadata": {
  "kernelspec": {
   "display_name": "pedestrians",
   "language": "python",
   "name": "pedestrians"
  },
  "language_info": {
   "codemirror_mode": {
    "name": "ipython",
    "version": 3
   },
   "file_extension": ".py",
   "mimetype": "text/x-python",
   "name": "python",
   "nbconvert_exporter": "python",
   "pygments_lexer": "ipython3",
   "version": "3.9.7"
  }
 },
 "nbformat": 4,
 "nbformat_minor": 5
}
