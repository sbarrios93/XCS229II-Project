{
 "cells": [
  {
   "cell_type": "code",
   "execution_count": 2,
   "metadata": {},
   "outputs": [],
   "source": [
    "from pathlib import Path\n",
    "import pickle\n",
    "import numpy as np\n",
    "from scipy import signal\n",
    "import cv2"
   ]
  },
  {
   "cell_type": "code",
   "execution_count": 3,
   "metadata": {},
   "outputs": [
    {
     "data": {
      "text/plain": [
       "True"
      ]
     },
     "execution_count": 3,
     "metadata": {},
     "output_type": "execute_result"
    }
   ],
   "source": [
    "video_path = Path('data/jaad/JAAD_clips/video_0021.mp4')\n",
    "keypoints = Path('data/processed/jaad_database.pkl')\n",
    "keypoints.exists()"
   ]
  },
  {
   "cell_type": "code",
   "execution_count": 4,
   "metadata": {},
   "outputs": [],
   "source": [
    "with open(str(keypoints), 'rb') as f:\n",
    "    db = pickle.load(f)"
   ]
  },
  {
   "cell_type": "code",
   "execution_count": 4,
   "metadata": {},
   "outputs": [
    {
     "ename": "NameError",
     "evalue": "name 'db' is not defined",
     "output_type": "error",
     "traceback": [
      "\u001b[0;31m---------------------------------------------------------------------------\u001b[0m",
      "\u001b[0;31mNameError\u001b[0m                                 Traceback (most recent call last)",
      "\u001b[0;32m/var/folders/w3/mpbw0w2d5239lm7g55vdjzp80000gn/T/ipykernel_9403/2277040590.py\u001b[0m in \u001b[0;36m<module>\u001b[0;34m\u001b[0m\n\u001b[0;32m----> 1\u001b[0;31m \u001b[0mskeletons\u001b[0m \u001b[0;34m=\u001b[0m \u001b[0mdb\u001b[0m\u001b[0;34m[\u001b[0m\u001b[0;34m'video_0021'\u001b[0m\u001b[0;34m]\u001b[0m\u001b[0;34m[\u001b[0m\u001b[0;34m'ped_annotations'\u001b[0m\u001b[0;34m]\u001b[0m\u001b[0;34m[\u001b[0m\u001b[0;34m'0_21_92b'\u001b[0m\u001b[0;34m]\u001b[0m\u001b[0;34m[\u001b[0m\u001b[0;34m'skeleton_keypoints'\u001b[0m\u001b[0;34m]\u001b[0m\u001b[0;34m\u001b[0m\u001b[0;34m\u001b[0m\u001b[0m\n\u001b[0m",
      "\u001b[0;31mNameError\u001b[0m: name 'db' is not defined"
     ]
    }
   ],
   "source": [
    "skeletons = db['video_0021']['ped_annotations']['0_21_92b']['skeleton_keypoints']"
   ]
  },
  {
   "cell_type": "code",
   "execution_count": 1,
   "metadata": {},
   "outputs": [
    {
     "ename": "NameError",
     "evalue": "name 'skeletons' is not defined",
     "output_type": "error",
     "traceback": [
      "\u001b[0;31m---------------------------------------------------------------------------\u001b[0m",
      "\u001b[0;31mNameError\u001b[0m                                 Traceback (most recent call last)",
      "\u001b[0;32m/var/folders/w3/mpbw0w2d5239lm7g55vdjzp80000gn/T/ipykernel_9403/2666202065.py\u001b[0m in \u001b[0;36m<module>\u001b[0;34m\u001b[0m\n\u001b[0;32m----> 1\u001b[0;31m \u001b[0mskeletons\u001b[0m\u001b[0;34m\u001b[0m\u001b[0;34m\u001b[0m\u001b[0m\n\u001b[0m",
      "\u001b[0;31mNameError\u001b[0m: name 'skeletons' is not defined"
     ]
    }
   ],
   "source": [
    "skeletons"
   ]
  },
  {
   "cell_type": "code",
   "execution_count": 7,
   "metadata": {},
   "outputs": [],
   "source": [
    "stack = np.vstack(skeletons[48:])[:, :2].reshape(-1, 50).astype(np.int32)\n",
    "stack_smooth = stack.copy()\n",
    "\n"
   ]
  },
  {
   "cell_type": "code",
   "execution_count": 8,
   "metadata": {},
   "outputs": [
    {
     "data": {
      "text/plain": [
       "array([   0,    0,    0,    0,    0,    0,    0,    0,    0,    0,   61,\n",
       "         39,    0,    1,   61,   39,    0,    1,   61,   40,    0,    1,\n",
       "         61,   40,    0,    1,    1,    1,    1,    0,  368,  248,    1,\n",
       "          1,   62,   38, -368, -221,  368,  249, -122,  -83,  368,  249,\n",
       "          1,    1,    0,    0,    0,    1], dtype=int32)"
      ]
     },
     "execution_count": 8,
     "metadata": {},
     "output_type": "execute_result"
    }
   ],
   "source": [
    "stack[1] - stack_smooth[1]"
   ]
  },
  {
   "cell_type": "code",
   "execution_count": 9,
   "metadata": {},
   "outputs": [],
   "source": [
    "with open('/Users/seba/Downloads/stack.npy', 'wb') as f:\n",
    "    np.save(f, stack)\n",
    "with open('/Users/seba/Downloads/stack_smooth.npy', 'wb') as f:\n",
    "    np.save(f, stack_smooth)"
   ]
  },
  {
   "cell_type": "code",
   "execution_count": 10,
   "metadata": {},
   "outputs": [
    {
     "data": {
      "text/plain": [
       "array([[   0,    0,    0, ...,    0, 1075,  721],\n",
       "       [   0,    0,    0, ...,    0, 1074,  724],\n",
       "       [   0,    0,    0, ...,    0, 1074,  726],\n",
       "       ...,\n",
       "       [1844,  510, 1841, ...,    0,    0,    0],\n",
       "       [1902,  499, 1902, ...,    0,    0,    0],\n",
       "       [   0,    0,    0, ...,    0,    0,    0]], dtype=int32)"
      ]
     },
     "execution_count": 10,
     "metadata": {},
     "output_type": "execute_result"
    }
   ],
   "source": [
    "stack"
   ]
  },
  {
   "cell_type": "code",
   "execution_count": 25,
   "metadata": {},
   "outputs": [],
   "source": []
  },
  {
   "cell_type": "code",
   "execution_count": 33,
   "metadata": {},
   "outputs": [
    {
     "name": "stderr",
     "output_type": "stream",
     "text": [
      "OpenCV: FFMPEG: tag 0x00000000/'????' is not supported with codec id 13 and format 'mp4 / MP4 (MPEG-4 Part 14)'\n",
      "[mp4 @ 0x282a6c000] Could not find tag for codec rawvideo in stream #0, codec not currently supported in container\n"
     ]
    }
   ],
   "source": [
    "window_length, polyorder = 7, 3\n",
    "cleaned_points = []\n",
    "\n",
    "for i in range(stack.shape[1]):\n",
    "    stack_smooth[:, i] = signal.savgol_filter(stack[:, i], window_length, polyorder)\n",
    "    \n",
    "for i in range(stack_smooth.shape[0]):\n",
    "    points = list(zip(stack_smooth[i,::2], stack_smooth[i,1::2]))\n",
    "    cleaned_points.append(points)\n",
    "    \n",
    "circle_color, line_color = (0,255,255), (0,255,0)\n",
    "\n",
    "cap = cv2.VideoCapture(str(video_path))\n",
    "\n",
    "n_frames = int(cap.get(cv2.CAP_PROP_FRAME_COUNT))\n",
    "fps = float(cap.get(cv2.CAP_PROP_FPS))\n",
    "\n",
    "ok, frame = cap.read()\n",
    "frame_height, frame_width = frame.shape[:2]\n",
    "\n",
    "h = 1080\n",
    "w = 1920\n",
    "\n",
    "# Define the output\n",
    "out_path = '/Users/seba/Downloads/output_stack_smooth.mp4'\n",
    "output = cv2.VideoWriter(out_path, 0, fps, (w, h))\n",
    "fourcc = cv2.VideoWriter_fourcc(*'mp4v')\n",
    "writer = None\n",
    "(f_h, f_w) = (h, w)\n",
    "zeros = None\n",
    "\n",
    "# There are 25 points in the skeleton\n",
    "pairs = [[17,18], # head\n",
    "         [17,5],[17,6], # sholders\n",
    "         [5,7],[7,9],[6,8],[8,10], # arms\n",
    "         [17,11],[17,12],[11,12], # hips\n",
    "         [11,13],[13,15],[12,14],[14,16]] # legs\n",
    "\n",
    "frame_number = 0\n",
    "\n",
    "\n",
    "\n",
    "\n",
    "while True:\n",
    "    ok, frame = cap.read()\n",
    "\n",
    "    if not ok:\n",
    "        break\n",
    "\n",
    "    frame = cv2.resize(frame, (w, h), cv2.INTER_AREA)\n",
    "    frame_copy = np.copy(frame)\n",
    "\n",
    "    if frame_number >= 48 and frame_number <= 170:\n",
    "        points = cleaned_points[frame_number-48]\n",
    "        for i in range(len(points)):\n",
    "            xy = tuple(np.array([points[i][0], points[i][1]], int))\n",
    "            cv2.circle(frame_copy, xy, 2, circle_color, -1)\n",
    "\n",
    "        for pair in pairs:\n",
    "            partA = pair[0]\n",
    "            partB = pair[1]\n",
    "            cv2.line(frame_copy, points[partA], points[partB], line_color, 1, lineType=cv2.LINE_AA)\n",
    "\n",
    "\n",
    "    if writer is None:\n",
    "        writer = cv2.VideoWriter(out_path, fourcc, fps,\n",
    "                                 (f_w, f_h), True)\n",
    "        zeros = np.zeros((f_h, f_w), dtype=\"uint8\")\n",
    "\n",
    "    writer.write(frame_copy)\n",
    "\n",
    "    cv2.imshow('Output-Skeleton', frame_copy)\n",
    "\n",
    "    k = cv2.waitKey(100)\n",
    "    if k == 27:\n",
    "        break\n",
    "\n",
    "    frame_number+=1\n",
    "\n",
    "cv2.destroyAllWindows()\n",
    "writer.release()"
   ]
  },
  {
   "cell_type": "code",
   "execution_count": 23,
   "metadata": {},
   "outputs": [
    {
     "data": {
      "text/plain": [
       "<module 'cv2' from '/Users/seba/miniforge3/envs/pedestrians/lib/python3.9/site-packages/cv2.cpython-39-darwin.so'>"
      ]
     },
     "execution_count": 23,
     "metadata": {},
     "output_type": "execute_result"
    }
   ],
   "source": [
    "cv2"
   ]
  },
  {
   "cell_type": "code",
   "execution_count": 14,
   "metadata": {},
   "outputs": [
    {
     "data": {
      "text/plain": [
       "131"
      ]
     },
     "execution_count": 14,
     "metadata": {},
     "output_type": "execute_result"
    }
   ],
   "source": [
    "frame_number-48"
   ]
  },
  {
   "cell_type": "code",
   "execution_count": 35,
   "metadata": {},
   "outputs": [],
   "source": [
    "from sklearn.base import BaseEstimator, TransformerMixin\n",
    "class InterpolateKeypoints(BaseEstimator, TransformerMixin):\n",
    "    \"\"\"Interpolates between the specified keypoints.\n",
    "    I.e., creates intermediate points between connect_keypoints which\n",
    "    can help enrichen the point clouds inputted into the Persistence\n",
    "    calculator.\n",
    "    Parameters\n",
    "    ----------\n",
    "    connect_keypoints : array of tuples\n",
    "        Each tuple should have the form (from, to) which specifies which\n",
    "        points in the data to add points between.\n",
    "    number_of_points : int, optional, default=2\n",
    "        Specifies how many points to add between every pair of points.\n",
    "    \"\"\"\n",
    "\n",
    "    def __init__(self, connect_keypoints, number_of_points=2):\n",
    "        self.connect_keypoints = connect_keypoints\n",
    "        self.number_of_points = number_of_points\n",
    "\n",
    "    def fit(self, X, y=None, **fit_params):\n",
    "        \"\"\"Returns self unchanged, as there are no parameters to fit.\n",
    "        Parameters\n",
    "        ----------\n",
    "        X : ignored\n",
    "        y : ignored\n",
    "        fit_params : ignored\n",
    "        Returns\n",
    "        -------\n",
    "        self : unchanged\n",
    "        \"\"\"\n",
    "        return self\n",
    "\n",
    "    def transform(self, chunks):\n",
    "        \"\"\"Adds interpolated points between the specified keypoints to the input.\n",
    "        Parameters\n",
    "        ----------\n",
    "        chunks : array-like\n",
    "            shape = [n_chunks, frames_per_chunk, n_keypoints, 2]\n",
    "            Adds values to each subarray in the array.\n",
    "        Returns\n",
    "        -------\n",
    "        chunks : array-like\n",
    "            shape = [n_chunks, frames_per_chunk,\n",
    "                n_keypoints + len(connect_keypoints) * number_of_points\n",
    "                , 2]\n",
    "        \"\"\"\n",
    "        return np.array([self._connect_keypoints(chunk) for chunk in chunks])\n",
    "\n",
    "    def _connect_keypoints(self, chunk):\n",
    "        new_number_of_keypoints = chunk.shape[1] + \\\n",
    "            len(self.connect_keypoints) * self.number_of_points\n",
    "\n",
    "        connected_chunk = np.zeros((chunk.shape[0], new_number_of_keypoints, chunk.shape[2]))\n",
    "        connected_chunk[:, :chunk.shape[1]] = chunk\n",
    "\n",
    "        for i, frame in enumerate(chunk):\n",
    "            for j, (from_, to) in enumerate(self.connect_keypoints):\n",
    "                start_index = j * self.number_of_points + chunk.shape[1]\n",
    "                intermediate_points = self._intermediate_points(\n",
    "                    frame, from_, to, self.number_of_points)\n",
    "                for k, points in enumerate(intermediate_points):\n",
    "                    connected_chunk[i, start_index + k] = points\n",
    "\n",
    "        return connected_chunk\n",
    "\n",
    "    def _intermediate_points(self, frame, from_, to, number_of_points):\n",
    "        from_point = frame[from_]\n",
    "        to_point = frame[to]\n",
    "        diff = from_point - to_point\n",
    "        step = diff / (number_of_points + 1)\n",
    "        step_array = np.tile(step, number_of_points).reshape(-1, step.shape[0])\n",
    "\n",
    "        intermediate_points = to_point + step_array * \\\n",
    "            np.arange(1, number_of_points + 1)[:, np.newaxis]\n",
    "        return intermediate_points"
   ]
  },
  {
   "cell_type": "code",
   "execution_count": null,
   "metadata": {},
   "outputs": [],
   "source": []
  }
 ],
 "metadata": {
  "interpreter": {
   "hash": "eca80f5a462a1ad51b75de87be9b1c9b6e5ea7af88b13aec068ddbcf4890aa17"
  },
  "kernelspec": {
   "display_name": "Python 3.9.7 64-bit ('pedestrians': conda)",
   "language": "python",
   "name": "python3"
  },
  "language_info": {
   "codemirror_mode": {
    "name": "ipython",
    "version": 3
   },
   "file_extension": ".py",
   "mimetype": "text/x-python",
   "name": "python",
   "nbconvert_exporter": "python",
   "pygments_lexer": "ipython3",
   "version": "3.9.7"
  },
  "orig_nbformat": 4
 },
 "nbformat": 4,
 "nbformat_minor": 2
}
