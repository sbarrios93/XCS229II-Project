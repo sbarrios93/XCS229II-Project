{
 "cells": [
  {
   "cell_type": "code",
   "execution_count": 23,
   "metadata": {},
   "outputs": [],
   "source": [
    "\n",
    "import glob\n",
    "import json\n",
    "import os\n",
    "import shutil\n",
    "import subprocess\n",
    "import xml.etree.ElementTree as ET\n",
    "from pathlib import Path\n",
    "import time\n",
    "import os\n",
    "\n",
    "import cv2\n",
    "sys.path.append(os.path.dirname(os.getcwd()))\n",
    "os.chdir('/Users/seba/local-projects/pedestrians')\n",
    "\n",
    "\n",
    "from src import data_utils, frame_extract\n",
    "from data.jaad.jaad_data import JAAD\n"
   ]
  },
  {
   "cell_type": "code",
   "execution_count": 25,
   "metadata": {},
   "outputs": [
    {
     "name": "stdout",
     "output_type": "stream",
     "text": [
      "Database saved to data/processed/jaad_database.pkl\n"
     ]
    }
   ],
   "source": [
    "jaad_dir = os.path.join('data/jaad')\n",
    "\n",
    "\n",
    "jaad = JAAD(jaad_dir)\n",
    "\n",
    "jaad_db = data_utils.JaadDatabase(jaad)\n",
    "jaad_db.run_database_generator()\n",
    "\n",
    "jaad_db.add_cropped_bbox()"
   ]
  },
  {
   "cell_type": "code",
   "execution_count": null,
   "metadata": {},
   "outputs": [],
   "source": [
    "class SkeletonPipeline:\n",
    "    def __init__(self, jaad_obj, jaad_db, **opts):\n",
    "        self.jaad_obj = jaad_obj\n",
    "        self.jaad_db = jaad_db\n",
    "        self.opts = opts\n",
    "        \n",
    "        \n",
    "        self.params = dict (\n",
    "            video_name_zero_padding = 4\n",
    "            img_name_zero_padding = 5\n",
    "            video_prefix = 'video_'\n",
    "            cropped_folder_name = 'cropped'\n",
    "        )\n",
    "        assert all(k in self.params for k in self.opts.keys()), \"Wrong option(s).\"\n",
    "        self.params.update(self.opts)\n",
    "    \n",
    "    def extract_frames(self, video_name, output_dir_path):\n",
    "        video_dirpath = self.jaad_obj._clips_path\n",
    "        video_path = str(video_dirpath / video_name) + \".mp4\"\n",
    "        frame_extract.video_to_frames(video_path=video_path, frames_dir=output_dir_path, overwrite=True, every=1, chunk_size=50)\n",
    "    \n",
    "    def crop_image(self):\n",
    "        # TODO Complete this\n",
    "        return None\n",
    "    \n",
    "    def prepare_images(self):\n",
    "        \n",
    "        assert self.jaad_db.cropped_run == True, \"Can't crop images, cropped bounding boxes have not been extracted. Please run `add_cropped_box` first.\"\n",
    "\n",
    "        counter = 0\n",
    "        time_tracker = 0\n",
    "        for video_name in self.jaad_db.db.keys():\n",
    "            t0 = time.time()\n",
    "            \n",
    "            # set required paths\n",
    "            video_image_dir = Path(self.jaad_obj._images_path) / video_name\n",
    "            if not os.path.exists(video_image_dir):\n",
    "                Path.mkdir(video_image_dir, exist_ok=True, parents=True)\n",
    "            \n",
    "            \n",
    "            \n",
    "            \n",
    "        \n",
    "\n",
    "        \n",
    "        \n",
    "        \n",
    "        \n",
    "        \n",
    "        \n",
    "        \n",
    "        "
   ]
  },
  {
   "cell_type": "code",
   "execution_count": 29,
   "metadata": {},
   "outputs": [],
   "source": [
    "p = '/Users/seba/local-projects/pedestrians/data/jaad/images/video_0001'"
   ]
  },
  {
   "cell_type": "code",
   "execution_count": 32,
   "metadata": {},
   "outputs": [],
   "source": [
    "x = Path.mkdir(Path(p), exist_ok=True, parents=True)"
   ]
  },
  {
   "cell_type": "code",
   "execution_count": 33,
   "metadata": {},
   "outputs": [],
   "source": [
    "x"
   ]
  },
  {
   "cell_type": "code",
   "execution_count": 35,
   "metadata": {},
   "outputs": [
    {
     "data": {
      "text/plain": [
       "<method-wrapper '__init__' of NoneType object at 0x104ce4398>"
      ]
     },
     "execution_count": 35,
     "metadata": {},
     "output_type": "execute_result"
    }
   ],
   "source": [
    "x.__init__"
   ]
  },
  {
   "cell_type": "code",
   "execution_count": null,
   "metadata": {},
   "outputs": [],
   "source": []
  }
 ],
 "metadata": {
  "interpreter": {
   "hash": "1983208fc3b676051846d4560864203f9ebdf64099edd8febcc8dd3d7f3fa9dd"
  },
  "kernelspec": {
   "display_name": "Python 3.9.7 64-bit ('ml-base': conda)",
   "language": "python",
   "name": "python3"
  },
  "language_info": {
   "codemirror_mode": {
    "name": "ipython",
    "version": 3
   },
   "file_extension": ".py",
   "mimetype": "text/x-python",
   "name": "python",
   "nbconvert_exporter": "python",
   "pygments_lexer": "ipython3",
   "version": "3.9.7"
  },
  "orig_nbformat": 4
 },
 "nbformat": 4,
 "nbformat_minor": 2
}
