{
 "cells": [
  {
   "cell_type": "code",
   "execution_count": 75,
   "metadata": {},
   "outputs": [],
   "source": [
    "from pathlib import Path\n",
    "\n",
    "output_path = Path(\"~/Downloads/output 2\").expanduser()\n",
    "import gzip\n",
    "import shutil"
   ]
  },
  {
   "cell_type": "code",
   "execution_count": 62,
   "metadata": {},
   "outputs": [],
   "source": [
    "paths = list(output_path.glob(\"*/*\"))"
   ]
  },
  {
   "cell_type": "code",
   "execution_count": 63,
   "metadata": {},
   "outputs": [
    {
     "data": {
      "text/plain": [
       "[PosixPath('/Users/seba/Downloads/output 2/images'),\n",
       " PosixPath('/Users/seba/Downloads/output 2'),\n",
       " PosixPath('/Users/seba/Downloads'),\n",
       " PosixPath('/Users/seba'),\n",
       " PosixPath('/Users'),\n",
       " PosixPath('/')]"
      ]
     },
     "execution_count": 63,
     "metadata": {},
     "output_type": "execute_result"
    }
   ],
   "source": [
    "list(paths[0].parents)"
   ]
  },
  {
   "cell_type": "code",
   "execution_count": 78,
   "metadata": {},
   "outputs": [],
   "source": [
    "for p in paths:\n",
    "    if p.name != \"keypoints\":\n",
    "        if p.is_dir():\n",
    "            for track in Path.iterdir(p):\n",
    "                if track.is_dir():\n",
    "                    for f in Path.iterdir(track):\n",
    "                        if f.name[0] != \".\" and f.name.endswith(\".gz\"):\n",
    "                            new_path = output_path / \"keypoints\" / p.name / list(p.parents)[0].name / track.name\n",
    "                            Path.mkdir(new_path, exist_ok=True, parents=True)\n",
    "                            Path(f).rename(new_path / f.name)\n",
    "                            with gzip.open(str(new_path / f.name), 'rb') as f_in:\n",
    "                                with open(str(new_path / f.name)[:-3], 'wb') as f_out:\n",
    "                                    shutil.copyfileobj(f_in, f_out)"
   ]
  },
  {
   "cell_type": "code",
   "execution_count": 82,
   "metadata": {},
   "outputs": [],
   "source": [
    "for file in list(output_path.rglob('*.gz')):\n",
    "    os.remove(file)"
   ]
  },
  {
   "cell_type": "code",
   "execution_count": 70,
   "metadata": {},
   "outputs": [],
   "source": [
    "x = \"ssa.gz\""
   ]
  },
  {
   "cell_type": "code",
   "execution_count": 72,
   "metadata": {},
   "outputs": [
    {
     "data": {
      "text/plain": [
       "'ssa'"
      ]
     },
     "execution_count": 72,
     "metadata": {},
     "output_type": "execute_result"
    }
   ],
   "source": [
    "x[:-3]"
   ]
  },
  {
   "cell_type": "code",
   "execution_count": 22,
   "metadata": {},
   "outputs": [
    {
     "name": "stdout",
     "output_type": "stream",
     "text": [
      "tar: Error opening archive: Error reading '/Users/seba/Downloads/output'\n"
     ]
    }
   ],
   "source": [
    "!tar -xvf $s."
   ]
  },
  {
   "cell_type": "code",
   "execution_count": null,
   "metadata": {},
   "outputs": [],
   "source": []
  }
 ],
 "metadata": {
  "interpreter": {
   "hash": "eca80f5a462a1ad51b75de87be9b1c9b6e5ea7af88b13aec068ddbcf4890aa17"
  },
  "kernelspec": {
   "display_name": "Python 3.9.7 64-bit ('pedestrians': conda)",
   "language": "python",
   "name": "python3"
  },
  "language_info": {
   "codemirror_mode": {
    "name": "ipython",
    "version": 3
   },
   "file_extension": ".py",
   "mimetype": "text/x-python",
   "name": "python",
   "nbconvert_exporter": "python",
   "pygments_lexer": "ipython3",
   "version": "3.9.7"
  },
  "orig_nbformat": 4
 },
 "nbformat": 4,
 "nbformat_minor": 2
}
